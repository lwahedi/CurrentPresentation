{
 "cells": [
  {
   "cell_type": "markdown",
   "metadata": {
    "slideshow": {
     "slide_type": "slide"
    }
   },
   "source": [
    "# Collecting and Using Data in Python\n",
    "\n",
    "## Laila A. Wahedi, PhD\n",
    "### Massive Data Institute Postdoctoral Fellow <br>McCourt School of Public Policy<br>\n",
    "\n",
    "### Follow along: Wahedi.us, Current Presentation"
   ]
  },
  {
   "cell_type": "markdown",
   "metadata": {
    "slideshow": {
     "slide_type": "slide"
    }
   },
   "source": [
    "# Follow Along\n",
    "\n",
    "1. Go to https://notebooks.azure.com/Laila/libraries/MDI-workshopFA18\n",
    "2. Clone the directory\n",
    "\n",
    "<img src='step1.png'>"
   ]
  },
  {
   "cell_type": "markdown",
   "metadata": {
    "slideshow": {
     "slide_type": "slide"
    }
   },
   "source": [
    "# Follow Along\n",
    "3. Sign in with any Microsoft Account (Hotmail, Outlook, Azure, etc.)\n",
    " * Create a folder to put it in, mark as private or public\n",
    " \n",
    "<img src='step2.png'>"
   ]
  },
  {
   "cell_type": "markdown",
   "metadata": {
    "slideshow": {
     "slide_type": "slide"
    }
   },
   "source": [
    "# Follow Along\n",
    "4. Open a notebook\n",
    "  * Open *this* notebook to have the code to play with\n",
    "   * Data_collection_Analysis2.ipynb\n",
    "  * Open a blank notebook to follow along and try on your own. \n",
    "  \n",
    "<img src='step4.png'>"
   ]
  },
  {
   "cell_type": "markdown",
   "metadata": {
    "slideshow": {
     "slide_type": "slide"
    }
   },
   "source": [
    "# Do you get this error? (Or any other error)\n",
    "\n",
    "### HTTP Error 400. The size of the request headers is too long\n",
    "\n",
    "# Clear your cookies then refresh the browser. "
   ]
  },
  {
   "cell_type": "markdown",
   "metadata": {
    "slideshow": {
     "slide_type": "slide"
    }
   },
   "source": [
    "# Your Environment\n",
    "* Jupyter Notebook Hosted in Azure\n",
    "* Want to install it at home? \n",
    "  * Install the Anaconda distribution of Python\n",
    "  https://www.anaconda.com/download/\n",
    "  * Install Jupyter Notebooks\n",
    "  http://jupyter.org/install"
   ]
  },
  {
   "cell_type": "markdown",
   "metadata": {
    "slideshow": {
     "slide_type": "slide"
    }
   },
   "source": [
    "# Your Environment\n",
    "* ctrl/apple+ enter runs a cell \n",
    "\n",
    "<img src='notebook.png'>"
   ]
  },
  {
   "cell_type": "markdown",
   "metadata": {
    "slideshow": {
     "slide_type": "slide"
    }
   },
   "source": [
    "# Your Environment\n",
    "* Persistent memory\n",
    "  * If you run a cell, results remain as long as the kernel\n",
    "\n",
    "### ORDER MATTERS!\n",
    "\n",
    "<img src='persist.png'>  "
   ]
  },
  {
   "cell_type": "markdown",
   "metadata": {
    "slideshow": {
     "slide_type": "slide"
    }
   },
   "source": [
    "# Agenda for today:\n",
    "* Collect data from APIs\n",
    "* Scrape data\n",
    "* Merge data into a data frame\n",
    "* Statsmodels package\n",
    "* SKLearn package"
   ]
  },
  {
   "cell_type": "markdown",
   "metadata": {
    "slideshow": {
     "slide_type": "slide"
    }
   },
   "source": [
    "# Packages to Import For Today\n",
    "* Should all be included with your Anaconda Python Distribution\n",
    " * Raise your hand for help if you have trouble\n",
    "* Our plots will use matplotlib, similar to plotting in matlab\n",
    "* %matplotlib inline tells Jupyter Notebooks to display your plots\n",
    "* from allows you to import part of a package"
   ]
  },
  {
   "cell_type": "code",
   "execution_count": 1,
   "metadata": {
    "slideshow": {
     "slide_type": "fragment"
    }
   },
   "outputs": [],
   "source": [
    "import pandas as pd\n",
    "import numpy as np\n",
    "import pickle\n",
    "import statsmodels.api as sm\n",
    "from sklearn import cluster\n",
    "import matplotlib.pyplot as plt\n",
    "%matplotlib inline\n",
    "from bs4 import BeautifulSoup as bs\n",
    "import requests\n",
    "import time\n",
    "# from ggplot import *"
   ]
  },
  {
   "cell_type": "markdown",
   "metadata": {
    "slideshow": {
     "slide_type": "slide"
    }
   },
   "source": [
    "# Other Useful Packages (not used today)\n",
    "* ggplot: the familiar ggplot2 you know and love from R\n",
    "* seaborn: Makes your plots prettier\n",
    "* plotly: makes interactive visualizations, similar to shiny\n",
    "* gensim: package for doing natural language processing\n",
    "* scipy: used with numpy to do math. Generates random numbers from distributions, does matrix operations, etc. "
   ]
  },
  {
   "cell_type": "markdown",
   "metadata": {
    "slideshow": {
     "slide_type": "slide"
    }
   },
   "source": [
    "# Scraping\n"
   ]
  },
  {
   "cell_type": "markdown",
   "metadata": {
    "slideshow": {
     "slide_type": "slide"
    }
   },
   "source": [
    "# How the Internet Works\n",
    "\n",
    "* Code is stored on servers\n",
    "* Web addresses point to the location of that code \n",
    "\n",
    "\n",
    "1. Going to an address or clicking a button sends requests to the server for data, \n",
    "2. The server returns the requested content\n",
    "3. Your web browser interprets the code to render the web page \n",
    "\n",
    "<img src='Internet.png'>"
   ]
  },
  {
   "cell_type": "markdown",
   "metadata": {
    "slideshow": {
     "slide_type": "slide"
    }
   },
   "source": [
    "# Scraping: \n",
    "* Collect the website code by emulating the process:\n",
    "  * Can haz cheezburger?\n",
    "  <img src='burger.png'>\n",
    "* Extract the useful information from the scraped code:\n",
    "  * Where's the beef? \n",
    "  <img src='beef.png'>"
   ]
  },
  {
   "cell_type": "markdown",
   "metadata": {
    "slideshow": {
     "slide_type": "slide"
    }
   },
   "source": [
    "# API\n",
    "### Application Programming Interface \n",
    "* The set of rules that govern communication between two pieces of code\n",
    "* Code requires clear expected inputs and outputs\n",
    "* APIs define required inputs to get the outputs in a format you can expect. \n",
    "* Easier than scraping a website because gives you exactly what you ask for\n",
    "\n",
    "<img src=\"beef_direct.png\">"
   ]
  },
  {
   "cell_type": "markdown",
   "metadata": {
    "slideshow": {
     "slide_type": "slide"
    }
   },
   "source": [
    "# API Keys\n",
    "## APIs often require identification\n",
    "* Go to https://docs.airnowapi.org \n",
    "* Register and get a key\n",
    "* Log in to the site\n",
    "* Select web services\n",
    "\n",
    "## DO NOT SHARE YOUR KEY\n",
    "* It will get stolen and used for malicious activity"
   ]
  },
  {
   "cell_type": "markdown",
   "metadata": {
    "slideshow": {
     "slide_type": "slide"
    }
   },
   "source": [
    "# Do Not Share Your Key\n",
    "* Make your notebook private:\n",
    "\n",
    "<img src='settings.png'>"
   ]
  },
  {
   "cell_type": "markdown",
   "metadata": {
    "slideshow": {
     "slide_type": "slide"
    }
   },
   "source": [
    "# Do Not Share Your Key\n",
    "* Make your notebook private:\n",
    "\n",
    "<img src='private.png'>"
   ]
  },
  {
   "cell_type": "markdown",
   "metadata": {
    "slideshow": {
     "slide_type": "slide"
    }
   },
   "source": [
    "# Requests to a Server\n",
    "\n",
    "\n",
    "<div style=\"float: left;width:50%\">\n",
    "<h3> GET</h3>\n",
    "<ul><li>Requests data from the server</li>\n",
    "<li> Encoded into the URL</li></ul>\n",
    "<img src='get.png'>\n",
    "</div>\n",
    "<div style=\"float: left;width:50%\">\n",
    "<h3>POST</h3>\n",
    "<ul><li>Submits data to be processed by the server</li>\n",
    "<li>For example, filter the data</li>\n",
    "<li>Can attach additional data not directly in the url</li></ul>\n",
    "<img src='post.png'>\n",
    "</div>"
   ]
  },
  {
   "cell_type": "markdown",
   "metadata": {
    "slideshow": {
     "slide_type": "slide"
    }
   },
   "source": [
    "# Using an API\n",
    "* Change the parameters. What changes?\n",
    "\n",
    "<img src='api.png'>"
   ]
  },
  {
   "cell_type": "markdown",
   "metadata": {
    "slideshow": {
     "slide_type": "slide"
    }
   },
   "source": [
    "# Requests encoded in the URL\n",
    "### Parsing a URL\n",
    "\n",
    "### <font color=\"blue\">http://www.airnowapi.org/aq/observation/zipCode/historical/</font><font color=\"red\">?</font><br><font color=\"green\">format</font>=<font color=\"purple\">application/json</font><font color=\"orange\">&<br></font><font color=\"green\">zipCode</font>=<font color=\"purple\">20007</font><font color=\"orange\">&</font><br><font color=\"green\">date</font>=<font color=\"purple\">2017-09-05T00-0000</font><font color=\"orange\">&</font><br><font color=\"green\">distance</font>=<font color=\"purple\">25</font><font color=\"orange\">&</font><br><font color=\"green\">API_KEY</font>=<font color=\"purple\">D9AA91E7-070D-4221-867CC-XXXXXXXXXXX</font>\n",
    "\n",
    "* The base URL or endpoint is:<br>\n",
    "<font color=\"blue\">http://www.airnowapi.org/aq/observation/zipCode/historical/</font>\n",
    "\n",
    "* <font color=\"red\">?</font> tells us that this is a query. \n",
    "* <font color=\"orange\">&</font> separates name, value pairs within the request.\n",
    "\n",
    "* Five <font color=\"green\"><strong>name</strong></font>, <font color=\"purple\"><strong>value</strong></font> pairs POSTED \n",
    " * format, zipCode, date, distance, API_KEY"
   ]
  },
  {
   "cell_type": "markdown",
   "metadata": {
    "slideshow": {
     "slide_type": "slide"
    }
   },
   "source": [
    "# Request from Python\n",
    "### prepare the url\n",
    "* List of attributes\n",
    "* Join them with \"&\" to form a string"
   ]
  },
  {
   "cell_type": "code",
   "execution_count": 3,
   "metadata": {
    "slideshow": {
     "slide_type": "fragment"
    }
   },
   "outputs": [
    {
     "name": "stdout",
     "output_type": "stream",
     "text": [
      "http://www.mywebsite.com/data/apikey1=value1&key2=value2&API_KEY=39DC3727-09BD-XXXX-XXXX-XXXXXXXXXXXX\n"
     ]
    }
   ],
   "source": [
    "base_url = \"http://www.mywebsite.com/data/api?\"\n",
    "attributes = [\"key1=value1\",\n",
    "            \"key2=value2\",\n",
    "            \"API_KEY=39DC3727-09BD-XXXX-XXXX-XXXXXXXXXXXX\"\n",
    "             ]\n",
    "post_url = '&'.join(attributes)\n",
    "print(base_url+post_url)"
   ]
  },
  {
   "cell_type": "markdown",
   "metadata": {
    "slideshow": {
     "slide_type": "slide"
    }
   },
   "source": [
    "# Prepare another URL on your own"
   ]
  },
  {
   "cell_type": "code",
   "execution_count": 4,
   "metadata": {
    "slideshow": {
     "slide_type": "fragment"
    }
   },
   "outputs": [
    {
     "name": "stdout",
     "output_type": "stream",
     "text": [
      "http://www.airnowapi.org/aq/observation/zipCode/historical/format=application/json&zipCode=20007&date=2017-09-05T00-0000&distance=25&API_KEY=39DC3727-09BD-48C4-BBD8-XXXXXXXXXXXX\n"
     ]
    }
   ],
   "source": [
    "base_url = \"http://www.airnowapi.org/aq/observation/zipCode/historical/\"\n",
    "attributes = [\"format=application/json\",\n",
    "            \"zipCode=20007\",\n",
    "            \"date=2017-09-05T00-0000\",\n",
    "            \"distance=25\",\n",
    "            \"API_KEY=39DC3727-09BD-48C4-BBD8-XXXXXXXXXXXX\"\n",
    "             ]\n",
    "post_url = '&'.join(attributes)\n",
    "print(base_url+post_url)"
   ]
  },
  {
   "cell_type": "markdown",
   "metadata": {
    "slideshow": {
     "slide_type": "fragment"
    }
   },
   "source": [
    "#### Where did the ? go? "
   ]
  },
  {
   "cell_type": "markdown",
   "metadata": {
    "slideshow": {
     "slide_type": "slide"
    }
   },
   "source": [
    "# Requests from Python\n",
    "* Use requests package\n",
    "* .get(url,post) for get and post requests\n",
    " * First parameter: url for get request\n",
    " * Optional second parameter: post data if doing a post request\n",
    " * Requests posts the data to the url, so you don't need to add a ? to the base url\n",
    " * Leave the post data out for a get request instead of a post request\n",
    "* Requested json format\n",
    "    * Returns list of dictionaries\n",
    "    * Look at the returned keys"
   ]
  },
  {
   "cell_type": "code",
   "execution_count": 17,
   "metadata": {
    "slideshow": {
     "slide_type": "fragment"
    }
   },
   "outputs": [
    {
     "name": "stdout",
     "output_type": "stream",
     "text": [
      "{'DateObserved': '2017-09-05 ', 'HourObserved': 0, 'LocalTimeZone': 'EST', 'ReportingArea': 'Metropolitan Washington', 'StateCode': 'DC', 'Latitude': 38.919, 'Longitude': -77.013, 'ParameterName': 'OZONE', 'AQI': 47, 'Category': {'Number': 1, 'Name': 'Good'}}\n"
     ]
    }
   ],
   "source": [
    "ingredients=requests.get(base_url, post_url)\n",
    "ingredients = ingredients.json()\n",
    "print(ingredients[0])"
   ]
  },
  {
   "cell_type": "markdown",
   "metadata": {
    "slideshow": {
     "slide_type": "slide"
    }
   },
   "source": [
    "# View Returned Data:\n",
    "* Each list gives a different parameter for zip code and date we searched"
   ]
  },
  {
   "cell_type": "code",
   "execution_count": 18,
   "metadata": {
    "slideshow": {
     "slide_type": "fragment"
    }
   },
   "outputs": [
    {
     "name": "stdout",
     "output_type": "stream",
     "text": [
      "For Location  Metropolitan Washington  the AQI for  OZONE is  47\n",
      "For Location  Metropolitan Washington  the AQI for  PM2.5 is  61\n",
      "For Location  Metropolitan Washington  the AQI for  PM10 is  13\n"
     ]
    }
   ],
   "source": [
    "for item in ingredients:\n",
    "           AQIType = item['ParameterName']\n",
    "           City=item['ReportingArea']\n",
    "           AQIValue=item['AQI']\n",
    "           print(\"For Location \", City, \" the AQI for \", AQIType, \"is \", AQIValue)"
   ]
  },
  {
   "cell_type": "markdown",
   "metadata": {
    "slideshow": {
     "slide_type": "slide"
    }
   },
   "source": [
    "# Ethics\n",
    "* Check the websites terms of use\n",
    "* <strong>Don't hit too hard:</strong>\n",
    "    * Insert pauses in your code to act more like a human\n",
    "    * Scraping can look like an attack\n",
    "    * Server will block you without pauses\n",
    "* APIs often have rate limits\n",
    "* Use the time package to pause for a second between hits"
   ]
  },
  {
   "cell_type": "code",
   "execution_count": null,
   "metadata": {
    "collapsed": true,
    "slideshow": {
     "slide_type": "fragment"
    }
   },
   "outputs": [],
   "source": [
    "time.sleep(1)"
   ]
  },
  {
   "cell_type": "markdown",
   "metadata": {
    "slideshow": {
     "slide_type": "slide"
    }
   },
   "source": [
    "# Collect Our Data\n",
    "### Python helps us automate repetitive tasks. \n",
    "* Don't download each datapoint you want separately\n",
    "* Get a list of zip codes we want\n",
    " * take a subset to demo, so it doesn't take too long and so we don't all hit too hard from the same ip\n",
    " * California zip codes from asthma emergency room visits"
   ]
  },
  {
   "cell_type": "markdown",
   "metadata": {
    "slideshow": {
     "slide_type": "slide"
    }
   },
   "source": [
    "# Review from last week: Asthma Data\n",
    "* Load asthma data from csv\n",
    "* Display a few rows\n",
    "* Fix the zip codes\n",
    "* Pivot to have one row per zip code (repeated rows for children, adults, all)"
   ]
  },
  {
   "cell_type": "markdown",
   "metadata": {
    "slideshow": {
     "slide_type": "slide"
    }
   },
   "source": [
    "# Load from csv, display"
   ]
  },
  {
   "cell_type": "code",
   "execution_count": 7,
   "metadata": {
    "slideshow": {
     "slide_type": "fragment"
    }
   },
   "outputs": [
    {
     "data": {
      "text/html": [
       "<div>\n",
       "<style scoped>\n",
       "    .dataframe tbody tr th:only-of-type {\n",
       "        vertical-align: middle;\n",
       "    }\n",
       "\n",
       "    .dataframe tbody tr th {\n",
       "        vertical-align: top;\n",
       "    }\n",
       "\n",
       "    .dataframe thead th {\n",
       "        text-align: right;\n",
       "    }\n",
       "</style>\n",
       "<table border=\"1\" class=\"dataframe\">\n",
       "  <thead>\n",
       "    <tr style=\"text-align: right;\">\n",
       "      <th></th>\n",
       "      <th>Year</th>\n",
       "      <th>ZIP code</th>\n",
       "      <th>Age Group</th>\n",
       "      <th>Number of Visits</th>\n",
       "      <th>Age-adjusted rate</th>\n",
       "      <th>County Fips code</th>\n",
       "      <th>County</th>\n",
       "    </tr>\n",
       "  </thead>\n",
       "  <tbody>\n",
       "    <tr>\n",
       "      <th>0</th>\n",
       "      <td>2015</td>\n",
       "      <td>90004\\n(34.07646, -118.309453)</td>\n",
       "      <td>Children (0-17)</td>\n",
       "      <td>117.0</td>\n",
       "      <td>91.7</td>\n",
       "      <td>6037</td>\n",
       "      <td>LOS ANGELES</td>\n",
       "    </tr>\n",
       "    <tr>\n",
       "      <th>1</th>\n",
       "      <td>2015</td>\n",
       "      <td>90011\\n(34.007055, -118.258872)</td>\n",
       "      <td>Children (0-17)</td>\n",
       "      <td>381.0</td>\n",
       "      <td>102.8</td>\n",
       "      <td>6037</td>\n",
       "      <td>LOS ANGELES</td>\n",
       "    </tr>\n",
       "  </tbody>\n",
       "</table>\n",
       "</div>"
      ],
      "text/plain": [
       "   Year                         ZIP code        Age Group  Number of Visits  \\\n",
       "0  2015   90004\\n(34.07646, -118.309453)  Children (0-17)             117.0   \n",
       "1  2015  90011\\n(34.007055, -118.258872)  Children (0-17)             381.0   \n",
       "\n",
       "   Age-adjusted rate  County Fips code       County  \n",
       "0               91.7              6037  LOS ANGELES  \n",
       "1              102.8              6037  LOS ANGELES  "
      ]
     },
     "execution_count": 7,
     "metadata": {},
     "output_type": "execute_result"
    }
   ],
   "source": [
    "asthma_data = pd.read_csv('asthma-emergency-department-visit-rates-by-zip-code.csv')\n",
    "asthma_data.head(2)"
   ]
  },
  {
   "cell_type": "markdown",
   "metadata": {
    "slideshow": {
     "slide_type": "slide"
    }
   },
   "source": [
    "# Fix the zip codes\n",
    "* Fix zip codes"
   ]
  },
  {
   "cell_type": "code",
   "execution_count": 8,
   "metadata": {
    "slideshow": {
     "slide_type": "fragment"
    }
   },
   "outputs": [
    {
     "data": {
      "text/html": [
       "<div>\n",
       "<style scoped>\n",
       "    .dataframe tbody tr th:only-of-type {\n",
       "        vertical-align: middle;\n",
       "    }\n",
       "\n",
       "    .dataframe tbody tr th {\n",
       "        vertical-align: top;\n",
       "    }\n",
       "\n",
       "    .dataframe thead th {\n",
       "        text-align: right;\n",
       "    }\n",
       "</style>\n",
       "<table border=\"1\" class=\"dataframe\">\n",
       "  <thead>\n",
       "    <tr style=\"text-align: right;\">\n",
       "      <th></th>\n",
       "      <th>Year</th>\n",
       "      <th>Age Group</th>\n",
       "      <th>Number of Visits</th>\n",
       "      <th>Age-adjusted rate</th>\n",
       "      <th>County Fips code</th>\n",
       "      <th>County</th>\n",
       "      <th>zip</th>\n",
       "      <th>coordinates</th>\n",
       "    </tr>\n",
       "  </thead>\n",
       "  <tbody>\n",
       "    <tr>\n",
       "      <th>0</th>\n",
       "      <td>2015</td>\n",
       "      <td>Children (0-17)</td>\n",
       "      <td>117.0</td>\n",
       "      <td>91.7</td>\n",
       "      <td>6037</td>\n",
       "      <td>LOS ANGELES</td>\n",
       "      <td>90004</td>\n",
       "      <td>(34.07646, -118.309453)</td>\n",
       "    </tr>\n",
       "    <tr>\n",
       "      <th>1</th>\n",
       "      <td>2015</td>\n",
       "      <td>Children (0-17)</td>\n",
       "      <td>381.0</td>\n",
       "      <td>102.8</td>\n",
       "      <td>6037</td>\n",
       "      <td>LOS ANGELES</td>\n",
       "      <td>90011</td>\n",
       "      <td>(34.007055, -118.258872)</td>\n",
       "    </tr>\n",
       "  </tbody>\n",
       "</table>\n",
       "</div>"
      ],
      "text/plain": [
       "   Year        Age Group  Number of Visits  Age-adjusted rate  \\\n",
       "0  2015  Children (0-17)             117.0               91.7   \n",
       "1  2015  Children (0-17)             381.0              102.8   \n",
       "\n",
       "   County Fips code       County    zip               coordinates  \n",
       "0              6037  LOS ANGELES  90004   (34.07646, -118.309453)  \n",
       "1              6037  LOS ANGELES  90011  (34.007055, -118.258872)  "
      ]
     },
     "execution_count": 8,
     "metadata": {},
     "output_type": "execute_result"
    }
   ],
   "source": [
    "asthma_data[['zip','coordinates']] = asthma_data.loc[:,'ZIP code'].str.split(\n",
    "                                                        pat='\\n',expand=True)\n",
    "asthma_data.drop('ZIP code', axis=1,inplace=True)\n",
    "asthma_data.head(2)"
   ]
  },
  {
   "cell_type": "markdown",
   "metadata": {
    "slideshow": {
     "slide_type": "slide"
    }
   },
   "source": [
    "# Pivot the data so age group are columns"
   ]
  },
  {
   "cell_type": "code",
   "execution_count": 9,
   "metadata": {
    "slideshow": {
     "slide_type": "fragment"
    }
   },
   "outputs": [
    {
     "data": {
      "text/html": [
       "<div>\n",
       "<style scoped>\n",
       "    .dataframe tbody tr th:only-of-type {\n",
       "        vertical-align: middle;\n",
       "    }\n",
       "\n",
       "    .dataframe tbody tr th {\n",
       "        vertical-align: top;\n",
       "    }\n",
       "\n",
       "    .dataframe thead th {\n",
       "        text-align: right;\n",
       "    }\n",
       "</style>\n",
       "<table border=\"1\" class=\"dataframe\">\n",
       "  <thead>\n",
       "    <tr style=\"text-align: right;\">\n",
       "      <th>Age Group</th>\n",
       "      <th>Year</th>\n",
       "      <th>zip</th>\n",
       "      <th>County</th>\n",
       "      <th>coordinates</th>\n",
       "      <th>County Fips code</th>\n",
       "      <th>Adults (18+)</th>\n",
       "      <th>All Ages</th>\n",
       "      <th>Children (0-17)</th>\n",
       "    </tr>\n",
       "  </thead>\n",
       "  <tbody>\n",
       "    <tr>\n",
       "      <th>0</th>\n",
       "      <td>2009</td>\n",
       "      <td>90001</td>\n",
       "      <td>LOS ANGELES</td>\n",
       "      <td>(33.973252, -118.249154)</td>\n",
       "      <td>6037</td>\n",
       "      <td>206.0</td>\n",
       "      <td>409.0</td>\n",
       "      <td>203.0</td>\n",
       "    </tr>\n",
       "    <tr>\n",
       "      <th>1</th>\n",
       "      <td>2009</td>\n",
       "      <td>90002</td>\n",
       "      <td>LOS ANGELES</td>\n",
       "      <td>(33.949079, -118.247877)</td>\n",
       "      <td>6037</td>\n",
       "      <td>204.0</td>\n",
       "      <td>418.0</td>\n",
       "      <td>214.0</td>\n",
       "    </tr>\n",
       "  </tbody>\n",
       "</table>\n",
       "</div>"
      ],
      "text/plain": [
       "Age Group  Year    zip       County               coordinates  \\\n",
       "0          2009  90001  LOS ANGELES  (33.973252, -118.249154)   \n",
       "1          2009  90002  LOS ANGELES  (33.949079, -118.247877)   \n",
       "\n",
       "Age Group  County Fips code  Adults (18+)  All Ages  Children (0-17)  \n",
       "0                      6037         206.0     409.0            203.0  \n",
       "1                      6037         204.0     418.0            214.0  "
      ]
     },
     "execution_count": 9,
     "metadata": {},
     "output_type": "execute_result"
    }
   ],
   "source": [
    "asthma_unstacked = asthma_data.pivot_table(index = ['Year',\n",
    "                                                    'zip',\n",
    "                                                    'County',\n",
    "                                                    'coordinates',\n",
    "                                                    'County Fips code'], \n",
    "                                           columns = 'Age Group', \n",
    "                                           values = 'Number of Visits')\n",
    "asthma_unstacked.reset_index(drop=False,inplace=True)\n",
    "asthma_unstacked.head(2)"
   ]
  },
  {
   "cell_type": "markdown",
   "metadata": {
    "slideshow": {
     "slide_type": "fragment"
    }
   },
   "source": [
    "### Now we have some zip codes!"
   ]
  },
  {
   "cell_type": "markdown",
   "metadata": {
    "slideshow": {
     "slide_type": "slide"
    }
   },
   "source": [
    "# Automate Data Collection\n",
    "* Request the data for those zipcodes on a day in 2015 (you pick, fire season July-Oct)\n",
    " * Be sure to sleep between requests\n",
    "* Store that data as you go into a dictionary\n",
    " * Key: zip code\n",
    " * Value: Dictionary of the air quality parameters and their value"
   ]
  },
  {
   "cell_type": "code",
   "execution_count": null,
   "metadata": {
    "collapsed": true,
    "slideshow": {
     "slide_type": "slide"
    }
   },
   "outputs": [],
   "source": [
    "base_url = \"http://www.airnowapi.org/aq/observation/zipCode/historical/\"\n",
    "zips = asthma_unstacked.zip.unique()\n",
    "zips = zips[:450]\n",
    "date =\"date=2015-09-01T00-0000\"\n",
    "api_key = \"API_KEY=39DC3727-09BD-48C4-BBD8-XXXXXXXXXXXX\"\n",
    "return_format = \"format=application/json\"\n",
    "zip_str = \"zipCode=\"\n",
    "post_url = \"&\".join([date,api_key,return_format,zip_str])\n",
    "data_dict = {}\n",
    "for zipcode in zips:\n",
    "    time.sleep(1)\n",
    "    zip_post = post_url + str(zipcode)\n",
    "    ingredients = requests.get(base_url, zip_post)\n",
    "    ingredients = ingredients.json()\n",
    "    zip_data = {}\n",
    "    for data_point in ingredients:\n",
    "        AQIType = data_point['ParameterName']\n",
    "        AQIVal = data_point['AQI']\n",
    "        zip_data[AQIType] = AQIVal\n",
    "    data_dict[zipcode]= zip_data"
   ]
  },
  {
   "cell_type": "code",
   "execution_count": null,
   "metadata": {
    "slideshow": {
     "slide_type": "skip"
    }
   },
   "outputs": [],
   "source": [
    "base_url = \"http://www.airnowapi.org/aq/observation/zipCode/historical/\"\n",
    "zips = asthma_unstacked.zip.unique()\n",
    "date =\"date=2015-09-{}T00-0000\"\n",
    "api_key = \"API_KEY=XXX\"\n",
    "return_format = \"format=application/json\"\n",
    "zip_str = \"zipCode=\"\n",
    "post_url = \"&\".join([date,api_key,return_format,zip_str])\n",
    "# data_dict = {}\n",
    "time.sleep(3600)\n",
    "for d in ['01','05','10','15','20','25','30',]:\n",
    "    if d =='01':\n",
    "        ziplist = zips[449:]\n",
    "    else:\n",
    "        ziplist = zips\n",
    "    for zipcode in ziplist:\n",
    "        time.sleep(1)\n",
    "        zip_post = post_url.format(d) + str(zipcode)\n",
    "        ingredients = requests.get(base_url, zip_post)\n",
    "        try:\n",
    "            ingredients = ingredients.json()\n",
    "        except:\n",
    "            if ingredients.text[0:26]=='<WebServiceError><Message>':\n",
    "                time.sleep(3605)\n",
    "            else:\n",
    "                print(zipcode)\n",
    "        zip_data = {}\n",
    "        for data_point in ingredients:\n",
    "            AQIType = data_point['ParameterName']\n",
    "            AQIVal = data_point['AQI']\n",
    "            zip_data[AQIType] = AQIVal\n",
    "        zip_data['day'] = int(d)\n",
    "        data_dict[zipcode]= zip_data\n",
    "pickle.dump(data_dict,open('ca_aqi_data.p','wb'))"
   ]
  },
  {
   "cell_type": "code",
   "execution_count": 183,
   "metadata": {
    "slideshow": {
     "slide_type": "skip"
    }
   },
   "outputs": [
    {
     "name": "stdout",
     "output_type": "stream",
     "text": [
      "949\n"
     ]
    }
   ],
   "source": [
    "for i, z in enumerate(zips):\n",
    "    if z==zipcode:\n",
    "        print(i)\n",
    "len(data_dict)\n",
    "pickle.dump(data_dict,open('AQI_data_raw.p','wb'))"
   ]
  },
  {
   "cell_type": "markdown",
   "metadata": {
    "slideshow": {
     "slide_type": "slide"
    }
   },
   "source": [
    "# Scraping: Parsing HTML\n",
    "* What about when you don't have an API that returns dictionaries?\n",
    "* HTML is a markup language that displays data (text, images, etc)\n",
    "* Puts content within nested tags to tell your browser how to display it\n",
    "\n",
    "***\n",
    "\n",
    "### &lt;Section_tag>\n",
    "### &emsp; &lt;tag> Content &lt;/tag>\n",
    "### &emsp; &lt;tag> Content &lt;/tag>\n",
    "### &lt; /Section_tag>\n",
    "### &lt;Section_tag>\n",
    "### &emsp; &lt;tag> <font color=\"red\">Beef</font> &lt;/tag>\n",
    "### &lt; /Section_tag>"
   ]
  },
  {
   "cell_type": "markdown",
   "metadata": {
    "slideshow": {
     "slide_type": "slide"
    }
   },
   "source": [
    "# Find the tags that identify the content you want:\n",
    "* First paragraph of wikipedia article: \n",
    "https://en.wikipedia.org/wiki/Data_science\n",
    "* Inspect the webpage: \n",
    " * Windows: ctrl+shift+i\n",
    " * Mac: ctrl+alt+i\n",
    " \n",
    "<img src=\"wikipedia_scrape.png\">\n"
   ]
  },
  {
   "cell_type": "markdown",
   "metadata": {
    "slideshow": {
     "slide_type": "slide"
    }
   },
   "source": [
    "# Parsing HTML with Beautiful Soup\n",
    "### Beautiful Soup takes the raw html and parses the tags so you can search through them. \n",
    "* text attribute returns raw html text from requests\n",
    "* Ignore the warning, default parser is fine\n",
    "* We know it's the first paragraph tag in the body tag, so: \n",
    " * Can find first tag of a type using <strong>.</strong>\n",
    "* What went wrong?"
   ]
  },
  {
   "cell_type": "code",
   "execution_count": 24,
   "metadata": {
    "slideshow": {
     "slide_type": "fragment"
    }
   },
   "outputs": [
    {
     "name": "stdout",
     "output_type": "stream",
     "text": [
      "<p class=\"mw-empty-elt\">\n",
      "</p>\n"
     ]
    }
   ],
   "source": [
    "ingredients = requests.get(\"https://en.wikipedia.org/wiki/Data_science\")\n",
    "soup = bs(ingredients.text)\n",
    "print(soup.body.p)"
   ]
  },
  {
   "cell_type": "markdown",
   "metadata": {
    "slideshow": {
     "slide_type": "slide"
    }
   },
   "source": [
    "# Use Find Feature to Narrow Your Search\n",
    "* Find the unique div we identified\n",
    " * Remember the underscore: \"class_\"\n",
    "* Find the p tag within the resulting html\n",
    "* Use an index to return just the first paragraph tag\n",
    "* Use the text attribute to ignore all the formatting and link tags"
   ]
  },
  {
   "cell_type": "code",
   "execution_count": 15,
   "metadata": {
    "slideshow": {
     "slide_type": "fragment"
    }
   },
   "outputs": [
    {
     "name": "stdout",
     "output_type": "stream",
     "text": [
      "<p><b>Data science</b> is an <a class=\"mw-redirect\" href=\"/wiki/Interdisciplinary\" title=\"Interdisciplinary\">interdisciplinary</a> field that uses scientific methods, processes, algorithms and systems to extract <a href=\"/wiki/Knowledge\" title=\"Knowledge\">knowledge</a> and insights from <a href=\"/wiki/Data\" title=\"Data\">data</a> in various forms, both structured and unstructured,<sup class=\"reference\" id=\"cite_ref-:0_1-0\"><a href=\"#cite_note-:0-1\">[1]</a></sup><sup class=\"reference\" id=\"cite_ref-2\"><a href=\"#cite_note-2\">[2]</a></sup> similar to <a href=\"/wiki/Data_mining\" title=\"Data mining\">data mining</a>.\n",
      "</p>\n",
      "*****************************************\n",
      "Data science is an interdisciplinary field that uses scientific methods, processes, algorithms and systems to extract knowledge and insights from data in various forms, both structured and unstructured,[1][2] similar to data mining.\n",
      "\n"
     ]
    }
   ],
   "source": [
    "parser_div = soup.find(\"div\", class_=\"mw-parser-output\")\n",
    "wiki_content = parser_div.find_all('p')\n",
    "print(wiki_content[1])\n",
    "print('*****************************************')\n",
    "print(wiki_content[1].text)"
   ]
  },
  {
   "cell_type": "markdown",
   "metadata": {
    "slideshow": {
     "slide_type": "slide"
    }
   },
   "source": [
    "# 1. List the contents\n",
    "# 2. Get all links in the history section\n",
    "  * Hint: chrome's inspect replaces \"&\" with \"&amp;\" in links"
   ]
  },
  {
   "cell_type": "markdown",
   "metadata": {
    "slideshow": {
     "slide_type": "slide"
    }
   },
   "source": [
    "# List Contents"
   ]
  },
  {
   "cell_type": "code",
   "execution_count": 28,
   "metadata": {
    "slideshow": {
     "slide_type": "fragment"
    }
   },
   "outputs": [
    {
     "name": "stdout",
     "output_type": "stream",
     "text": [
      "\n",
      "1 History\n",
      "2 Relationship to statistics\n",
      "3 See also\n",
      "4 References\n",
      "\n"
     ]
    }
   ],
   "source": [
    "parser_div = soup.find(\"div\", id=\"toc\")\n",
    "wiki_content = parser_div.find_all('ul')\n",
    "for item in wiki_content:\n",
    "    print(item.text)"
   ]
  },
  {
   "cell_type": "markdown",
   "metadata": {
    "slideshow": {
     "slide_type": "slide"
    }
   },
   "source": [
    "# Get All Links in the History Section\n",
    "* Hint: chrome's inspect replaces \"&\" with \"&amp;\" in links"
   ]
  },
  {
   "cell_type": "code",
   "execution_count": 56,
   "metadata": {
    "slideshow": {
     "slide_type": "fragment"
    }
   },
   "outputs": [
    {
     "name": "stdout",
     "output_type": "stream",
     "text": [
      "['/wiki/Computer_science', '/wiki/Peter_Naur', '/wiki/Datalogy', '#cite_note-15', '#cite_note-16', '#cite_note-Hayashi-3', '/wiki/C.F._Jeff_Wu', '#cite_note-cfjwutk-17', '/wiki/University_of_Michigan', '#cite_note-cfjwu01-18', '#cite_note-cfjwutk-17', '#cite_note-cfjwu02-19', '/wiki/Prasanta_Chandra_Mahalanobis', '/wiki/Indian_Statistical_Institute', '#cite_note-cleveland01-20', '#cite_note-ics12-21', '#cite_note-dsj12-22', '#cite_note-dsj02-23', '#cite_note-jds03-24', '#cite_note-25', '/wiki/Wikipedia:Citation_needed', '/wiki/Jim_Gray_(computer_scientist)', '#cite_note-TansleyTolle2009-4', '#cite_note-BellHey2009-5', '#cite_note-26', '/wiki/Harvard_Business_Review', '#cite_note-Harvard-6', '/wiki/DJ_Patil', '/wiki/Jeff_Hammerbacher', '#cite_note-27', 'http://euads.org', '#cite_note-28', '/wiki/General_Assembly_(school)', '/wiki/The_Data_Incubator', '#cite_note-29', '/wiki/American_Statistical_Association', '#cite_note-ASA-30', '#cite_note-31', 'http://www.gfkl.org/welcome/', '/wiki/University_of_Essex']\n"
     ]
    }
   ],
   "source": [
    "wiki_content = soup.find_all('a',href=True)\n",
    "in_hist = False\n",
    "links = []\n",
    "for l in wiki_content:\n",
    "    link = l['href']\n",
    "    if link == '/w/index.php?title=Data_science&action=edit&section=2':\n",
    "        in_hist = False\n",
    "    if in_hist:\n",
    "        links.append(link)\n",
    "    if link ==\"/w/index.php?title=Data_science&action=edit&section=1\":\n",
    "        in_hist = True\n",
    "print(links)"
   ]
  },
  {
   "cell_type": "markdown",
   "metadata": {
    "slideshow": {
     "slide_type": "slide"
    }
   },
   "source": [
    "# Use a for loop and scrape the first paragraph from a bunch of wikipedia articles\n",
    "* Add your own subjects"
   ]
  },
  {
   "cell_type": "code",
   "execution_count": 20,
   "metadata": {
    "slideshow": {
     "slide_type": "slide"
    }
   },
   "outputs": [
    {
     "name": "stdout",
     "output_type": "stream",
     "text": [
      "{'Data_scraping': 'Data science is an interdisciplinary field that uses scientific methods, processes, algorithms and systems to extract knowledge and insights from data in various forms, both structured and unstructured,[1][2] similar to data mining.\\n', 'Machine_learning': 'Data science is an interdisciplinary field that uses scientific methods, processes, algorithms and systems to extract knowledge and insights from data in various forms, both structured and unstructured,[1][2] similar to data mining.\\n', 'Statistics': 'Data science is an interdisciplinary field that uses scientific methods, processes, algorithms and systems to extract knowledge and insights from data in various forms, both structured and unstructured,[1][2] similar to data mining.\\n', 'Linear_algebra': 'Data science is an interdisciplinary field that uses scientific methods, processes, algorithms and systems to extract knowledge and insights from data in various forms, both structured and unstructured,[1][2] similar to data mining.\\n', 'Cluster_analysis': 'Data science is an interdisciplinary field that uses scientific methods, processes, algorithms and systems to extract knowledge and insights from data in various forms, both structured and unstructured,[1][2] similar to data mining.\\n', 'Scientific_modelling': 'Data science is an interdisciplinary field that uses scientific methods, processes, algorithms and systems to extract knowledge and insights from data in various forms, both structured and unstructured,[1][2] similar to data mining.\\n', 'Analysis': 'Data science is an interdisciplinary field that uses scientific methods, processes, algorithms and systems to extract knowledge and insights from data in various forms, both structured and unstructured,[1][2] similar to data mining.\\n', 'Regression': 'Data science is an interdisciplinary field that uses scientific methods, processes, algorithms and systems to extract knowledge and insights from data in various forms, both structured and unstructured,[1][2] similar to data mining.\\n'}\n"
     ]
    }
   ],
   "source": [
    "topics = ['Data_scraping','Machine_learning','Statistics','Linear_algebra',\n",
    "         'Cluster_analysis','Scientific_modelling','Analysis','Linear_regression']\n",
    "base_url = 'https://en.wikipedia.org/wiki/'\n",
    "paragraphs = []\n",
    "for topic in topics:\n",
    "    url = base_url.format(topic)\n",
    "    ingredients = requests.get(base_url+topic)\n",
    "    soup = bs(ingredients.text)\n",
    "    parser_div = soup.find(\"div\", class_=\"mw-parser-output\")\n",
    "    wiki_content = parser_div.find_all('p')\n",
    "    for p in range(10):\n",
    "        if len(wiki_content[p].text)>10:\n",
    "            paragraphs.append(wiki_content[p].text)\n",
    "            break\n",
    "    time.sleep(1)\n",
    "print(dict(zip(topics,paragraphs)))"
   ]
  },
  {
   "cell_type": "markdown",
   "metadata": {
    "slideshow": {
     "slide_type": "slide"
    }
   },
   "source": [
    "# Back To Our Data\n",
    "* If it's still running, go ahead and stop it by pushing the square at the top of the notebook: \n",
    "<img src=\"interrupt.png\">\n",
    "* Save what you collected, don't want to hit them twice!"
   ]
  },
  {
   "cell_type": "code",
   "execution_count": 61,
   "metadata": {
    "slideshow": {
     "slide_type": "fragment"
    }
   },
   "outputs": [],
   "source": [
    "pickle.dump(data_dict,open('AQI_data_raw.p','wb'))"
   ]
  },
  {
   "cell_type": "markdown",
   "metadata": {
    "slideshow": {
     "slide_type": "slide"
    }
   },
   "source": [
    "# Subset down to the data we have:\n",
    "* use the isin() method to include only those zip codes we've already collected"
   ]
  },
  {
   "cell_type": "code",
   "execution_count": 63,
   "metadata": {
    "slideshow": {
     "slide_type": "fragment"
    }
   },
   "outputs": [],
   "source": [
    "collected = list(data_dict.keys())\n",
    "asthma_2015_sub = asthma_unstacked.loc[(asthma_unstacked.zip.isin(collected))&\n",
    "                                       (asthma_unstacked.Year == 2015),:]"
   ]
  },
  {
   "cell_type": "markdown",
   "metadata": {
    "slideshow": {
     "slide_type": "slide"
    }
   },
   "source": [
    "# Create a dataframe from the new AQI data"
   ]
  },
  {
   "cell_type": "code",
   "execution_count": 67,
   "metadata": {
    "slideshow": {
     "slide_type": "fragment"
    }
   },
   "outputs": [
    {
     "data": {
      "text/html": [
       "<div>\n",
       "<style scoped>\n",
       "    .dataframe tbody tr th:only-of-type {\n",
       "        vertical-align: middle;\n",
       "    }\n",
       "\n",
       "    .dataframe tbody tr th {\n",
       "        vertical-align: top;\n",
       "    }\n",
       "\n",
       "    .dataframe thead th {\n",
       "        text-align: right;\n",
       "    }\n",
       "</style>\n",
       "<table border=\"1\" class=\"dataframe\">\n",
       "  <thead>\n",
       "    <tr style=\"text-align: right;\">\n",
       "      <th></th>\n",
       "      <th>zip</th>\n",
       "      <th>OZONE</th>\n",
       "      <th>PM2.5</th>\n",
       "      <th>PM10</th>\n",
       "    </tr>\n",
       "  </thead>\n",
       "  <tbody>\n",
       "    <tr>\n",
       "      <th>0</th>\n",
       "      <td>90001</td>\n",
       "      <td>36</td>\n",
       "      <td>NaN</td>\n",
       "      <td>NaN</td>\n",
       "    </tr>\n",
       "    <tr>\n",
       "      <th>1</th>\n",
       "      <td>90002</td>\n",
       "      <td>36</td>\n",
       "      <td>NaN</td>\n",
       "      <td>NaN</td>\n",
       "    </tr>\n",
       "    <tr>\n",
       "      <th>2</th>\n",
       "      <td>90003</td>\n",
       "      <td>36</td>\n",
       "      <td>NaN</td>\n",
       "      <td>NaN</td>\n",
       "    </tr>\n",
       "    <tr>\n",
       "      <th>3</th>\n",
       "      <td>90004</td>\n",
       "      <td>54</td>\n",
       "      <td>NaN</td>\n",
       "      <td>NaN</td>\n",
       "    </tr>\n",
       "    <tr>\n",
       "      <th>4</th>\n",
       "      <td>90005</td>\n",
       "      <td>54</td>\n",
       "      <td>NaN</td>\n",
       "      <td>NaN</td>\n",
       "    </tr>\n",
       "  </tbody>\n",
       "</table>\n",
       "</div>"
      ],
      "text/plain": [
       "     zip  OZONE  PM2.5  PM10\n",
       "0  90001     36    NaN   NaN\n",
       "1  90002     36    NaN   NaN\n",
       "2  90003     36    NaN   NaN\n",
       "3  90004     54    NaN   NaN\n",
       "4  90005     54    NaN   NaN"
      ]
     },
     "execution_count": 67,
     "metadata": {},
     "output_type": "execute_result"
    }
   ],
   "source": [
    "aqi_data = pd.DataFrame.from_dict(data_dict, orient='index')\n",
    "aqi_data.reset_index(drop=False,inplace=True)\n",
    "aqi_data.rename(columns={'index':'zip'},inplace=True)\n",
    "aqi_data.head()"
   ]
  },
  {
   "cell_type": "markdown",
   "metadata": {
    "slideshow": {
     "slide_type": "slide"
    }
   },
   "source": [
    "# Combine The Data\n",
    "https://pandas.pydata.org/pandas-docs/stable/generated/pandas.DataFrame.merge.html\n",
    "* Types of merges:\n",
    " * Left: Use only rows from the dataframe you are merging into\n",
    " * Right: use only rows from the dataframe you are inserting, (the one in the parentheses)\n",
    " * Inner: Use only rows that match between both\n",
    " * Outer: Use all rows, even if they only appear in one of the dataframes\n",
    "* On: The variables you want to compare\n",
    " * Specify right_on and left_on if they have different names"
   ]
  },
  {
   "cell_type": "code",
   "execution_count": 156,
   "metadata": {
    "slideshow": {
     "slide_type": "fragment"
    }
   },
   "outputs": [
    {
     "data": {
      "text/html": [
       "<div>\n",
       "<style scoped>\n",
       "    .dataframe tbody tr th:only-of-type {\n",
       "        vertical-align: middle;\n",
       "    }\n",
       "\n",
       "    .dataframe tbody tr th {\n",
       "        vertical-align: top;\n",
       "    }\n",
       "\n",
       "    .dataframe thead th {\n",
       "        text-align: right;\n",
       "    }\n",
       "</style>\n",
       "<table border=\"1\" class=\"dataframe\">\n",
       "  <thead>\n",
       "    <tr style=\"text-align: right;\">\n",
       "      <th></th>\n",
       "      <th>Year</th>\n",
       "      <th>zip</th>\n",
       "      <th>County</th>\n",
       "      <th>coordinates</th>\n",
       "      <th>County Fips code</th>\n",
       "      <th>Adults</th>\n",
       "      <th>Incidents</th>\n",
       "      <th>Children</th>\n",
       "      <th>OZONE</th>\n",
       "      <th>PM2.5</th>\n",
       "      <th>PM10</th>\n",
       "    </tr>\n",
       "  </thead>\n",
       "  <tbody>\n",
       "    <tr>\n",
       "      <th>0</th>\n",
       "      <td>2015.0</td>\n",
       "      <td>90001</td>\n",
       "      <td>LOS ANGELES</td>\n",
       "      <td>(33.973252, -118.249154)</td>\n",
       "      <td>6037.0</td>\n",
       "      <td>229.0</td>\n",
       "      <td>441.0</td>\n",
       "      <td>212.0</td>\n",
       "      <td>36.0</td>\n",
       "      <td>NaN</td>\n",
       "      <td>NaN</td>\n",
       "    </tr>\n",
       "    <tr>\n",
       "      <th>1</th>\n",
       "      <td>2015.0</td>\n",
       "      <td>90002</td>\n",
       "      <td>LOS ANGELES</td>\n",
       "      <td>(33.949079, -118.247877)</td>\n",
       "      <td>6037.0</td>\n",
       "      <td>249.0</td>\n",
       "      <td>476.0</td>\n",
       "      <td>227.0</td>\n",
       "      <td>36.0</td>\n",
       "      <td>NaN</td>\n",
       "      <td>NaN</td>\n",
       "    </tr>\n",
       "  </tbody>\n",
       "</table>\n",
       "</div>"
      ],
      "text/plain": [
       "     Year    zip       County               coordinates  County Fips code  \\\n",
       "0  2015.0  90001  LOS ANGELES  (33.973252, -118.249154)            6037.0   \n",
       "1  2015.0  90002  LOS ANGELES  (33.949079, -118.247877)            6037.0   \n",
       "\n",
       "   Adults  Incidents  Children  OZONE  PM2.5  PM10  \n",
       "0   229.0      441.0     212.0   36.0    NaN   NaN  \n",
       "1   249.0      476.0     227.0   36.0    NaN   NaN  "
      ]
     },
     "execution_count": 156,
     "metadata": {},
     "output_type": "execute_result"
    }
   ],
   "source": [
    "asthma_aqi = asthma_2015_sub.merge(aqi_data,how='outer',on='zip')\n",
    "asthma_aqi.rename(columns = {'Adults (18+)':'Adults',\n",
    "                             'All Ages':'Incidents',\n",
    "                             'Children (0-17)':'Children'},inplace=True)\n",
    "asthma_aqi.head(2)"
   ]
  },
  {
   "cell_type": "markdown",
   "metadata": {
    "slideshow": {
     "slide_type": "slide"
    }
   },
   "source": [
    "# Look At The Data: Histogram\n",
    "* 20 bins"
   ]
  },
  {
   "cell_type": "code",
   "execution_count": 74,
   "metadata": {
    "slideshow": {
     "slide_type": "fragment"
    }
   },
   "outputs": [
    {
     "data": {
      "text/plain": [
       "<matplotlib.axes._subplots.AxesSubplot at 0x7f05dc5ef4e0>"
      ]
     },
     "execution_count": 74,
     "metadata": {},
     "output_type": "execute_result"
    },
    {
     "data": {
      "image/png": "[encoded data removed]",
      "text/plain": [
       "<Figure size 432x288 with 1 Axes>"
      ]
     },
     "metadata": {},
     "output_type": "display_data"
    }
   ],
   "source": [
    "asthma_aqi.Incidents.plot.hist(20)"
   ]
  },
  {
   "cell_type": "markdown",
   "metadata": {
    "slideshow": {
     "slide_type": "slide"
    }
   },
   "source": [
    "# Look At The Data: Smoothed Distribution"
   ]
  },
  {
   "cell_type": "code",
   "execution_count": 75,
   "metadata": {
    "slideshow": {
     "slide_type": "fragment"
    }
   },
   "outputs": [
    {
     "data": {
      "text/plain": [
       "<matplotlib.axes._subplots.AxesSubplot at 0x7f05dc8c6358>"
      ]
     },
     "execution_count": 75,
     "metadata": {},
     "output_type": "execute_result"
    },
    {
     "data": {
      "image/png": "[encoded data removed]",
      "text/plain": [
       "<Figure size 432x288 with 1 Axes>"
      ]
     },
     "metadata": {},
     "output_type": "display_data"
    }
   ],
   "source": [
    "asthma_aqi.loc[:,['Incidents','OZONE']].plot.density()"
   ]
  },
  {
   "cell_type": "markdown",
   "metadata": {
    "slideshow": {
     "slide_type": "slide"
    }
   },
   "source": [
    "# Look at particulates\n",
    "* There is a lot of missingness in 2015\n",
    "* Try other variables, such as comparing children and adults"
   ]
  },
  {
   "cell_type": "code",
   "execution_count": 76,
   "metadata": {
    "slideshow": {
     "slide_type": "fragment"
    }
   },
   "outputs": [
    {
     "data": {
      "text/plain": [
       "<matplotlib.axes._subplots.AxesSubplot at 0x7f05dbf19710>"
      ]
     },
     "execution_count": 76,
     "metadata": {},
     "output_type": "execute_result"
    },
    {
     "data": {
      "image/png": "[encoded data removed]",
      "text/plain": [
       "<Figure size 432x288 with 1 Axes>"
      ]
     },
     "metadata": {},
     "output_type": "display_data"
    }
   ],
   "source": [
    "asthma_aqi.loc[:,['PM2.5','PM10']].plot.hist()"
   ]
  },
  {
   "cell_type": "markdown",
   "metadata": {
    "slideshow": {
     "slide_type": "slide"
    }
   },
   "source": [
    "# Scatter Plot\n",
    "* Try some other combinations\n",
    "* Our data look clustered, but we'll ignore that for now"
   ]
  },
  {
   "cell_type": "code",
   "execution_count": 327,
   "metadata": {
    "slideshow": {
     "slide_type": "fragment"
    }
   },
   "outputs": [
    {
     "data": {
      "text/plain": [
       "<matplotlib.axes._subplots.AxesSubplot at 0x7f6f5940bdd8>"
      ]
     },
     "execution_count": 327,
     "metadata": {},
     "output_type": "execute_result"
    },
    {
     "data": {
      "image/png": "[encoded data removed]",
      "text/plain": [
       "<matplotlib.figure.Figure at 0x7f6f59339a20>"
      ]
     },
     "metadata": {},
     "output_type": "display_data"
    }
   ],
   "source": [
    "asthma_aqi.plot.scatter('OZONE','PM2.5')"
   ]
  },
  {
   "cell_type": "markdown",
   "metadata": {
    "slideshow": {
     "slide_type": "slide"
    }
   },
   "source": [
    "# Run a regression:\n",
    "* Note: statsmodels supports equation format like R <br>\n",
    "http://www.statsmodels.org/dev/example_formulas.html"
   ]
  },
  {
   "cell_type": "code",
   "execution_count": 77,
   "metadata": {
    "slideshow": {
     "slide_type": "fragment"
    }
   },
   "outputs": [
    {
     "name": "stdout",
     "output_type": "stream",
     "text": [
      "                            OLS Regression Results                            \n",
      "==============================================================================\n",
      "Dep. Variable:              Incidents   R-squared:                       0.025\n",
      "Model:                            OLS   Adj. R-squared:                  0.001\n",
      "Method:                 Least Squares   F-statistic:                     1.022\n",
      "Date:                Tue, 23 Oct 2018   Prob (F-statistic):              0.364\n",
      "Time:                        20:12:10   Log-Likelihood:                -523.77\n",
      "No. Observations:                  83   AIC:                             1054.\n",
      "Df Residuals:                      80   BIC:                             1061.\n",
      "Df Model:                           2                                         \n",
      "Covariance Type:            nonrobust                                         \n",
      "==============================================================================\n",
      "                 coef    std err          t      P>|t|      [0.025      0.975]\n",
      "------------------------------------------------------------------------------\n",
      "OZONE         -6.8458      6.033     -1.135      0.260     -18.851       5.159\n",
      "PM2.5         -1.3005      2.426     -0.536      0.593      -6.128       3.527\n",
      "c            485.5302    236.518      2.053      0.043      14.844     956.216\n",
      "==============================================================================\n",
      "Omnibus:                       24.776   Durbin-Watson:                   1.271\n",
      "Prob(Omnibus):                  0.000   Jarque-Bera (JB):               34.046\n",
      "Skew:                           1.400   Prob(JB):                     4.05e-08\n",
      "Kurtosis:                       4.415   Cond. No.                     1.01e+03\n",
      "==============================================================================\n",
      "\n",
      "Warnings:\n",
      "[1] Standard Errors assume that the covariance matrix of the errors is correctly specified.\n",
      "[2] The condition number is large, 1.01e+03. This might indicate that there are\n",
      "strong multicollinearity or other numerical problems.\n"
     ]
    }
   ],
   "source": [
    "y =asthma_aqi.loc[:,'Incidents']\n",
    "x =asthma_aqi.loc[:,['OZONE','PM2.5']]\n",
    "x['c'] = 1\n",
    "ols_model1 = sm.OLS(y,x,missing='drop')\n",
    "results = ols_model1.fit()\n",
    "print(results.summary())\n",
    "pickle.dump([results,ols_model1],open('ols_model_results.p','wb'))"
   ]
  },
  {
   "cell_type": "markdown",
   "metadata": {
    "slideshow": {
     "slide_type": "slide"
    }
   },
   "source": [
    "# Evaluate the model with some regression plots\n",
    "* Learn more here: <br>\n",
    "https://www.statsmodels.org/dev/examples/notebooks/generated/regression_plots.html"
   ]
  },
  {
   "cell_type": "markdown",
   "metadata": {
    "slideshow": {
     "slide_type": "slide"
    }
   },
   "source": [
    "# Partial Regressions to see effect of each variable"
   ]
  },
  {
   "cell_type": "code",
   "execution_count": 85,
   "metadata": {
    "slideshow": {
     "slide_type": "fragment"
    }
   },
   "outputs": [
    {
     "data": {
      "image/png": "[encoded data removed]",
      "text/plain": [
       "<Figure size 864x576 with 3 Axes>"
      ]
     },
     "metadata": {},
     "output_type": "display_data"
    }
   ],
   "source": [
    "fig = plt.figure(figsize=(12,8))\n",
    "fig = sm.graphics.plot_partregress_grid(results, fig=fig)"
   ]
  },
  {
   "cell_type": "markdown",
   "metadata": {
    "slideshow": {
     "slide_type": "slide"
    }
   },
   "source": [
    "# Population confound\n",
    "* Fires spread in less populated areas\n",
    "* Fewer people to have asthma attacks in less populated areas\n",
    "* Collect population data\n",
    "* Use pandas to read the html table directly"
   ]
  },
  {
   "cell_type": "code",
   "execution_count": 137,
   "metadata": {
    "slideshow": {
     "slide_type": "fragment"
    }
   },
   "outputs": [
    {
     "data": {
      "text/html": [
       "<div>\n",
       "<style scoped>\n",
       "    .dataframe tbody tr th:only-of-type {\n",
       "        vertical-align: middle;\n",
       "    }\n",
       "\n",
       "    .dataframe tbody tr th {\n",
       "        vertical-align: top;\n",
       "    }\n",
       "\n",
       "    .dataframe thead th {\n",
       "        text-align: right;\n",
       "    }\n",
       "</style>\n",
       "<table border=\"1\" class=\"dataframe\">\n",
       "  <thead>\n",
       "    <tr style=\"text-align: right;\">\n",
       "      <th></th>\n",
       "      <th>California Zip Codes by Population Rank</th>\n",
       "      <th>Zip Code</th>\n",
       "      <th>Population</th>\n",
       "    </tr>\n",
       "  </thead>\n",
       "  <tbody>\n",
       "    <tr>\n",
       "      <th>1</th>\n",
       "      <td>1</td>\n",
       "      <td>90650</td>\n",
       "      <td>106360</td>\n",
       "    </tr>\n",
       "    <tr>\n",
       "      <th>2</th>\n",
       "      <td>2</td>\n",
       "      <td>90011</td>\n",
       "      <td>104762</td>\n",
       "    </tr>\n",
       "  </tbody>\n",
       "</table>\n",
       "</div>"
      ],
      "text/plain": [
       "  California Zip Codes by Population Rank Zip Code Population\n",
       "1                                       1    90650     106360\n",
       "2                                       2    90011     104762"
      ]
     },
     "execution_count": 137,
     "metadata": {},
     "output_type": "execute_result"
    }
   ],
   "source": [
    "ingredients = requests.get('https://www.california-demographics.com/zip_codes_by_population')\n",
    "soup = bs(ingredients.text)\n",
    "table = soup.find(\"table\")\n",
    "population = pd.read_html(str(table),flavor='html5lib')[0]\n",
    "population.rename(columns=population.iloc[0],inplace=True)\n",
    "population.drop(index=0,inplace=True)\n",
    "population.head(2)"
   ]
  },
  {
   "cell_type": "code",
   "execution_count": null,
   "metadata": {},
   "outputs": [],
   "source": []
  },
  {
   "cell_type": "markdown",
   "metadata": {
    "slideshow": {
     "slide_type": "slide"
    }
   },
   "source": [
    "# Fix zipcode column\n",
    "* Split doubled up zip codes into separate lines"
   ]
  },
  {
   "cell_type": "code",
   "execution_count": 138,
   "metadata": {
    "slideshow": {
     "slide_type": "fragment"
    }
   },
   "outputs": [
    {
     "data": {
      "text/html": [
       "<div>\n",
       "<style scoped>\n",
       "    .dataframe tbody tr th:only-of-type {\n",
       "        vertical-align: middle;\n",
       "    }\n",
       "\n",
       "    .dataframe tbody tr th {\n",
       "        vertical-align: top;\n",
       "    }\n",
       "\n",
       "    .dataframe thead th {\n",
       "        text-align: right;\n",
       "    }\n",
       "</style>\n",
       "<table border=\"1\" class=\"dataframe\">\n",
       "  <thead>\n",
       "    <tr style=\"text-align: right;\">\n",
       "      <th></th>\n",
       "      <th>Population</th>\n",
       "      <th>zip</th>\n",
       "    </tr>\n",
       "  </thead>\n",
       "  <tbody>\n",
       "    <tr>\n",
       "      <th>1</th>\n",
       "      <td>53180.0</td>\n",
       "      <td>90650</td>\n",
       "    </tr>\n",
       "    <tr>\n",
       "      <th>2</th>\n",
       "      <td>52381.0</td>\n",
       "      <td>90011</td>\n",
       "    </tr>\n",
       "  </tbody>\n",
       "</table>\n",
       "</div>"
      ],
      "text/plain": [
       "   Population    zip\n",
       "1     53180.0  90650\n",
       "2     52381.0  90011"
      ]
     },
     "execution_count": 138,
     "metadata": {},
     "output_type": "execute_result"
    }
   ],
   "source": [
    "population[['zip','zip2']]=population.loc[:,'Zip Code'].str.split(\n",
    "                                                    pat =' and ',\n",
    "                                                    expand=True)\n",
    "population.Population = population.Population.astype(np.float)\n",
    "population.loc[population.zip2!=None,'Population']=population.loc[population.zip2!=None,'Population']/2\n",
    "temp_pop = population.loc[population.zip!=None,['Population','zip2']].copy()\n",
    "temp_pop.rename(columns={'zip2':'zip'},inplace=True)\n",
    "population = pd.concat([population.loc[:,['Population','zip']],\n",
    "                        temp_pop],axis=0)\n",
    "population.head(2)"
   ]
  },
  {
   "cell_type": "markdown",
   "metadata": {
    "slideshow": {
     "slide_type": "slide"
    }
   },
   "source": [
    "# Re-run Regression \n",
    "* With population\n",
    "* Without PM2.5\n"
   ]
  },
  {
   "cell_type": "code",
   "execution_count": 157,
   "metadata": {
    "scrolled": true,
    "slideshow": {
     "slide_type": "slide"
    }
   },
   "outputs": [
    {
     "name": "stdout",
     "output_type": "stream",
     "text": [
      "                 Generalized Linear Model Regression Results                  \n",
      "==============================================================================\n",
      "Dep. Variable:                 Adults   No. Observations:                  411\n",
      "Model:                            GLM   Df Residuals:                      408\n",
      "Model Family:                 Poisson   Df Model:                            2\n",
      "Link Function:                    log   Scale:                          1.0000\n",
      "Method:                          IRLS   Log-Likelihood:                -8129.5\n",
      "Date:                Tue, 23 Oct 2018   Deviance:                       13698.\n",
      "Time:                        21:45:59   Pearson chi2:                 1.58e+04\n",
      "No. Iterations:                     5   Covariance Type:             nonrobust\n",
      "==============================================================================\n",
      "                 coef    std err          z      P>|z|      [0.025      0.975]\n",
      "------------------------------------------------------------------------------\n",
      "OZONE          0.0037      0.000     12.595      0.000       0.003       0.004\n",
      "Population  4.883e-05   3.76e-07    130.032      0.000    4.81e-05    4.96e-05\n",
      "c              3.4702      0.017    199.607      0.000       3.436       3.504\n",
      "==============================================================================\n"
     ]
    }
   ],
   "source": [
    "asthma_aqi = asthma_aqi.merge(population,how='left',on='zip')\n",
    "y =asthma_aqi.loc[:,'Adults']\n",
    "x =asthma_aqi.loc[:,['OZONE','Population']]\n",
    "x['c'] = 1\n",
    "glm_model = sm.GLM(y,x,missing='drop',family=sm.families.Poisson())\n",
    "ols_model2 = sm.OLS(y,x,missing='drop')\n",
    "glm_results = glm_model.fit()\n",
    "results = ols_model2.fit()\n",
    "print(glm_results.summary())\n",
    "pickle.dump([glm_results,glm_model],open('glm_model_pop_results.p','wb'))"
   ]
  },
  {
   "cell_type": "markdown",
   "metadata": {
    "slideshow": {
     "slide_type": "slide"
    }
   },
   "source": [
    "# Poisson Regression\n",
    "* Summary above was a Poisson regression instead of ols.\n",
    "* Use GLM() to run a generalized linear model instead of an ols\n",
    "* Specify the type of regression with family. We have count data, so: \n",
    "    * sm.GLM(y,x,missing='drop',sm.families.Poisson())\n",
    "* GLMs don't have all the fancy diagnostic plots, so we'll continue with ols results for now. "
   ]
  },
  {
   "cell_type": "markdown",
   "metadata": {
    "slideshow": {
     "slide_type": "slide"
    }
   },
   "source": [
    "# Partial Regressions"
   ]
  },
  {
   "cell_type": "code",
   "execution_count": 158,
   "metadata": {
    "slideshow": {
     "slide_type": "fragment"
    }
   },
   "outputs": [
    {
     "data": {
      "image/png": "[encoded data removed]",
      "text/plain": [
       "<Figure size 864x576 with 3 Axes>"
      ]
     },
     "metadata": {},
     "output_type": "display_data"
    }
   ],
   "source": [
    "fig = plt.figure(figsize=(12,8))\n",
    "fig = sm.graphics.plot_partregress_grid(results, fig=fig)"
   ]
  },
  {
   "cell_type": "markdown",
   "metadata": {
    "slideshow": {
     "slide_type": "slide"
    }
   },
   "source": [
    "# Influence plot for outsized-effect of any observations"
   ]
  },
  {
   "cell_type": "code",
   "execution_count": 159,
   "metadata": {
    "slideshow": {
     "slide_type": "fragment"
    }
   },
   "outputs": [
    {
     "data": {
      "image/png": "[encoded data removed]",
      "text/plain": [
       "<Figure size 864x576 with 1 Axes>"
      ]
     },
     "metadata": {},
     "output_type": "display_data"
    }
   ],
   "source": [
    "fig, ax = plt.subplots(figsize=(12,8))\n",
    "fig = sm.graphics.influence_plot(results, ax=ax, criterion=\"cooks\")"
   ]
  },
  {
   "cell_type": "markdown",
   "metadata": {
    "slideshow": {
     "slide_type": "slide"
    }
   },
   "source": [
    "# Diagnostic plots"
   ]
  },
  {
   "cell_type": "code",
   "execution_count": 161,
   "metadata": {
    "slideshow": {
     "slide_type": "fragment"
    }
   },
   "outputs": [
    {
     "data": {
      "image/png": "[encoded data removed]",
      "text/plain": [
       "<Figure size 864x576 with 4 Axes>"
      ]
     },
     "metadata": {},
     "output_type": "display_data"
    }
   ],
   "source": [
    "fig = plt.figure(figsize=(12,8))\n",
    "fig = sm.graphics.plot_regress_exog(results, \"OZONE\", fig=fig)"
   ]
  },
  {
   "cell_type": "markdown",
   "metadata": {
    "slideshow": {
     "slide_type": "slide"
    }
   },
   "source": [
    "# SciKitLearn\n",
    "* Package for machine learning models\n",
    "* Structured like statsmodels: \n",
    " * Create a model\n",
    " * Train on data\n",
    " * Output results object\n",
    "* Very good documentation:\n",
    " * http://scikit-learn.org"
   ]
  },
  {
   "cell_type": "markdown",
   "metadata": {
    "slideshow": {
     "slide_type": "slide"
    }
   },
   "source": [
    "# Clustering \n",
    "* Learn more about clustering here: <br>\n",
    "http://scikit-learn.org/stable/modules/clustering.html\n",
    "* Many algorithms, each good in different contexts\n",
    "<img src=\"http://scikit-learn.org/stable/_images/sphx_glr_plot_cluster_comparison_0011.png\">"
   ]
  },
  {
   "cell_type": "markdown",
   "metadata": {
    "slideshow": {
     "slide_type": "slide"
    }
   },
   "source": [
    "<h1>K-Means</h1>\n",
    "\n",
    "<img src=\"rand.png\">\n",
    "<br>\n",
    "<h3> Randomly pick k initial centroids </h3>"
   ]
  },
  {
   "cell_type": "markdown",
   "metadata": {
    "slideshow": {
     "slide_type": "slide"
    }
   },
   "source": [
    "<h1>K-Means</h1>\n",
    "<img src=\"agg1.png\" style=\"height:60%\"> <br>\n",
    "<h3> Assign all points to nearest centroids</h3>"
   ]
  },
  {
   "cell_type": "markdown",
   "metadata": {
    "slideshow": {
     "slide_type": "slide"
    }
   },
   "source": [
    "<h1>K-Means</h1>\n",
    "<img src=\"new_cent.png\" style=\"height:60%\"><br>\n",
    "<h3> Calculate new centroids for each set</h3>"
   ]
  },
  {
   "cell_type": "markdown",
   "metadata": {
    "slideshow": {
     "slide_type": "slide"
    }
   },
   "source": [
    "<h1>K-Means</h1>\n",
    "<img src=\"agg2.png\" style=\"height:60%\"><br>\n",
    "<h3> Assign all points to nearest centroid</h3>"
   ]
  },
  {
   "cell_type": "markdown",
   "metadata": {
    "slideshow": {
     "slide_type": "slide"
    }
   },
   "source": [
    "<h1>K-Means</h1>\n",
    "<img src=\"cent2.png\" style=\"height:60%\"><br>\n",
    "<h3>Calculate new centroids, assign points, continue until no change</h3>"
   ]
  },
  {
   "cell_type": "markdown",
   "metadata": {
    "slideshow": {
     "slide_type": "slide"
    }
   },
   "source": [
    "# Prepare data\n",
    "* Statsmodels default drops null values\n",
    "* Drop rows with missing values first\n",
    "* Standardize the data so they're all on the same scale"
   ]
  },
  {
   "cell_type": "code",
   "execution_count": 325,
   "metadata": {
    "collapsed": true,
    "slideshow": {
     "slide_type": "fragment"
    }
   },
   "outputs": [],
   "source": [
    "model_df = asthma_aqi.loc[:,['OZONE','PM2.5','Incidents',]]\n",
    "model_df.dropna(axis=0,inplace=True)\n",
    "model_df = (model_df - model_df.mean()) / (model_df.max() - model_df.min())"
   ]
  },
  {
   "cell_type": "markdown",
   "metadata": {
    "slideshow": {
     "slide_type": "slide"
    }
   },
   "source": [
    "# Create and train the model\n",
    "* Initialize a model with three clusters\n",
    "* fit the model\n",
    "* extract the labels"
   ]
  },
  {
   "cell_type": "code",
   "execution_count": null,
   "metadata": {
    "slideshow": {
     "slide_type": "fragment"
    }
   },
   "outputs": [],
   "source": [
    "asthma_air_clusters=cluster.KMeans(n_clusters = 3)\n",
    "asthma_air_clusters.fit(model_df)\n",
    "model_df['clusters3']=asthma_air_clusters.labels_"
   ]
  },
  {
   "cell_type": "markdown",
   "metadata": {
    "slideshow": {
     "slide_type": "slide"
    }
   },
   "source": [
    "# Look At Clusters\n",
    "* Our data are very closely clustered, OLS was probably not appropriate. "
   ]
  },
  {
   "cell_type": "code",
   "execution_count": 326,
   "metadata": {
    "slideshow": {
     "slide_type": "fragment"
    }
   },
   "outputs": [
    {
     "data": {
      "text/plain": [
       "Text(0.5,0,'Incidents')"
      ]
     },
     "execution_count": 326,
     "metadata": {},
     "output_type": "execute_result"
    },
    {
     "data": {
      "image/png": "[encoded data removed]",
      "text/plain": [
       "<matplotlib.figure.Figure at 0x7f6f5920d898>"
      ]
     },
     "metadata": {},
     "output_type": "display_data"
    }
   ],
   "source": [
    "from mpl_toolkits.mplot3d import Axes3D\n",
    "fig = plt.figure(figsize=(4, 3))\n",
    "ax = Axes3D(fig, rect=[0, 0, .95, 1], elev=48, azim=134)\n",
    "\n",
    "labels = asthma_air_clusters.labels_\n",
    "\n",
    "ax.scatter(model_df.loc[:, 'PM2.5'], model_df.loc[:, 'OZONE'], model_df.loc[:, 'Incidents'],\n",
    "           c=labels.astype(np.float), edgecolor='k')\n",
    "\n",
    "ax.set_xlabel('Particulates')\n",
    "ax.set_ylabel('Ozone')\n",
    "ax.set_zlabel('Incidents')\n"
   ]
  },
  {
   "cell_type": "markdown",
   "metadata": {
    "slideshow": {
     "slide_type": "slide"
    }
   },
   "source": [
    "# Your Turn\n",
    "* Try a different number of clusters\n",
    "* Add population data\n",
    "* Try a different clustering algorithm"
   ]
  },
  {
   "cell_type": "markdown",
   "metadata": {
    "slideshow": {
     "slide_type": "slide"
    }
   },
   "source": [
    "# Until Next Time\n",
    "\n",
    "<img src=\"https://thumbs.gfycat.com/FairSomeBarnacle-max-14mb.gif\">"
   ]
  }
 ],
 "metadata": {
  "celltoolbar": "Slideshow",
  "kernelspec": {
   "display_name": "Python 3",
   "language": "python",
   "name": "python3"
  },
  "language_info": {
   "codemirror_mode": {
    "name": "ipython",
    "version": 3
   },
   "file_extension": ".py",
   "mimetype": "text/x-python",
   "name": "python",
   "nbconvert_exporter": "python",
   "pygments_lexer": "ipython3",
   "version": "3.6.3"
  }
 },
 "nbformat": 4,
 "nbformat_minor": 2
}
