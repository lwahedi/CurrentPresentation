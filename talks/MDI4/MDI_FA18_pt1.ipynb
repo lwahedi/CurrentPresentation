{
 "cells": [
  {
   "cell_type": "markdown",
   "metadata": {
    "slideshow": {
     "slide_type": "slide"
    }
   },
   "source": [
    "# Collecting and Using Data in Python\n",
    "\n",
    "## Laila A. Wahedi, PhD\n",
    "### Massive Data Institute Postdoctoral Fellow <br>McCourt School of Public Policy<br>\n",
    "\n",
    "### Follow along: \n",
    "* Slides: http://Wahedi.us, Tutorial\n",
    "* Interactive Notebook: https://notebooks.azure.com/Laila/libraries/MDI-workshopFA18"
   ]
  },
  {
   "cell_type": "markdown",
   "metadata": {
    "slideshow": {
     "slide_type": "slide"
    }
   },
   "source": [
    "# Follow Along\n",
    "\n",
    "1. Go to https://notebooks.azure.com/Laila/libraries/MDI-workshopFA18\n",
    "2. Clone the directory\n",
    "\n",
    "<img src='step1.png'>"
   ]
  },
  {
   "cell_type": "markdown",
   "metadata": {
    "slideshow": {
     "slide_type": "slide"
    }
   },
   "source": [
    "# Follow Along\n",
    "3. Sign in with any Microsoft Account (Hotmail, Outlook, Azure, etc.)\n",
    " * Create a folder to put it in, mark as private or public\n",
    " \n",
    "<img src='step2.png'>"
   ]
  },
  {
   "cell_type": "markdown",
   "metadata": {
    "slideshow": {
     "slide_type": "slide"
    }
   },
   "source": [
    "# Follow Along\n",
    "4. Open a notebook\n",
    "  * Open *this* notebook to have the code to play with\n",
    "  * Open a blank notebook to follow along and try on your own. \n",
    "  \n",
    "<img src='step4.png'>"
   ]
  },
  {
   "cell_type": "markdown",
   "metadata": {
    "slideshow": {
     "slide_type": "slide"
    }
   },
   "source": [
    "# Do you get this error? \n",
    "\n",
    "### HTTP Error 400. The size of the request headers is too long\n",
    "\n",
    "# Clear your cookies then refresh the browser. "
   ]
  },
  {
   "cell_type": "markdown",
   "metadata": {
    "slideshow": {
     "slide_type": "slide"
    }
   },
   "source": [
    "# Your Environment\n",
    "* Jupyter Notebook Hosted in Azure\n",
    "* Want to install it at home? \n",
    "  * Install the Anaconda distribution of Python\n",
    "  https://www.anaconda.com/download/\n",
    "  * Install Jupyter Notebooks\n",
    "  http://jupyter.org/install"
   ]
  },
  {
   "cell_type": "markdown",
   "metadata": {
    "slideshow": {
     "slide_type": "slide"
    }
   },
   "source": [
    "# Your Environment\n",
    "* ctrl/apple+ enter runs a cell \n",
    "\n",
    "<img src='notebook.png'>"
   ]
  },
  {
   "cell_type": "markdown",
   "metadata": {
    "slideshow": {
     "slide_type": "slide"
    }
   },
   "source": [
    "# Your Environment\n",
    "* Persistent memory\n",
    "  * If you run a cell, results remain as long as the kernel\n",
    "\n",
    "### ORDER MATTERS!\n",
    "\n",
    "<img src='persist.png'>  "
   ]
  },
  {
   "cell_type": "markdown",
   "metadata": {
    "slideshow": {
     "slide_type": "slide"
    }
   },
   "source": [
    "# Your Environment: Saving\n",
    "* If your kernel dies, data are gone. \n",
    "* Not R or Stata, you can't save your whole environment\n",
    "* Data in memory more than spreadsheets\n",
    "* Think carefully about what you want to save and how. \n"
   ]
  },
  {
   "cell_type": "markdown",
   "metadata": {
    "slideshow": {
     "slide_type": "slide"
    }
   },
   "source": [
    "# Easy Saving (more later)\n",
    "* dump to save the data to hard drive (out of memory)\n",
    "* Contents of the command:\n",
    "  * variable to save,\n",
    "  * File to dump the variable into: \n",
    "    * open(<br>\n",
    "    \"name of file in quotes\",<br>\n",
    "    \"wb\") \"Write Binary\"\n",
    "    \n",
    "* Note: double and single quotes both work\n"
   ]
  },
  {
   "cell_type": "code",
   "execution_count": 4,
   "metadata": {
    "slideshow": {
     "slide_type": "fragment"
    }
   },
   "outputs": [],
   "source": [
    "import pickle\n",
    "mydata = [1,2,3,4,5,6,7,8,9,10]\n",
    "pickle.dump(mydata, open('mydata.p','wb'))"
   ]
  },
  {
   "cell_type": "markdown",
   "metadata": {
    "slideshow": {
     "slide_type": "slide"
    }
   },
   "source": [
    "# Save more than one variable:\n",
    "* Put them in a list"
   ]
  },
  {
   "cell_type": "code",
   "execution_count": 6,
   "metadata": {
    "slideshow": {
     "slide_type": "fragment"
    }
   },
   "outputs": [],
   "source": [
    "more_data = [10,9,8,7,6,5,4,3,2,1]\n",
    "pickle.dump([mydata,more_data], open('so_much_data.p','wb'))"
   ]
  },
  {
   "cell_type": "markdown",
   "metadata": {
    "slideshow": {
     "slide_type": "slide"
    }
   },
   "source": [
    "# Loading the data from a pickle\n",
    "* open(<\"path to file\"><br>\n",
    "\"rb\") \"Read Binary\"\n",
    "* Don't mix up rb and wb. wb will overwrite rb. "
   ]
  },
  {
   "cell_type": "code",
   "execution_count": 7,
   "metadata": {
    "slideshow": {
     "slide_type": "fragment"
    }
   },
   "outputs": [
    {
     "name": "stdout",
     "output_type": "stream",
     "text": [
      "[1, 2, 3, 4, 5, 6, 7, 8, 9, 10]\n"
     ]
    }
   ],
   "source": [
    "mydata = pickle.load(open(\"mydata.p\",'rb'))\n",
    "print(mydata)"
   ]
  },
  {
   "cell_type": "markdown",
   "metadata": {
    "slideshow": {
     "slide_type": "slide"
    }
   },
   "source": [
    "# Unpack the variables you saved on the fly"
   ]
  },
  {
   "cell_type": "code",
   "execution_count": 12,
   "metadata": {
    "slideshow": {
     "slide_type": "fragment"
    }
   },
   "outputs": [
    {
     "name": "stdout",
     "output_type": "stream",
     "text": [
      "[1, 2, 3, 4, 5, 6, 7, 8, 9, 10]\n",
      "[10, 9, 8, 7, 6, 5, 4, 3, 2, 1]\n"
     ]
    }
   ],
   "source": [
    "[mydata, more_data] = pickle.load(open('so_much_data.p','rb'))\n",
    "print(mydata)\n",
    "print(more_data)"
   ]
  },
  {
   "cell_type": "markdown",
   "metadata": {
    "slideshow": {
     "slide_type": "slide"
    }
   },
   "source": [
    "# Representing Data\n",
    "* 1D Vectors of data in: \n",
    " * Lists\n",
    " * Arrays\n",
    " * Series"
   ]
  },
  {
   "cell_type": "markdown",
   "metadata": {
    "slideshow": {
     "slide_type": "slide"
    }
   },
   "source": [
    "# Lists\n",
    "* Square brackets []\n",
    "* Can contain anything\n",
    "* Ordered zero-indexing\n",
    "* Slice with :\n",
    "* Negatives to go backwards\n",
    "* Third position to skip"
   ]
  },
  {
   "cell_type": "code",
   "execution_count": 119,
   "metadata": {
    "slideshow": {
     "slide_type": "fragment"
    }
   },
   "outputs": [
    {
     "name": "stdout",
     "output_type": "stream",
     "text": [
      "6\n",
      "[1, 3]\n",
      "Sandwich\n",
      "[1, 2]\n"
     ]
    }
   ],
   "source": [
    "my_list = [1,3,2,4,7,'Sandwich']\n",
    "print(len(my_list))\n",
    "print(my_list[0:2])\n",
    "print(my_list[-1])\n",
    "print(my_list[0:4:2])"
   ]
  },
  {
   "cell_type": "markdown",
   "metadata": {
    "slideshow": {
     "slide_type": "slide"
    }
   },
   "source": [
    "# Arrays in Numpy\n",
    "* Like arrays from Matlab\n",
    "* Vectors and multi-dimensional arrays\n",
    "* Numpy and scipy do math functions, and output in arrays\n",
    "* Index like lists"
   ]
  },
  {
   "cell_type": "code",
   "execution_count": 14,
   "metadata": {
    "slideshow": {
     "slide_type": "fragment"
    }
   },
   "outputs": [
    {
     "name": "stdout",
     "output_type": "stream",
     "text": [
      "[0 5 4 2 6 2 3 1 2 2]\n",
      "(10,)\n"
     ]
    }
   ],
   "source": [
    "import numpy as np\n",
    "my_array = np.random.poisson(lam=3,size=10)\n",
    "print(my_array)\n",
    "print(my_array.shape)"
   ]
  },
  {
   "cell_type": "markdown",
   "metadata": {
    "slideshow": {
     "slide_type": "slide"
    }
   },
   "source": [
    "# Series in Pandas\n",
    "* Pandas is a package that creates labeled data frames\n",
    "* Series are 1d Vectors\n",
    "* Instantiate from list or array\n",
    "* Built on Numpy"
   ]
  },
  {
   "cell_type": "code",
   "execution_count": 16,
   "metadata": {
    "slideshow": {
     "slide_type": "fragment"
    }
   },
   "outputs": [
    {
     "data": {
      "text/plain": [
       "(6,)"
      ]
     },
     "execution_count": 16,
     "metadata": {},
     "output_type": "execute_result"
    }
   ],
   "source": [
    "import pandas as pd\n",
    "my_series = pd.Series(my_list)\n",
    "my_series.shape"
   ]
  },
  {
   "cell_type": "markdown",
   "metadata": {
    "slideshow": {
     "slide_type": "slide"
    }
   },
   "source": [
    "### Why Series: Label your data"
   ]
  },
  {
   "cell_type": "code",
   "execution_count": 17,
   "metadata": {
    "slideshow": {
     "slide_type": "fragment"
    }
   },
   "outputs": [
    {
     "name": "stdout",
     "output_type": "stream",
     "text": [
      "(10,)\n",
      "1      0\n",
      "2      5\n",
      "3      4\n",
      "cat    2\n",
      "dog    6\n",
      "10     2\n",
      "n      3\n",
      "8      1\n",
      "7      2\n",
      "6      2\n",
      "dtype: int64\n"
     ]
    }
   ],
   "source": [
    "my_series = pd.Series(my_array,\n",
    "                      index = [1,2,3,'cat','dog','10','n',8,7,6])\n",
    "\n",
    "print(my_series)"
   ]
  },
  {
   "cell_type": "markdown",
   "metadata": {
    "slideshow": {
     "slide_type": "slide"
    }
   },
   "source": [
    "# Why Series: Suite of tools"
   ]
  },
  {
   "cell_type": "code",
   "execution_count": 18,
   "metadata": {
    "slideshow": {
     "slide_type": "fragment"
    }
   },
   "outputs": [
    {
     "name": "stdout",
     "output_type": "stream",
     "text": [
      "2.7\n",
      "0     goodbye world\n",
      "1    goodbye planet\n",
      "dtype: object\n"
     ]
    }
   ],
   "source": [
    "print(my_series.mean())\n",
    "my_series = pd.Series(['hello world','hello planet'])\n",
    "print(my_series.str.replace('hello','goodbye'))"
   ]
  },
  {
   "cell_type": "markdown",
   "metadata": {
    "slideshow": {
     "slide_type": "slide"
    }
   },
   "source": [
    "# Arrays Series and Lists Can Be Converted"
   ]
  },
  {
   "cell_type": "code",
   "execution_count": 20,
   "metadata": {
    "slideshow": {
     "slide_type": "fragment"
    }
   },
   "outputs": [
    {
     "name": "stdout",
     "output_type": "stream",
     "text": [
      "[0, 5, 4, 2, 6, 2, 3, 1, 2, 2]\n"
     ]
    }
   ],
   "source": [
    "new_list = list(my_array)\n",
    "print(new_list)"
   ]
  },
  {
   "cell_type": "markdown",
   "metadata": {
    "slideshow": {
     "slide_type": "slide"
    }
   },
   "source": [
    "# Two Dimensions\n",
    "* List of lists \n",
    "* Dictionary of lists\n",
    "* Array\n",
    "* Pandas Data Frame"
   ]
  },
  {
   "cell_type": "markdown",
   "metadata": {
    "slideshow": {
     "slide_type": "slide"
    }
   },
   "source": [
    "# Lists of Lists (or tuples)\n",
    "* Tuples are ordered collections like lists, but can't be changed once instantiated. \n",
    "* Each item in list contains a row.\n",
    "* Remember the position/order of your variables. "
   ]
  },
  {
   "cell_type": "code",
   "execution_count": 24,
   "metadata": {
    "slideshow": {
     "slide_type": "fragment"
    }
   },
   "outputs": [],
   "source": [
    "my_2d_list = [[1,4],[2,1],[8,10],[4,7],[9,2],[4,5]]\n",
    "my_3var_list = [(1,4,7),(2,1,0),(8,10,2),(4,7,4),(9,2,7),(4,5,3)]\n"
   ]
  },
  {
   "cell_type": "markdown",
   "metadata": {
    "slideshow": {
     "slide_type": "slide"
    }
   },
   "source": [
    "\n",
    "# Add a variable from another list\n",
    "* You can only add to a list of lists, not tuples\n",
    "* Must be the proper order and same length"
   ]
  },
  {
   "cell_type": "code",
   "execution_count": 25,
   "metadata": {
    "slideshow": {
     "slide_type": "fragment"
    }
   },
   "outputs": [
    {
     "name": "stdout",
     "output_type": "stream",
     "text": [
      "[[1, 4, 1], [2, 1, 3], [8, 10, 2], [4, 7, 4], [9, 2, 7], [4, 5, 8]]\n"
     ]
    }
   ],
   "source": [
    "for i,new_var in enumerate(my_list):\n",
    "    my_2d_list[i].append(new_var)\n",
    "print(my_2d_list)    "
   ]
  },
  {
   "cell_type": "markdown",
   "metadata": {
    "slideshow": {
     "slide_type": "slide"
    }
   },
   "source": [
    "# Keep Track of Variable Names With Dictionaries\n",
    "* Curly Brackets\n",
    "* Lots of memory, but search columns fast\n",
    "* Easily add variables\n",
    "* Index data with labels"
   ]
  },
  {
   "cell_type": "code",
   "execution_count": 90,
   "metadata": {
    "slideshow": {
     "slide_type": "fragment"
    }
   },
   "outputs": [
    {
     "name": "stdout",
     "output_type": "stream",
     "text": [
      "[1, 3, 2, 4, 7, 8]\n"
     ]
    }
   ],
   "source": [
    "my_dict = {\n",
    "    'var1':[1,2,8,4,9,4],\n",
    "    'var2': [4,1,10,7,2,5]\n",
    "}\n",
    "my_dict['var3']=my_list\n",
    "print(my_dict['var3'])"
   ]
  },
  {
   "cell_type": "markdown",
   "metadata": {
    "slideshow": {
     "slide_type": "slide"
    }
   },
   "source": [
    "# Use numpy to maintain a matrix shape\n",
    "* Instantiate a 2d array with a list of lists or tuples\n",
    "* Each variable is a column, each internal list/tuple a row\n",
    "* Index each dimension like a list, separated by a comma. [row,column]"
   ]
  },
  {
   "cell_type": "code",
   "execution_count": 120,
   "metadata": {
    "slideshow": {
     "slide_type": "fragment"
    }
   },
   "outputs": [
    {
     "name": "stdout",
     "output_type": "stream",
     "text": [
      "[[ 1  4  1]\n",
      " [ 2  1  3]\n",
      " [ 8 10  2]\n",
      " [ 4  7  4]\n",
      " [ 9  2  7]\n",
      " [ 4  5  8]]\n",
      "[1 4]\n"
     ]
    }
   ],
   "source": [
    "my_matrix = np.array(my_2d_list)\n",
    "my_other_matrix = np.array(my_3var_list)\n",
    "print(my_matrix)\n",
    "print(my_matrix[0,0:2])"
   ]
  },
  {
   "cell_type": "markdown",
   "metadata": {
    "slideshow": {
     "slide_type": "slide"
    }
   },
   "source": [
    "# Concatenate your matrices by stacking\n",
    "* Axis = 0"
   ]
  },
  {
   "cell_type": "code",
   "execution_count": 37,
   "metadata": {
    "slideshow": {
     "slide_type": "fragment"
    }
   },
   "outputs": [
    {
     "name": "stdout",
     "output_type": "stream",
     "text": [
      "[[ 1  4  1]\n",
      " [ 2  1  3]\n",
      " [ 8 10  2]\n",
      " [ 4  7  4]\n",
      " [ 9  2  7]\n",
      " [ 4  5  8]\n",
      " [ 1  4  7]\n",
      " [ 2  1  0]\n",
      " [ 8 10  2]\n",
      " [ 4  7  4]\n",
      " [ 9  2  7]\n",
      " [ 4  5  3]]\n"
     ]
    }
   ],
   "source": [
    "big_matrix = np.concatenate([my_matrix, my_other_matrix],axis=0)\n",
    "print(big_matrix)"
   ]
  },
  {
   "cell_type": "markdown",
   "metadata": {
    "slideshow": {
     "slide_type": "slide"
    }
   },
   "source": [
    "# Concatenate your matrices side by side\n",
    "* Axis = 1"
   ]
  },
  {
   "cell_type": "code",
   "execution_count": 41,
   "metadata": {
    "slideshow": {
     "slide_type": "fragment"
    }
   },
   "outputs": [
    {
     "name": "stdout",
     "output_type": "stream",
     "text": [
      "[[ 1  4  1  1  4  7]\n",
      " [ 2  1  3  2  1  0]\n",
      " [ 8 10  2  8 10  2]\n",
      " [ 4  7  4  4  7  4]\n",
      " [ 9  2  7  9  2  7]\n",
      " [ 4  5  8  4  5  3]]\n"
     ]
    }
   ],
   "source": [
    "big_matrix = np.concatenate([my_matrix, my_other_matrix],axis=1)\n",
    "print(big_matrix)"
   ]
  },
  {
   "cell_type": "markdown",
   "metadata": {
    "slideshow": {
     "slide_type": "slide"
    }
   },
   "source": [
    "# Do Matrix Operations\n",
    "* Scalar multiplication\n",
    "* Point-wise addition, subtraction, etc. \n",
    "* Transpose"
   ]
  },
  {
   "cell_type": "code",
   "execution_count": 43,
   "metadata": {
    "slideshow": {
     "slide_type": "fragment"
    }
   },
   "outputs": [
    {
     "name": "stdout",
     "output_type": "stream",
     "text": [
      "[[ 6 12 48 24 54 24]\n",
      " [24  6 60 42 12 30]\n",
      " [36  3 12 24 42 23]]\n"
     ]
    }
   ],
   "source": [
    "print(my_matrix.T + my_other_matrix.T*5)"
   ]
  },
  {
   "cell_type": "markdown",
   "metadata": {
    "slideshow": {
     "slide_type": "slide"
    }
   },
   "source": [
    "# Instantiate A Random Matrix For Simulations\n",
    "* List of distributions here: https://docs.scipy.org/doc/numpy-1.14.0/reference/routines.random.html"
   ]
  },
  {
   "cell_type": "code",
   "execution_count": 126,
   "metadata": {
    "slideshow": {
     "slide_type": "fragment"
    }
   },
   "outputs": [
    {
     "name": "stdout",
     "output_type": "stream",
     "text": [
      "[[-1.55580936 -0.17261167  0.75196263]\n",
      " [ 0.84330579  1.33124031  0.3352658 ]\n",
      " [ 0.27599767 -1.15216039 -0.78153232]\n",
      " [-0.05247263  0.60094014  0.60057787]\n",
      " [-1.16768905 -0.43397707 -0.75927943]]\n"
     ]
    }
   ],
   "source": [
    "my_rand_matrix = np.random.randn(5,3)\n",
    "print(my_rand_matrix)"
   ]
  },
  {
   "cell_type": "markdown",
   "metadata": {
    "slideshow": {
     "slide_type": "slide"
    }
   },
   "source": [
    "# Index like a list with a comma between dimensions:\n",
    "* [row,column]\n",
    "* Each Column From A Different Normal Distribution:\n",
    "    * Multiply normal distribution by sigma, add mu"
   ]
  },
  {
   "cell_type": "code",
   "execution_count": 127,
   "metadata": {
    "slideshow": {
     "slide_type": "fragment"
    }
   },
   "outputs": [
    {
     "name": "stdout",
     "output_type": "stream",
     "text": [
      "[[  4.22209532   5.42165289   5.13799884   4.97376368   4.41615548]\n",
      " [ -5.08630584  -4.33437984  -5.5760802   -4.69952993  -5.21698854]\n",
      " [ 57.51962633  53.35265798  42.1846768   56.00577874  42.40720567]]\n"
     ]
    }
   ],
   "source": [
    "my_rand_matrix[:,0]=my_rand_matrix[:,0]*.5+5\n",
    "my_rand_matrix[:,1]=my_rand_matrix[:,1]*.5-5\n",
    "my_rand_matrix[:,2]=my_rand_matrix[:,2]*10+50\n",
    "print(my_rand_matrix.T)"
   ]
  },
  {
   "cell_type": "markdown",
   "metadata": {
    "slideshow": {
     "slide_type": "slide"
    }
   },
   "source": [
    "# Sparse Matrices Save Memory When You Have Lots of Zeros\n",
    "* Create a big empty array\n",
    "* Create indexes to add values\n",
    "* Add some values to each coordinate. e.g. place 4 in position (1,3,8)"
   ]
  },
  {
   "cell_type": "code",
   "execution_count": 128,
   "metadata": {
    "slideshow": {
     "slide_type": "fragment"
    }
   },
   "outputs": [],
   "source": [
    "BIG_array = np.zeros((100,100))\n",
    "rows = (1,6,29,40,43,50)\n",
    "columns = (3,6,90,58,34,88)\n",
    "BIG_array[(rows,columns)]=[4,6,14,1,3,22]"
   ]
  },
  {
   "cell_type": "markdown",
   "metadata": {
    "slideshow": {
     "slide_type": "slide"
    }
   },
   "source": [
    "# Sparse Matrices Save Memory When You Have Lots of Zeros\n",
    "* Turn the matrix into a sparse matrix\n",
    "* Use scipy package\n",
    "* Will turn itself back if too big\n",
    "* Different types good for different things. See: https://docs.scipy.org/doc/scipy/reference/sparse.html"
   ]
  },
  {
   "cell_type": "code",
   "execution_count": 129,
   "metadata": {
    "slideshow": {
     "slide_type": "fragment"
    }
   },
   "outputs": [
    {
     "name": "stdout",
     "output_type": "stream",
     "text": [
      "  (1, 3)\t4.0\n",
      "  (6, 6)\t6.0\n",
      "  (43, 34)\t3.0\n",
      "  (40, 58)\t1.0\n",
      "  (50, 88)\t22.0\n",
      "  (29, 90)\t14.0\n"
     ]
    }
   ],
   "source": [
    "import scipy as sp\n",
    "from scipy import sparse\n",
    "BIG_array = sparse.csc_matrix(BIG_array)\n",
    "print(BIG_array)"
   ]
  },
  {
   "cell_type": "markdown",
   "metadata": {
    "slideshow": {
     "slide_type": "slide"
    }
   },
   "source": [
    "# Maintain Shape AND Labels with Pandas\n",
    "* DataFrames like R\n",
    "* Lots of built in functions\n",
    "* Instantiate from a dictionary..."
   ]
  },
  {
   "cell_type": "code",
   "execution_count": 130,
   "metadata": {
    "slideshow": {
     "slide_type": "fragment"
    }
   },
   "outputs": [
    {
     "data": {
      "text/html": [
       "<div>\n",
       "<style scoped>\n",
       "    .dataframe tbody tr th:only-of-type {\n",
       "        vertical-align: middle;\n",
       "    }\n",
       "\n",
       "    .dataframe tbody tr th {\n",
       "        vertical-align: top;\n",
       "    }\n",
       "\n",
       "    .dataframe thead th {\n",
       "        text-align: right;\n",
       "    }\n",
       "</style>\n",
       "<table border=\"1\" class=\"dataframe\">\n",
       "  <thead>\n",
       "    <tr style=\"text-align: right;\">\n",
       "      <th></th>\n",
       "      <th>var1</th>\n",
       "      <th>var2</th>\n",
       "      <th>var3</th>\n",
       "    </tr>\n",
       "  </thead>\n",
       "  <tbody>\n",
       "    <tr>\n",
       "      <th>0</th>\n",
       "      <td>1</td>\n",
       "      <td>4</td>\n",
       "      <td>1</td>\n",
       "    </tr>\n",
       "    <tr>\n",
       "      <th>1</th>\n",
       "      <td>2</td>\n",
       "      <td>1</td>\n",
       "      <td>3</td>\n",
       "    </tr>\n",
       "    <tr>\n",
       "      <th>2</th>\n",
       "      <td>8</td>\n",
       "      <td>10</td>\n",
       "      <td>2</td>\n",
       "    </tr>\n",
       "    <tr>\n",
       "      <th>3</th>\n",
       "      <td>4</td>\n",
       "      <td>7</td>\n",
       "      <td>4</td>\n",
       "    </tr>\n",
       "    <tr>\n",
       "      <th>4</th>\n",
       "      <td>9</td>\n",
       "      <td>2</td>\n",
       "      <td>7</td>\n",
       "    </tr>\n",
       "    <tr>\n",
       "      <th>5</th>\n",
       "      <td>4</td>\n",
       "      <td>5</td>\n",
       "      <td>8</td>\n",
       "    </tr>\n",
       "  </tbody>\n",
       "</table>\n",
       "</div>"
      ],
      "text/plain": [
       "   var1  var2  var3\n",
       "0     1     4     1\n",
       "1     2     1     3\n",
       "2     8    10     2\n",
       "3     4     7     4\n",
       "4     9     2     7\n",
       "5     4     5     8"
      ]
     },
     "execution_count": 130,
     "metadata": {},
     "output_type": "execute_result"
    }
   ],
   "source": [
    "df = pd.DataFrame(my_dict)\n",
    "df"
   ]
  },
  {
   "cell_type": "markdown",
   "metadata": {
    "slideshow": {
     "slide_type": "slide"
    }
   },
   "source": [
    "# Instantiate Your Data Frame...\n",
    "* From a list of lists/tuples"
   ]
  },
  {
   "cell_type": "code",
   "execution_count": 131,
   "metadata": {
    "slideshow": {
     "slide_type": "fragment"
    }
   },
   "outputs": [
    {
     "data": {
      "text/html": [
       "<div>\n",
       "<style scoped>\n",
       "    .dataframe tbody tr th:only-of-type {\n",
       "        vertical-align: middle;\n",
       "    }\n",
       "\n",
       "    .dataframe tbody tr th {\n",
       "        vertical-align: top;\n",
       "    }\n",
       "\n",
       "    .dataframe thead th {\n",
       "        text-align: right;\n",
       "    }\n",
       "</style>\n",
       "<table border=\"1\" class=\"dataframe\">\n",
       "  <thead>\n",
       "    <tr style=\"text-align: right;\">\n",
       "      <th></th>\n",
       "      <th>var1</th>\n",
       "      <th>var2</th>\n",
       "      <th>var3</th>\n",
       "    </tr>\n",
       "  </thead>\n",
       "  <tbody>\n",
       "    <tr>\n",
       "      <th>0</th>\n",
       "      <td>1</td>\n",
       "      <td>4</td>\n",
       "      <td>1</td>\n",
       "    </tr>\n",
       "    <tr>\n",
       "      <th>1</th>\n",
       "      <td>2</td>\n",
       "      <td>1</td>\n",
       "      <td>3</td>\n",
       "    </tr>\n",
       "    <tr>\n",
       "      <th>2</th>\n",
       "      <td>8</td>\n",
       "      <td>10</td>\n",
       "      <td>2</td>\n",
       "    </tr>\n",
       "    <tr>\n",
       "      <th>3</th>\n",
       "      <td>4</td>\n",
       "      <td>7</td>\n",
       "      <td>4</td>\n",
       "    </tr>\n",
       "    <tr>\n",
       "      <th>4</th>\n",
       "      <td>9</td>\n",
       "      <td>2</td>\n",
       "      <td>7</td>\n",
       "    </tr>\n",
       "    <tr>\n",
       "      <th>5</th>\n",
       "      <td>4</td>\n",
       "      <td>5</td>\n",
       "      <td>8</td>\n",
       "    </tr>\n",
       "  </tbody>\n",
       "</table>\n",
       "</div>"
      ],
      "text/plain": [
       "   var1  var2  var3\n",
       "0     1     4     1\n",
       "1     2     1     3\n",
       "2     8    10     2\n",
       "3     4     7     4\n",
       "4     9     2     7\n",
       "5     4     5     8"
      ]
     },
     "execution_count": 131,
     "metadata": {},
     "output_type": "execute_result"
    }
   ],
   "source": [
    "df = pd.DataFrame(my_2d_list,\n",
    "                 columns = ['var1','var2','var3'])\n",
    "df"
   ]
  },
  {
   "cell_type": "markdown",
   "metadata": {
    "slideshow": {
     "slide_type": "slide"
    }
   },
   "source": [
    "# Instantiate Your Data Frame...\n",
    "* From a matrix\n",
    "* Name your rows too!"
   ]
  },
  {
   "cell_type": "code",
   "execution_count": 132,
   "metadata": {
    "slideshow": {
     "slide_type": "fragment"
    }
   },
   "outputs": [
    {
     "data": {
      "text/html": [
       "<div>\n",
       "<style scoped>\n",
       "    .dataframe tbody tr th:only-of-type {\n",
       "        vertical-align: middle;\n",
       "    }\n",
       "\n",
       "    .dataframe tbody tr th {\n",
       "        vertical-align: top;\n",
       "    }\n",
       "\n",
       "    .dataframe thead th {\n",
       "        text-align: right;\n",
       "    }\n",
       "</style>\n",
       "<table border=\"1\" class=\"dataframe\">\n",
       "  <thead>\n",
       "    <tr style=\"text-align: right;\">\n",
       "      <th></th>\n",
       "      <th>dist_1</th>\n",
       "      <th>dist_2</th>\n",
       "      <th>dist_3</th>\n",
       "    </tr>\n",
       "  </thead>\n",
       "  <tbody>\n",
       "    <tr>\n",
       "      <th>obs1</th>\n",
       "      <td>4.222095</td>\n",
       "      <td>-5.086306</td>\n",
       "      <td>57.519626</td>\n",
       "    </tr>\n",
       "    <tr>\n",
       "      <th>obs2</th>\n",
       "      <td>5.421653</td>\n",
       "      <td>-4.334380</td>\n",
       "      <td>53.352658</td>\n",
       "    </tr>\n",
       "    <tr>\n",
       "      <th>obs3</th>\n",
       "      <td>5.137999</td>\n",
       "      <td>-5.576080</td>\n",
       "      <td>42.184677</td>\n",
       "    </tr>\n",
       "    <tr>\n",
       "      <th>obs4</th>\n",
       "      <td>4.973764</td>\n",
       "      <td>-4.699530</td>\n",
       "      <td>56.005779</td>\n",
       "    </tr>\n",
       "    <tr>\n",
       "      <th>fred</th>\n",
       "      <td>4.416155</td>\n",
       "      <td>-5.216989</td>\n",
       "      <td>42.407206</td>\n",
       "    </tr>\n",
       "  </tbody>\n",
       "</table>\n",
       "</div>"
      ],
      "text/plain": [
       "        dist_1    dist_2     dist_3\n",
       "obs1  4.222095 -5.086306  57.519626\n",
       "obs2  5.421653 -4.334380  53.352658\n",
       "obs3  5.137999 -5.576080  42.184677\n",
       "obs4  4.973764 -4.699530  56.005779\n",
       "fred  4.416155 -5.216989  42.407206"
      ]
     },
     "execution_count": 132,
     "metadata": {},
     "output_type": "execute_result"
    }
   ],
   "source": [
    "df = pd.DataFrame(my_rand_matrix, \n",
    "                  columns = ['dist_1','dist_2','dist_3'],\n",
    "                 index = ['obs1','obs2','obs3','obs4','fred'])\n",
    "df"
   ]
  },
  {
   "cell_type": "markdown",
   "metadata": {
    "slideshow": {
     "slide_type": "slide"
    }
   },
   "source": [
    "# Never Say No To Pandas\n",
    "## Using Documentation\n",
    "* Pandas website\n",
    "  * Try: https://pandas.pydata.org/pandas-docs/stable/generated/pandas.DataFrame.html#pandas.DataFrame\n",
    "* Stack Overflow\n",
    "* Copy errors into google\n",
    "* Look up syntax differences with R\n",
    "<img src=\"https://media.giphy.com/media/1hiVNxD34TpC0/giphy.gif\">"
   ]
  },
  {
   "cell_type": "markdown",
   "metadata": {
    "slideshow": {
     "slide_type": "slide"
    }
   },
   "source": [
    "# Summarize Your Data"
   ]
  },
  {
   "cell_type": "code",
   "execution_count": 133,
   "metadata": {
    "slideshow": {
     "slide_type": "fragment"
    }
   },
   "outputs": [
    {
     "data": {
      "text/html": [
       "<div>\n",
       "<style scoped>\n",
       "    .dataframe tbody tr th:only-of-type {\n",
       "        vertical-align: middle;\n",
       "    }\n",
       "\n",
       "    .dataframe tbody tr th {\n",
       "        vertical-align: top;\n",
       "    }\n",
       "\n",
       "    .dataframe thead th {\n",
       "        text-align: right;\n",
       "    }\n",
       "</style>\n",
       "<table border=\"1\" class=\"dataframe\">\n",
       "  <thead>\n",
       "    <tr style=\"text-align: right;\">\n",
       "      <th></th>\n",
       "      <th>dist_1</th>\n",
       "      <th>dist_2</th>\n",
       "      <th>dist_3</th>\n",
       "    </tr>\n",
       "  </thead>\n",
       "  <tbody>\n",
       "    <tr>\n",
       "      <th>count</th>\n",
       "      <td>5.000000</td>\n",
       "      <td>5.000000</td>\n",
       "      <td>5.000000</td>\n",
       "    </tr>\n",
       "    <tr>\n",
       "      <th>mean</th>\n",
       "      <td>4.834333</td>\n",
       "      <td>-4.982657</td>\n",
       "      <td>50.293989</td>\n",
       "    </tr>\n",
       "    <tr>\n",
       "      <th>std</th>\n",
       "      <td>0.501574</td>\n",
       "      <td>0.479122</td>\n",
       "      <td>7.452384</td>\n",
       "    </tr>\n",
       "    <tr>\n",
       "      <th>min</th>\n",
       "      <td>4.222095</td>\n",
       "      <td>-5.576080</td>\n",
       "      <td>42.184677</td>\n",
       "    </tr>\n",
       "    <tr>\n",
       "      <th>25%</th>\n",
       "      <td>4.416155</td>\n",
       "      <td>-5.216989</td>\n",
       "      <td>42.407206</td>\n",
       "    </tr>\n",
       "    <tr>\n",
       "      <th>50%</th>\n",
       "      <td>4.973764</td>\n",
       "      <td>-5.086306</td>\n",
       "      <td>53.352658</td>\n",
       "    </tr>\n",
       "    <tr>\n",
       "      <th>75%</th>\n",
       "      <td>5.137999</td>\n",
       "      <td>-4.699530</td>\n",
       "      <td>56.005779</td>\n",
       "    </tr>\n",
       "    <tr>\n",
       "      <th>max</th>\n",
       "      <td>5.421653</td>\n",
       "      <td>-4.334380</td>\n",
       "      <td>57.519626</td>\n",
       "    </tr>\n",
       "  </tbody>\n",
       "</table>\n",
       "</div>"
      ],
      "text/plain": [
       "         dist_1    dist_2     dist_3\n",
       "count  5.000000  5.000000   5.000000\n",
       "mean   4.834333 -4.982657  50.293989\n",
       "std    0.501574  0.479122   7.452384\n",
       "min    4.222095 -5.576080  42.184677\n",
       "25%    4.416155 -5.216989  42.407206\n",
       "50%    4.973764 -5.086306  53.352658\n",
       "75%    5.137999 -4.699530  56.005779\n",
       "max    5.421653 -4.334380  57.519626"
      ]
     },
     "execution_count": 133,
     "metadata": {},
     "output_type": "execute_result"
    }
   ],
   "source": [
    "df.describe()"
   ]
  },
  {
   "cell_type": "markdown",
   "metadata": {
    "slideshow": {
     "slide_type": "slide"
    }
   },
   "source": [
    "# Look at your data with Matplotlib integration\n",
    "* Matplotlib is like plotting in matlab\n",
    "* Try ggplot package for ggplot2 in python\n",
    "* See also Seaborn and Plotly\n",
    "* Use some ipython magic to see plots inline"
   ]
  },
  {
   "cell_type": "code",
   "execution_count": 134,
   "metadata": {
    "slideshow": {
     "slide_type": "fragment"
    }
   },
   "outputs": [
    {
     "data": {
      "text/plain": [
       "<matplotlib.axes._subplots.AxesSubplot at 0x7fdaf0662128>"
      ]
     },
     "execution_count": 134,
     "metadata": {},
     "output_type": "execute_result"
    },
    {
     "data": {
      "image/png": "[encoded data removed]",
      "text/plain": [
       "<Figure size 432x288 with 1 Axes>"
      ]
     },
     "metadata": {},
     "output_type": "display_data"
    }
   ],
   "source": [
    "import matplotlib.pyplot as plt\n",
    "%matplotlib inline\n",
    "df.plot.density()"
   ]
  },
  {
   "cell_type": "markdown",
   "metadata": {
    "slideshow": {
     "slide_type": "slide"
    }
   },
   "source": [
    "# One Variable At A Time:"
   ]
  },
  {
   "cell_type": "code",
   "execution_count": 135,
   "metadata": {
    "slideshow": {
     "slide_type": "fragment"
    }
   },
   "outputs": [
    {
     "data": {
      "text/plain": [
       "<matplotlib.axes._subplots.AxesSubplot at 0x7fdaf06b4828>"
      ]
     },
     "execution_count": 135,
     "metadata": {},
     "output_type": "execute_result"
    },
    {
     "data": {
      "image/png": "[encoded data removed]",
      "text/plain": [
       "<Figure size 432x288 with 1 Axes>"
      ]
     },
     "metadata": {},
     "output_type": "display_data"
    }
   ],
   "source": [
    "df.dist_1.plot.hist(bins=3)"
   ]
  },
  {
   "cell_type": "markdown",
   "metadata": {
    "slideshow": {
     "slide_type": "slide"
    }
   },
   "source": [
    "# Real Data\n",
    "### Load Data from a text file\n",
    "* Start by googling it: http://lmgtfy.com/?q=pandas+load+csv\n",
    "* Same method for comma (csv), tab (tab), |, and other separators\n",
    "* Excel and R can both output spreadsheets to csv\n",
    "\n",
    "### We will use the Big Allied and Dangerous Data from START\n",
    "* https://dataverse.harvard.edu/file.xhtml?fileId=2298519&version=RELEASED&version=.0"
   ]
  },
  {
   "cell_type": "code",
   "execution_count": 95,
   "metadata": {
    "slideshow": {
     "slide_type": "fragment"
    }
   },
   "outputs": [],
   "source": [
    "baad_covars = pd.read_csv('BAAD_1_Lethality_Data.tab',sep='\\t')"
   ]
  },
  {
   "cell_type": "markdown",
   "metadata": {
    "slideshow": {
     "slide_type": "slide"
    }
   },
   "source": [
    "# Look at the data\n",
    "* Also try .tail()"
   ]
  },
  {
   "cell_type": "code",
   "execution_count": 96,
   "metadata": {
    "slideshow": {
     "slide_type": "fragment"
    }
   },
   "outputs": [
    {
     "data": {
      "text/html": [
       "<div>\n",
       "<style scoped>\n",
       "    .dataframe tbody tr th:only-of-type {\n",
       "        vertical-align: middle;\n",
       "    }\n",
       "\n",
       "    .dataframe tbody tr th {\n",
       "        vertical-align: top;\n",
       "    }\n",
       "\n",
       "    .dataframe thead th {\n",
       "        text-align: right;\n",
       "    }\n",
       "</style>\n",
       "<table border=\"1\" class=\"dataframe\">\n",
       "  <thead>\n",
       "    <tr style=\"text-align: right;\">\n",
       "      <th></th>\n",
       "      <th>mastertccode3606</th>\n",
       "      <th>group</th>\n",
       "      <th>statespond</th>\n",
       "      <th>cowmastercountry</th>\n",
       "      <th>masterccode</th>\n",
       "      <th>fatalities19982005</th>\n",
       "      <th>OrgAge</th>\n",
       "      <th>ordsize</th>\n",
       "      <th>terrStrong</th>\n",
       "      <th>degree</th>\n",
       "      <th>ContainRelig</th>\n",
       "      <th>ContainEthno</th>\n",
       "      <th>LeftNoReligEthno</th>\n",
       "      <th>PureRelig</th>\n",
       "      <th>PureEthno</th>\n",
       "      <th>ReligEthno</th>\n",
       "      <th>ContainRelig2</th>\n",
       "      <th>ContainEthno2</th>\n",
       "      <th>Islam</th>\n",
       "    </tr>\n",
       "  </thead>\n",
       "  <tbody>\n",
       "    <tr>\n",
       "      <th>0</th>\n",
       "      <td>50</td>\n",
       "      <td>Animal Liberation Front (ALF)</td>\n",
       "      <td>0</td>\n",
       "      <td>United States of America</td>\n",
       "      <td>2</td>\n",
       "      <td>0</td>\n",
       "      <td>30</td>\n",
       "      <td>0</td>\n",
       "      <td>0</td>\n",
       "      <td>1</td>\n",
       "      <td>0</td>\n",
       "      <td>0</td>\n",
       "      <td>0</td>\n",
       "      <td>0</td>\n",
       "      <td>0</td>\n",
       "      <td>0</td>\n",
       "      <td>0</td>\n",
       "      <td>0</td>\n",
       "      <td>0</td>\n",
       "    </tr>\n",
       "    <tr>\n",
       "      <th>1</th>\n",
       "      <td>89</td>\n",
       "      <td>Army of God</td>\n",
       "      <td>0</td>\n",
       "      <td>United States of America</td>\n",
       "      <td>2</td>\n",
       "      <td>1</td>\n",
       "      <td>24</td>\n",
       "      <td>0</td>\n",
       "      <td>0</td>\n",
       "      <td>0</td>\n",
       "      <td>1</td>\n",
       "      <td>0</td>\n",
       "      <td>0</td>\n",
       "      <td>1</td>\n",
       "      <td>0</td>\n",
       "      <td>0</td>\n",
       "      <td>1</td>\n",
       "      <td>0</td>\n",
       "      <td>0</td>\n",
       "    </tr>\n",
       "    <tr>\n",
       "      <th>2</th>\n",
       "      <td>113</td>\n",
       "      <td>Cambodian Freedom Fighters (CFF)</td>\n",
       "      <td>0</td>\n",
       "      <td>United States of America</td>\n",
       "      <td>2</td>\n",
       "      <td>0</td>\n",
       "      <td>8</td>\n",
       "      <td>0</td>\n",
       "      <td>0</td>\n",
       "      <td>0</td>\n",
       "      <td>0</td>\n",
       "      <td>1</td>\n",
       "      <td>0</td>\n",
       "      <td>0</td>\n",
       "      <td>0</td>\n",
       "      <td>0</td>\n",
       "      <td>0</td>\n",
       "      <td>1</td>\n",
       "      <td>0</td>\n",
       "    </tr>\n",
       "  </tbody>\n",
       "</table>\n",
       "</div>"
      ],
      "text/plain": [
       "   mastertccode3606                             group  statespond  \\\n",
       "0                50     Animal Liberation Front (ALF)           0   \n",
       "1                89                       Army of God           0   \n",
       "2               113  Cambodian Freedom Fighters (CFF)           0   \n",
       "\n",
       "           cowmastercountry  masterccode  fatalities19982005  OrgAge  ordsize  \\\n",
       "0  United States of America            2                   0      30        0   \n",
       "1  United States of America            2                   1      24        0   \n",
       "2  United States of America            2                   0       8        0   \n",
       "\n",
       "   terrStrong  degree  ContainRelig  ContainEthno  LeftNoReligEthno  \\\n",
       "0           0       1             0             0                 0   \n",
       "1           0       0             1             0                 0   \n",
       "2           0       0             0             1                 0   \n",
       "\n",
       "   PureRelig  PureEthno  ReligEthno  ContainRelig2  ContainEthno2  Islam  \n",
       "0          0          0           0              0              0      0  \n",
       "1          1          0           0              1              0      0  \n",
       "2          0          0           0              0              1      0  "
      ]
     },
     "execution_count": 96,
     "metadata": {},
     "output_type": "execute_result"
    }
   ],
   "source": [
    "baad_covars.head(3)"
   ]
  },
  {
   "cell_type": "markdown",
   "metadata": {
    "slideshow": {
     "slide_type": "slide"
    }
   },
   "source": [
    "# Explore the data structure"
   ]
  },
  {
   "cell_type": "code",
   "execution_count": 76,
   "metadata": {
    "scrolled": true,
    "slideshow": {
     "slide_type": "fragment"
    }
   },
   "outputs": [
    {
     "name": "stdout",
     "output_type": "stream",
     "text": [
      "(395, 19)\n"
     ]
    },
    {
     "data": {
      "text/plain": [
       "Index(['mastertccode3606', 'group', 'statespond', 'cowmastercountry',\n",
       "       'masterccode', 'fatalities19982005', 'OrgAge', 'ordsize', 'terrStrong',\n",
       "       'degree', 'ContainRelig', 'ContainEthno', 'LeftNoReligEthno',\n",
       "       'PureRelig', 'PureEthno', 'ReligEthno', 'ContainRelig2',\n",
       "       'ContainEthno2', 'Islam'],\n",
       "      dtype='object')"
      ]
     },
     "execution_count": 76,
     "metadata": {},
     "output_type": "execute_result"
    }
   ],
   "source": [
    "print(baad_covars.shape)\n",
    "baad_covars.columns"
   ]
  },
  {
   "cell_type": "markdown",
   "metadata": {
    "slideshow": {
     "slide_type": "slide"
    }
   },
   "source": [
    "# Rename things and adjust values\n",
    "* Use dictionaries to rename and replace"
   ]
  },
  {
   "cell_type": "code",
   "execution_count": 77,
   "metadata": {
    "slideshow": {
     "slide_type": "fragment"
    }
   },
   "outputs": [
    {
     "name": "stdout",
     "output_type": "stream",
     "text": [
      "Dimensions:  (395, 19)\n"
     ]
    },
    {
     "data": {
      "text/html": [
       "<div>\n",
       "<style scoped>\n",
       "    .dataframe tbody tr th:only-of-type {\n",
       "        vertical-align: middle;\n",
       "    }\n",
       "\n",
       "    .dataframe tbody tr th {\n",
       "        vertical-align: top;\n",
       "    }\n",
       "\n",
       "    .dataframe thead th {\n",
       "        text-align: right;\n",
       "    }\n",
       "</style>\n",
       "<table border=\"1\" class=\"dataframe\">\n",
       "  <thead>\n",
       "    <tr style=\"text-align: right;\">\n",
       "      <th></th>\n",
       "      <th>group_code</th>\n",
       "      <th>group</th>\n",
       "      <th>statespond</th>\n",
       "      <th>country</th>\n",
       "      <th>ccode</th>\n",
       "      <th>fatalities</th>\n",
       "      <th>OrgAge</th>\n",
       "      <th>ordsize</th>\n",
       "      <th>terrStrong</th>\n",
       "      <th>degree</th>\n",
       "      <th>ContainRelig</th>\n",
       "      <th>ContainEthno</th>\n",
       "      <th>LeftNoReligEthno</th>\n",
       "      <th>PureRelig</th>\n",
       "      <th>PureEthno</th>\n",
       "      <th>ReligEthno</th>\n",
       "      <th>ContainRelig2</th>\n",
       "      <th>ContainEthno2</th>\n",
       "      <th>Islam</th>\n",
       "    </tr>\n",
       "  </thead>\n",
       "  <tbody>\n",
       "    <tr>\n",
       "      <th>0</th>\n",
       "      <td>50</td>\n",
       "      <td>Animal Liberation Front (ALF)</td>\n",
       "      <td>0</td>\n",
       "      <td>US</td>\n",
       "      <td>2</td>\n",
       "      <td>0</td>\n",
       "      <td>30</td>\n",
       "      <td>0</td>\n",
       "      <td>0</td>\n",
       "      <td>1</td>\n",
       "      <td>0</td>\n",
       "      <td>0</td>\n",
       "      <td>0</td>\n",
       "      <td>0</td>\n",
       "      <td>0</td>\n",
       "      <td>0</td>\n",
       "      <td>0</td>\n",
       "      <td>0</td>\n",
       "      <td>0</td>\n",
       "    </tr>\n",
       "    <tr>\n",
       "      <th>1</th>\n",
       "      <td>89</td>\n",
       "      <td>Army of God</td>\n",
       "      <td>0</td>\n",
       "      <td>US</td>\n",
       "      <td>2</td>\n",
       "      <td>1</td>\n",
       "      <td>24</td>\n",
       "      <td>0</td>\n",
       "      <td>0</td>\n",
       "      <td>0</td>\n",
       "      <td>1</td>\n",
       "      <td>0</td>\n",
       "      <td>0</td>\n",
       "      <td>1</td>\n",
       "      <td>0</td>\n",
       "      <td>0</td>\n",
       "      <td>1</td>\n",
       "      <td>0</td>\n",
       "      <td>0</td>\n",
       "    </tr>\n",
       "    <tr>\n",
       "      <th>2</th>\n",
       "      <td>113</td>\n",
       "      <td>Cambodian Freedom Fighters (CFF)</td>\n",
       "      <td>0</td>\n",
       "      <td>US</td>\n",
       "      <td>2</td>\n",
       "      <td>0</td>\n",
       "      <td>8</td>\n",
       "      <td>0</td>\n",
       "      <td>0</td>\n",
       "      <td>0</td>\n",
       "      <td>0</td>\n",
       "      <td>1</td>\n",
       "      <td>0</td>\n",
       "      <td>0</td>\n",
       "      <td>0</td>\n",
       "      <td>0</td>\n",
       "      <td>0</td>\n",
       "      <td>1</td>\n",
       "      <td>0</td>\n",
       "    </tr>\n",
       "    <tr>\n",
       "      <th>3</th>\n",
       "      <td>126</td>\n",
       "      <td>Coalition to Save the Preserves (CSP)</td>\n",
       "      <td>0</td>\n",
       "      <td>US</td>\n",
       "      <td>2</td>\n",
       "      <td>0</td>\n",
       "      <td>6</td>\n",
       "      <td>0</td>\n",
       "      <td>0</td>\n",
       "      <td>0</td>\n",
       "      <td>0</td>\n",
       "      <td>0</td>\n",
       "      <td>0</td>\n",
       "      <td>0</td>\n",
       "      <td>0</td>\n",
       "      <td>0</td>\n",
       "      <td>0</td>\n",
       "      <td>0</td>\n",
       "      <td>0</td>\n",
       "    </tr>\n",
       "    <tr>\n",
       "      <th>4</th>\n",
       "      <td>153</td>\n",
       "      <td>Earth Liberation Front (ELF)</td>\n",
       "      <td>0</td>\n",
       "      <td>US</td>\n",
       "      <td>2</td>\n",
       "      <td>0</td>\n",
       "      <td>14</td>\n",
       "      <td>0</td>\n",
       "      <td>0</td>\n",
       "      <td>1</td>\n",
       "      <td>0</td>\n",
       "      <td>0</td>\n",
       "      <td>0</td>\n",
       "      <td>0</td>\n",
       "      <td>0</td>\n",
       "      <td>0</td>\n",
       "      <td>0</td>\n",
       "      <td>0</td>\n",
       "      <td>0</td>\n",
       "    </tr>\n",
       "  </tbody>\n",
       "</table>\n",
       "</div>"
      ],
      "text/plain": [
       "   group_code                                  group  statespond country  \\\n",
       "0          50          Animal Liberation Front (ALF)           0      US   \n",
       "1          89                            Army of God           0      US   \n",
       "2         113       Cambodian Freedom Fighters (CFF)           0      US   \n",
       "3         126  Coalition to Save the Preserves (CSP)           0      US   \n",
       "4         153           Earth Liberation Front (ELF)           0      US   \n",
       "\n",
       "   ccode  fatalities  OrgAge  ordsize  terrStrong  degree  ContainRelig  \\\n",
       "0      2           0      30        0           0       1             0   \n",
       "1      2           1      24        0           0       0             1   \n",
       "2      2           0       8        0           0       0             0   \n",
       "3      2           0       6        0           0       0             0   \n",
       "4      2           0      14        0           0       1             0   \n",
       "\n",
       "   ContainEthno  LeftNoReligEthno  PureRelig  PureEthno  ReligEthno  \\\n",
       "0             0                 0          0          0           0   \n",
       "1             0                 0          1          0           0   \n",
       "2             1                 0          0          0           0   \n",
       "3             0                 0          0          0           0   \n",
       "4             0                 0          0          0           0   \n",
       "\n",
       "   ContainRelig2  ContainEthno2  Islam  \n",
       "0              0              0      0  \n",
       "1              1              0      0  \n",
       "2              0              1      0  \n",
       "3              0              0      0  \n",
       "4              0              0      0  "
      ]
     },
     "execution_count": 77,
     "metadata": {},
     "output_type": "execute_result"
    }
   ],
   "source": [
    "baad_covars.rename(columns = {'cowmastercountry':'country',\n",
    "                              'masterccode':'ccode',\n",
    "                       'mastertccode3606':'group_code',\n",
    "                       'fatalities19982005':'fatalities'},\n",
    "            inplace = True)\n",
    "baad_covars.replace({'country':{'United States of America':'US'}},\n",
    "            inplace = True)\n",
    "print('Dimensions: ',baad_covars.shape)\n",
    "baad_covars.head()"
   ]
  },
  {
   "cell_type": "markdown",
   "metadata": {
    "slideshow": {
     "slide_type": "slide"
    }
   },
   "source": [
    "# Set a useful index"
   ]
  },
  {
   "cell_type": "code",
   "execution_count": 39,
   "metadata": {
    "slideshow": {
     "slide_type": "fragment"
    }
   },
   "outputs": [
    {
     "data": {
      "text/html": [
       "<div>\n",
       "<style scoped>\n",
       "    .dataframe tbody tr th:only-of-type {\n",
       "        vertical-align: middle;\n",
       "    }\n",
       "\n",
       "    .dataframe tbody tr th {\n",
       "        vertical-align: top;\n",
       "    }\n",
       "\n",
       "    .dataframe thead th {\n",
       "        text-align: right;\n",
       "    }\n",
       "</style>\n",
       "<table border=\"1\" class=\"dataframe\">\n",
       "  <thead>\n",
       "    <tr style=\"text-align: right;\">\n",
       "      <th></th>\n",
       "      <th>group</th>\n",
       "      <th>statespond</th>\n",
       "      <th>country</th>\n",
       "      <th>ccode</th>\n",
       "      <th>fatalities</th>\n",
       "      <th>OrgAge</th>\n",
       "      <th>ordsize</th>\n",
       "      <th>terrStrong</th>\n",
       "      <th>degree</th>\n",
       "      <th>ContainRelig</th>\n",
       "      <th>ContainEthno</th>\n",
       "      <th>LeftNoReligEthno</th>\n",
       "      <th>PureRelig</th>\n",
       "      <th>PureEthno</th>\n",
       "      <th>ReligEthno</th>\n",
       "      <th>ContainRelig2</th>\n",
       "      <th>ContainEthno2</th>\n",
       "      <th>Islam</th>\n",
       "    </tr>\n",
       "    <tr>\n",
       "      <th>group_code</th>\n",
       "      <th></th>\n",
       "      <th></th>\n",
       "      <th></th>\n",
       "      <th></th>\n",
       "      <th></th>\n",
       "      <th></th>\n",
       "      <th></th>\n",
       "      <th></th>\n",
       "      <th></th>\n",
       "      <th></th>\n",
       "      <th></th>\n",
       "      <th></th>\n",
       "      <th></th>\n",
       "      <th></th>\n",
       "      <th></th>\n",
       "      <th></th>\n",
       "      <th></th>\n",
       "      <th></th>\n",
       "    </tr>\n",
       "  </thead>\n",
       "  <tbody>\n",
       "    <tr>\n",
       "      <th>50</th>\n",
       "      <td>Animal Liberation Front (ALF)</td>\n",
       "      <td>0</td>\n",
       "      <td>US</td>\n",
       "      <td>2</td>\n",
       "      <td>0</td>\n",
       "      <td>30</td>\n",
       "      <td>0</td>\n",
       "      <td>0</td>\n",
       "      <td>1</td>\n",
       "      <td>0</td>\n",
       "      <td>0</td>\n",
       "      <td>0</td>\n",
       "      <td>0</td>\n",
       "      <td>0</td>\n",
       "      <td>0</td>\n",
       "      <td>0</td>\n",
       "      <td>0</td>\n",
       "      <td>0</td>\n",
       "    </tr>\n",
       "    <tr>\n",
       "      <th>89</th>\n",
       "      <td>Army of God</td>\n",
       "      <td>0</td>\n",
       "      <td>US</td>\n",
       "      <td>2</td>\n",
       "      <td>1</td>\n",
       "      <td>24</td>\n",
       "      <td>0</td>\n",
       "      <td>0</td>\n",
       "      <td>0</td>\n",
       "      <td>1</td>\n",
       "      <td>0</td>\n",
       "      <td>0</td>\n",
       "      <td>1</td>\n",
       "      <td>0</td>\n",
       "      <td>0</td>\n",
       "      <td>1</td>\n",
       "      <td>0</td>\n",
       "      <td>0</td>\n",
       "    </tr>\n",
       "    <tr>\n",
       "      <th>113</th>\n",
       "      <td>Cambodian Freedom Fighters (CFF)</td>\n",
       "      <td>0</td>\n",
       "      <td>US</td>\n",
       "      <td>2</td>\n",
       "      <td>0</td>\n",
       "      <td>8</td>\n",
       "      <td>0</td>\n",
       "      <td>0</td>\n",
       "      <td>0</td>\n",
       "      <td>0</td>\n",
       "      <td>1</td>\n",
       "      <td>0</td>\n",
       "      <td>0</td>\n",
       "      <td>0</td>\n",
       "      <td>0</td>\n",
       "      <td>0</td>\n",
       "      <td>1</td>\n",
       "      <td>0</td>\n",
       "    </tr>\n",
       "    <tr>\n",
       "      <th>126</th>\n",
       "      <td>Coalition to Save the Preserves (CSP)</td>\n",
       "      <td>0</td>\n",
       "      <td>US</td>\n",
       "      <td>2</td>\n",
       "      <td>0</td>\n",
       "      <td>6</td>\n",
       "      <td>0</td>\n",
       "      <td>0</td>\n",
       "      <td>0</td>\n",
       "      <td>0</td>\n",
       "      <td>0</td>\n",
       "      <td>0</td>\n",
       "      <td>0</td>\n",
       "      <td>0</td>\n",
       "      <td>0</td>\n",
       "      <td>0</td>\n",
       "      <td>0</td>\n",
       "      <td>0</td>\n",
       "    </tr>\n",
       "    <tr>\n",
       "      <th>153</th>\n",
       "      <td>Earth Liberation Front (ELF)</td>\n",
       "      <td>0</td>\n",
       "      <td>US</td>\n",
       "      <td>2</td>\n",
       "      <td>0</td>\n",
       "      <td>14</td>\n",
       "      <td>0</td>\n",
       "      <td>0</td>\n",
       "      <td>1</td>\n",
       "      <td>0</td>\n",
       "      <td>0</td>\n",
       "      <td>0</td>\n",
       "      <td>0</td>\n",
       "      <td>0</td>\n",
       "      <td>0</td>\n",
       "      <td>0</td>\n",
       "      <td>0</td>\n",
       "      <td>0</td>\n",
       "    </tr>\n",
       "  </tbody>\n",
       "</table>\n",
       "</div>"
      ],
      "text/plain": [
       "                                            group  statespond country  ccode  \\\n",
       "group_code                                                                     \n",
       "50                  Animal Liberation Front (ALF)           0      US      2   \n",
       "89                                    Army of God           0      US      2   \n",
       "113              Cambodian Freedom Fighters (CFF)           0      US      2   \n",
       "126         Coalition to Save the Preserves (CSP)           0      US      2   \n",
       "153                  Earth Liberation Front (ELF)           0      US      2   \n",
       "\n",
       "            fatalities  OrgAge  ordsize  terrStrong  degree  ContainRelig  \\\n",
       "group_code                                                                  \n",
       "50                   0      30        0           0       1             0   \n",
       "89                   1      24        0           0       0             1   \n",
       "113                  0       8        0           0       0             0   \n",
       "126                  0       6        0           0       0             0   \n",
       "153                  0      14        0           0       1             0   \n",
       "\n",
       "            ContainEthno  LeftNoReligEthno  PureRelig  PureEthno  ReligEthno  \\\n",
       "group_code                                                                     \n",
       "50                     0                 0          0          0           0   \n",
       "89                     0                 0          1          0           0   \n",
       "113                    1                 0          0          0           0   \n",
       "126                    0                 0          0          0           0   \n",
       "153                    0                 0          0          0           0   \n",
       "\n",
       "            ContainRelig2  ContainEthno2  Islam  \n",
       "group_code                                       \n",
       "50                      0              0      0  \n",
       "89                      1              0      0  \n",
       "113                     0              1      0  \n",
       "126                     0              0      0  \n",
       "153                     0              0      0  "
      ]
     },
     "execution_count": 39,
     "metadata": {},
     "output_type": "execute_result"
    }
   ],
   "source": [
    "#Set the index\n",
    "baad_covars.set_index(['group_code'],inplace = True)\n",
    "baad_covars.head()"
   ]
  },
  {
   "cell_type": "markdown",
   "metadata": {
    "slideshow": {
     "slide_type": "slide"
    }
   },
   "source": [
    "# Save Your Changes\n",
    "* Save it to a usable spreadsheet instead of an unreadable binary"
   ]
  },
  {
   "cell_type": "code",
   "execution_count": 78,
   "metadata": {
    "slideshow": {
     "slide_type": "fragment"
    }
   },
   "outputs": [],
   "source": [
    "baad_covars.to_csv('updated_baad.csv')"
   ]
  },
  {
   "cell_type": "markdown",
   "metadata": {
    "slideshow": {
     "slide_type": "slide"
    }
   },
   "source": [
    "# Slicing\n",
    "* Get specific values from the dataframe. \n",
    "* Pandas has several slice operators. \n",
    "  * iloc can be used to index the row by ordered integer. i.e. first row is 0, second row is 1, etc. Use this option sparingly. Better practice to use the index you have created. \n",
    "  * loc uses the named index and columns. \n",
    "* Index using [row, columns]\n",
    "* Put your column names in a list\n",
    "* Use : for all values\n",
    "* Notice that the output keeps the index names. "
   ]
  },
  {
   "cell_type": "code",
   "execution_count": 40,
   "metadata": {
    "slideshow": {
     "slide_type": "fragment"
    }
   },
   "outputs": [
    {
     "data": {
      "text/plain": [
       "group_code\n",
       "50     0\n",
       "89     1\n",
       "113    0\n",
       "126    0\n",
       "153    0\n",
       "Name: fatalities, dtype: int64"
      ]
     },
     "execution_count": 40,
     "metadata": {},
     "output_type": "execute_result"
    }
   ],
   "source": [
    "baad_covars.loc[:, ['fatalities']].head()"
   ]
  },
  {
   "cell_type": "markdown",
   "metadata": {
    "slideshow": {
     "slide_type": "slide"
    }
   },
   "source": [
    "# Slicing Using Conditionals\n",
    "* Put conditionals in parentheses\n",
    "* Stack multiple conditionals using:\n",
    "  * & when both conditions must always apply\n",
    "  * | when at least one condition must apply"
   ]
  },
  {
   "cell_type": "code",
   "execution_count": 41,
   "metadata": {
    "slideshow": {
     "slide_type": "fragment"
    }
   },
   "outputs": [
    {
     "data": {
      "text/html": [
       "<div>\n",
       "<style scoped>\n",
       "    .dataframe tbody tr th:only-of-type {\n",
       "        vertical-align: middle;\n",
       "    }\n",
       "\n",
       "    .dataframe tbody tr th {\n",
       "        vertical-align: top;\n",
       "    }\n",
       "\n",
       "    .dataframe thead th {\n",
       "        text-align: right;\n",
       "    }\n",
       "</style>\n",
       "<table border=\"1\" class=\"dataframe\">\n",
       "  <thead>\n",
       "    <tr style=\"text-align: right;\">\n",
       "      <th></th>\n",
       "      <th>group</th>\n",
       "      <th>country</th>\n",
       "    </tr>\n",
       "    <tr>\n",
       "      <th>group_code</th>\n",
       "      <th></th>\n",
       "      <th></th>\n",
       "    </tr>\n",
       "  </thead>\n",
       "  <tbody>\n",
       "    <tr>\n",
       "      <th>50</th>\n",
       "      <td>Animal Liberation Front (ALF)</td>\n",
       "      <td>US</td>\n",
       "    </tr>\n",
       "    <tr>\n",
       "      <th>153</th>\n",
       "      <td>Earth Liberation Front (ELF)</td>\n",
       "      <td>US</td>\n",
       "    </tr>\n",
       "    <tr>\n",
       "      <th>30035</th>\n",
       "      <td>Maras Salvatruchas</td>\n",
       "      <td>US</td>\n",
       "    </tr>\n",
       "    <tr>\n",
       "      <th>10042</th>\n",
       "      <td>Group of Guerilla Combatants of Jose Maria Mor...</td>\n",
       "      <td>Mexico</td>\n",
       "    </tr>\n",
       "    <tr>\n",
       "      <th>246</th>\n",
       "      <td>Justice Army of the Defenseless People</td>\n",
       "      <td>Mexico</td>\n",
       "    </tr>\n",
       "  </tbody>\n",
       "</table>\n",
       "</div>"
      ],
      "text/plain": [
       "                                                        group country\n",
       "group_code                                                           \n",
       "50                              Animal Liberation Front (ALF)      US\n",
       "153                              Earth Liberation Front (ELF)      US\n",
       "30035                                      Maras Salvatruchas      US\n",
       "10042       Group of Guerilla Combatants of Jose Maria Mor...  Mexico\n",
       "246                    Justice Army of the Defenseless People  Mexico"
      ]
     },
     "execution_count": 41,
     "metadata": {},
     "output_type": "execute_result"
    }
   ],
   "source": [
    "baad_covars.loc[(baad_covars.fatalities>1) | (baad_covars.degree>=1),\n",
    "               ['group','country']].head()"
   ]
  },
  {
   "cell_type": "markdown",
   "metadata": {
    "slideshow": {
     "slide_type": "slide"
    }
   },
   "source": [
    "# Find a list of religious groups with territory"
   ]
  },
  {
   "cell_type": "markdown",
   "metadata": {
    "slideshow": {
     "slide_type": "slide"
    }
   },
   "source": [
    "# Find a list of religious groups with territory"
   ]
  },
  {
   "cell_type": "code",
   "execution_count": 102,
   "metadata": {
    "slideshow": {
     "slide_type": "fragment"
    }
   },
   "outputs": [
    {
     "data": {
      "text/html": [
       "<div>\n",
       "<style scoped>\n",
       "    .dataframe tbody tr th:only-of-type {\n",
       "        vertical-align: middle;\n",
       "    }\n",
       "\n",
       "    .dataframe tbody tr th {\n",
       "        vertical-align: top;\n",
       "    }\n",
       "\n",
       "    .dataframe thead th {\n",
       "        text-align: right;\n",
       "    }\n",
       "</style>\n",
       "<table border=\"1\" class=\"dataframe\">\n",
       "  <thead>\n",
       "    <tr style=\"text-align: right;\">\n",
       "      <th></th>\n",
       "      <th>group</th>\n",
       "    </tr>\n",
       "  </thead>\n",
       "  <tbody>\n",
       "    <tr>\n",
       "      <th>198</th>\n",
       "      <td>Hisba</td>\n",
       "    </tr>\n",
       "    <tr>\n",
       "      <th>203</th>\n",
       "      <td>Lord's Resistance Army (LRA)</td>\n",
       "    </tr>\n",
       "    <tr>\n",
       "      <th>238</th>\n",
       "      <td>Ansar al-Islam</td>\n",
       "    </tr>\n",
       "    <tr>\n",
       "      <th>252</th>\n",
       "      <td>Mahdi Army</td>\n",
       "    </tr>\n",
       "    <tr>\n",
       "      <th>272</th>\n",
       "      <td>Hezbollah</td>\n",
       "    </tr>\n",
       "    <tr>\n",
       "      <th>281</th>\n",
       "      <td>Hamas</td>\n",
       "    </tr>\n",
       "    <tr>\n",
       "      <th>298</th>\n",
       "      <td>Hizb-I-Islami</td>\n",
       "    </tr>\n",
       "    <tr>\n",
       "      <th>303</th>\n",
       "      <td>Taliban</td>\n",
       "    </tr>\n",
       "    <tr>\n",
       "      <th>305</th>\n",
       "      <td>Islamic Movement of Uzbekistan (IMU)</td>\n",
       "    </tr>\n",
       "    <tr>\n",
       "      <th>356</th>\n",
       "      <td>al-Qaeda</td>\n",
       "    </tr>\n",
       "    <tr>\n",
       "      <th>379</th>\n",
       "      <td>Abu Sayyaf Group (ASG)</td>\n",
       "    </tr>\n",
       "    <tr>\n",
       "      <th>383</th>\n",
       "      <td>Moro Islamic Liberation Front (MILF)</td>\n",
       "    </tr>\n",
       "    <tr>\n",
       "      <th>384</th>\n",
       "      <td>Moro National Liberation Front (MNLF)</td>\n",
       "    </tr>\n",
       "    <tr>\n",
       "      <th>391</th>\n",
       "      <td>Jemaah Islamiya (JI)</td>\n",
       "    </tr>\n",
       "    <tr>\n",
       "      <th>392</th>\n",
       "      <td>Laskar Jihad</td>\n",
       "    </tr>\n",
       "  </tbody>\n",
       "</table>\n",
       "</div>"
      ],
      "text/plain": [
       "                                     group\n",
       "198                                  Hisba\n",
       "203           Lord's Resistance Army (LRA)\n",
       "238                         Ansar al-Islam\n",
       "252                             Mahdi Army\n",
       "272                              Hezbollah\n",
       "281                                  Hamas\n",
       "298                          Hizb-I-Islami\n",
       "303                                Taliban\n",
       "305   Islamic Movement of Uzbekistan (IMU)\n",
       "356                               al-Qaeda\n",
       "379                 Abu Sayyaf Group (ASG)\n",
       "383   Moro Islamic Liberation Front (MILF)\n",
       "384  Moro National Liberation Front (MNLF)\n",
       "391                   Jemaah Islamiya (JI)\n",
       "392                           Laskar Jihad"
      ]
     },
     "execution_count": 102,
     "metadata": {},
     "output_type": "execute_result"
    }
   ],
   "source": [
    "baad_covars.loc[(baad_covars.ContainRelig==1)&\n",
    "               (baad_covars.terrStrong==1),['group']]"
   ]
  },
  {
   "cell_type": "markdown",
   "metadata": {
    "slideshow": {
     "slide_type": "slide"
    }
   },
   "source": [
    "# Plot a histogram of organization age with 20 bins"
   ]
  },
  {
   "cell_type": "markdown",
   "metadata": {
    "slideshow": {
     "slide_type": "slide"
    }
   },
   "source": [
    "# Plot a histogram of organization age with 20 bins"
   ]
  },
  {
   "cell_type": "code",
   "execution_count": 103,
   "metadata": {
    "slideshow": {
     "slide_type": "fragment"
    }
   },
   "outputs": [
    {
     "data": {
      "text/plain": [
       "<matplotlib.axes._subplots.AxesSubplot at 0x7fdaf0883588>"
      ]
     },
     "execution_count": 103,
     "metadata": {},
     "output_type": "execute_result"
    },
    {
     "data": {
      "image/png": "[encoded data removed]",
      "text/plain": [
       "<Figure size 432x288 with 1 Axes>"
      ]
     },
     "metadata": {},
     "output_type": "display_data"
    }
   ],
   "source": [
    "baad_covars.OrgAge.plot.hist(bins=10)"
   ]
  },
  {
   "cell_type": "markdown",
   "metadata": {
    "slideshow": {
     "slide_type": "slide"
    }
   },
   "source": [
    "# Grouping By Variables\n",
    "* Groupby(): List the variables to group by\n",
    "* .function(): How to aggregate the rows\n",
    "  * Try: .count(), .mean(), .first(), .mode()"
   ]
  },
  {
   "cell_type": "code",
   "execution_count": 83,
   "metadata": {
    "slideshow": {
     "slide_type": "fragment"
    }
   },
   "outputs": [
    {
     "data": {
      "text/html": [
       "<div>\n",
       "<style scoped>\n",
       "    .dataframe tbody tr th:only-of-type {\n",
       "        vertical-align: middle;\n",
       "    }\n",
       "\n",
       "    .dataframe tbody tr th {\n",
       "        vertical-align: top;\n",
       "    }\n",
       "\n",
       "    .dataframe thead th {\n",
       "        text-align: right;\n",
       "    }\n",
       "</style>\n",
       "<table border=\"1\" class=\"dataframe\">\n",
       "  <thead>\n",
       "    <tr style=\"text-align: right;\">\n",
       "      <th></th>\n",
       "      <th>OrgAge</th>\n",
       "      <th>ordsize</th>\n",
       "      <th>degree</th>\n",
       "      <th>fatalities</th>\n",
       "    </tr>\n",
       "    <tr>\n",
       "      <th>country</th>\n",
       "      <th></th>\n",
       "      <th></th>\n",
       "      <th></th>\n",
       "      <th></th>\n",
       "    </tr>\n",
       "  </thead>\n",
       "  <tbody>\n",
       "    <tr>\n",
       "      <th>Afghanistan</th>\n",
       "      <td>58</td>\n",
       "      <td>4</td>\n",
       "      <td>11</td>\n",
       "      <td>353</td>\n",
       "    </tr>\n",
       "    <tr>\n",
       "      <th>Algeria</th>\n",
       "      <td>24</td>\n",
       "      <td>2</td>\n",
       "      <td>6</td>\n",
       "      <td>409</td>\n",
       "    </tr>\n",
       "    <tr>\n",
       "      <th>Angola</th>\n",
       "      <td>83</td>\n",
       "      <td>5</td>\n",
       "      <td>0</td>\n",
       "      <td>276</td>\n",
       "    </tr>\n",
       "    <tr>\n",
       "      <th>Argentina</th>\n",
       "      <td>2</td>\n",
       "      <td>0</td>\n",
       "      <td>0</td>\n",
       "      <td>0</td>\n",
       "    </tr>\n",
       "    <tr>\n",
       "      <th>Bangladesh</th>\n",
       "      <td>83</td>\n",
       "      <td>5</td>\n",
       "      <td>4</td>\n",
       "      <td>80</td>\n",
       "    </tr>\n",
       "  </tbody>\n",
       "</table>\n",
       "</div>"
      ],
      "text/plain": [
       "             OrgAge  ordsize  degree  fatalities\n",
       "country                                         \n",
       "Afghanistan      58        4      11         353\n",
       "Algeria          24        2       6         409\n",
       "Angola           83        5       0         276\n",
       "Argentina         2        0       0           0\n",
       "Bangladesh       83        5       4          80"
      ]
     },
     "execution_count": 83,
     "metadata": {},
     "output_type": "execute_result"
    }
   ],
   "source": [
    "state_level = baad_covars.loc[:,['country','OrgAge',\n",
    "                                     'ordsize','degree',\n",
    "                                    'fatalities']\n",
    "                                 ].groupby(['country']).sum()\n",
    "state_level.head()"
   ]
  },
  {
   "cell_type": "markdown",
   "metadata": {
    "slideshow": {
     "slide_type": "slide"
    }
   },
   "source": [
    "# Making New Columns\n",
    "\n",
    "### Assign values to a new column based on other columns:"
   ]
  },
  {
   "cell_type": "code",
   "execution_count": 62,
   "metadata": {
    "slideshow": {
     "slide_type": "fragment"
    }
   },
   "outputs": [
    {
     "data": {
      "text/plain": [
       "group_code\n",
       "50     1\n",
       "89     0\n",
       "113    0\n",
       "126    0\n",
       "153    1\n",
       "Name: big, dtype: int64"
      ]
     },
     "execution_count": 62,
     "metadata": {},
     "output_type": "execute_result"
    }
   ],
   "source": [
    "baad_covars['big'] = 0\n",
    "baad_covars.loc[(baad_covars.fatalities>1) | \n",
    "                (baad_covars.degree>=1),\n",
    "               'big']=1\n",
    "baad_covars.big.head()"
   ]
  },
  {
   "cell_type": "markdown",
   "metadata": {
    "slideshow": {
     "slide_type": "slide"
    }
   },
   "source": [
    "# Handle Missing Values\n",
    "### First lets make some\n",
    "* Default python type: None\n",
    "* Numpy datatype that can be treated like a number: np.nan\n",
    "* Pandas turns None into an np.nan"
   ]
  },
  {
   "cell_type": "code",
   "execution_count": 54,
   "metadata": {
    "slideshow": {
     "slide_type": "fragment"
    }
   },
   "outputs": [
    {
     "name": "stdout",
     "output_type": "stream",
     "text": [
      "<class 'float'>\n"
     ]
    },
    {
     "data": {
      "text/html": [
       "<div>\n",
       "<style scoped>\n",
       "    .dataframe tbody tr th:only-of-type {\n",
       "        vertical-align: middle;\n",
       "    }\n",
       "\n",
       "    .dataframe tbody tr th {\n",
       "        vertical-align: top;\n",
       "    }\n",
       "\n",
       "    .dataframe thead th {\n",
       "        text-align: right;\n",
       "    }\n",
       "</style>\n",
       "<table border=\"1\" class=\"dataframe\">\n",
       "  <thead>\n",
       "    <tr style=\"text-align: right;\">\n",
       "      <th></th>\n",
       "      <th>terrStrong</th>\n",
       "    </tr>\n",
       "    <tr>\n",
       "      <th>group_code</th>\n",
       "      <th></th>\n",
       "    </tr>\n",
       "  </thead>\n",
       "  <tbody>\n",
       "    <tr>\n",
       "      <th>50</th>\n",
       "      <td>NaN</td>\n",
       "    </tr>\n",
       "    <tr>\n",
       "      <th>153</th>\n",
       "      <td>NaN</td>\n",
       "    </tr>\n",
       "    <tr>\n",
       "      <th>30035</th>\n",
       "      <td>NaN</td>\n",
       "    </tr>\n",
       "    <tr>\n",
       "      <th>10042</th>\n",
       "      <td>NaN</td>\n",
       "    </tr>\n",
       "    <tr>\n",
       "      <th>246</th>\n",
       "      <td>NaN</td>\n",
       "    </tr>\n",
       "  </tbody>\n",
       "</table>\n",
       "</div>"
      ],
      "text/plain": [
       "            terrStrong\n",
       "group_code            \n",
       "50                 NaN\n",
       "153                NaN\n",
       "30035              NaN\n",
       "10042              NaN\n",
       "246                NaN"
      ]
     },
     "execution_count": 54,
     "metadata": {},
     "output_type": "execute_result"
    }
   ],
   "source": [
    "print(type(np.nan))\n",
    "baad_covars.loc[(baad_covars.fatalities>1) | (baad_covars.degree>=1),\n",
    "               ['terrStrong']] = None\n",
    "baad_covars.loc[(baad_covars.fatalities>1) | (baad_covars.degree>=1),\n",
    "               ['terrStrong']].head()"
   ]
  },
  {
   "cell_type": "markdown",
   "metadata": {
    "slideshow": {
     "slide_type": "slide"
    }
   },
   "source": [
    "# Handling Missing Values\n",
    "### We could index by them"
   ]
  },
  {
   "cell_type": "code",
   "execution_count": 56,
   "metadata": {
    "slideshow": {
     "slide_type": "fragment"
    }
   },
   "outputs": [
    {
     "data": {
      "text/plain": [
       "group_code\n",
       "50      NaN\n",
       "153     NaN\n",
       "30035   NaN\n",
       "10042   NaN\n",
       "246     NaN\n",
       "Name: terrStrong, dtype: float64"
      ]
     },
     "execution_count": 56,
     "metadata": {},
     "output_type": "execute_result"
    }
   ],
   "source": [
    "baad_covars.loc[baad_covars.terrStrong.isnull(),'terrStrong'].head()"
   ]
  },
  {
   "cell_type": "markdown",
   "metadata": {
    "slideshow": {
     "slide_type": "slide"
    }
   },
   "source": [
    "# Handling Missing Values\n",
    "### We could fill them: "
   ]
  },
  {
   "cell_type": "code",
   "execution_count": 58,
   "metadata": {
    "slideshow": {
     "slide_type": "fragment"
    }
   },
   "outputs": [
    {
     "data": {
      "text/plain": [
       "group_code\n",
       "50    -77.0\n",
       "89      0.0\n",
       "113     0.0\n",
       "126     0.0\n",
       "153   -77.0\n",
       "Name: terrStrong, dtype: float64"
      ]
     },
     "execution_count": 58,
     "metadata": {},
     "output_type": "execute_result"
    }
   ],
   "source": [
    "baad_covars['terrStrong'] = baad_covars.terrStrong.fillna(-77)\n",
    "baad_covars.terrStrong.head()"
   ]
  },
  {
   "cell_type": "markdown",
   "metadata": {
    "slideshow": {
     "slide_type": "slide"
    }
   },
   "source": [
    "# Handling Missing Values\n",
    "### We could drop their rows or columns: \n",
    "* Subset is optional: which columns to look in. \n",
    "* inplace = True will drop rows in df without having to assign another variable"
   ]
  },
  {
   "cell_type": "code",
   "execution_count": 60,
   "metadata": {
    "slideshow": {
     "slide_type": "fragment"
    }
   },
   "outputs": [],
   "source": [
    "baad_covars_dropped = baad_covars.dropna(axis='index',\n",
    "                                         subset=['terrStrong'],\n",
    "                                        inplace=False)"
   ]
  },
  {
   "cell_type": "markdown",
   "metadata": {
    "slideshow": {
     "slide_type": "slide"
    }
   },
   "source": [
    "# Reindexing: Pop the index out without losing it"
   ]
  },
  {
   "cell_type": "code",
   "execution_count": 63,
   "metadata": {
    "slideshow": {
     "slide_type": "fragment"
    }
   },
   "outputs": [
    {
     "data": {
      "text/html": [
       "<div>\n",
       "<style scoped>\n",
       "    .dataframe tbody tr th:only-of-type {\n",
       "        vertical-align: middle;\n",
       "    }\n",
       "\n",
       "    .dataframe tbody tr th {\n",
       "        vertical-align: top;\n",
       "    }\n",
       "\n",
       "    .dataframe thead th {\n",
       "        text-align: right;\n",
       "    }\n",
       "</style>\n",
       "<table border=\"1\" class=\"dataframe\">\n",
       "  <thead>\n",
       "    <tr style=\"text-align: right;\">\n",
       "      <th></th>\n",
       "      <th>group_code</th>\n",
       "      <th>group</th>\n",
       "      <th>statespond</th>\n",
       "      <th>country</th>\n",
       "      <th>ccode</th>\n",
       "      <th>fatalities</th>\n",
       "      <th>OrgAge</th>\n",
       "      <th>ordsize</th>\n",
       "      <th>terrStrong</th>\n",
       "      <th>degree</th>\n",
       "      <th>ContainRelig</th>\n",
       "      <th>ContainEthno</th>\n",
       "      <th>LeftNoReligEthno</th>\n",
       "      <th>PureRelig</th>\n",
       "      <th>PureEthno</th>\n",
       "      <th>ReligEthno</th>\n",
       "      <th>ContainRelig2</th>\n",
       "      <th>ContainEthno2</th>\n",
       "      <th>Islam</th>\n",
       "      <th>big</th>\n",
       "    </tr>\n",
       "  </thead>\n",
       "  <tbody>\n",
       "    <tr>\n",
       "      <th>0</th>\n",
       "      <td>50</td>\n",
       "      <td>Animal Liberation Front (ALF)</td>\n",
       "      <td>0</td>\n",
       "      <td>US</td>\n",
       "      <td>2</td>\n",
       "      <td>0</td>\n",
       "      <td>30</td>\n",
       "      <td>0</td>\n",
       "      <td>-77.0</td>\n",
       "      <td>1</td>\n",
       "      <td>0</td>\n",
       "      <td>0</td>\n",
       "      <td>0</td>\n",
       "      <td>0</td>\n",
       "      <td>0</td>\n",
       "      <td>0</td>\n",
       "      <td>0</td>\n",
       "      <td>0</td>\n",
       "      <td>0</td>\n",
       "      <td>1</td>\n",
       "    </tr>\n",
       "    <tr>\n",
       "      <th>1</th>\n",
       "      <td>89</td>\n",
       "      <td>Army of God</td>\n",
       "      <td>0</td>\n",
       "      <td>US</td>\n",
       "      <td>2</td>\n",
       "      <td>1</td>\n",
       "      <td>24</td>\n",
       "      <td>0</td>\n",
       "      <td>0.0</td>\n",
       "      <td>0</td>\n",
       "      <td>1</td>\n",
       "      <td>0</td>\n",
       "      <td>0</td>\n",
       "      <td>1</td>\n",
       "      <td>0</td>\n",
       "      <td>0</td>\n",
       "      <td>1</td>\n",
       "      <td>0</td>\n",
       "      <td>0</td>\n",
       "      <td>0</td>\n",
       "    </tr>\n",
       "    <tr>\n",
       "      <th>2</th>\n",
       "      <td>113</td>\n",
       "      <td>Cambodian Freedom Fighters (CFF)</td>\n",
       "      <td>0</td>\n",
       "      <td>US</td>\n",
       "      <td>2</td>\n",
       "      <td>0</td>\n",
       "      <td>8</td>\n",
       "      <td>0</td>\n",
       "      <td>0.0</td>\n",
       "      <td>0</td>\n",
       "      <td>0</td>\n",
       "      <td>1</td>\n",
       "      <td>0</td>\n",
       "      <td>0</td>\n",
       "      <td>0</td>\n",
       "      <td>0</td>\n",
       "      <td>0</td>\n",
       "      <td>1</td>\n",
       "      <td>0</td>\n",
       "      <td>0</td>\n",
       "    </tr>\n",
       "    <tr>\n",
       "      <th>3</th>\n",
       "      <td>126</td>\n",
       "      <td>Coalition to Save the Preserves (CSP)</td>\n",
       "      <td>0</td>\n",
       "      <td>US</td>\n",
       "      <td>2</td>\n",
       "      <td>0</td>\n",
       "      <td>6</td>\n",
       "      <td>0</td>\n",
       "      <td>0.0</td>\n",
       "      <td>0</td>\n",
       "      <td>0</td>\n",
       "      <td>0</td>\n",
       "      <td>0</td>\n",
       "      <td>0</td>\n",
       "      <td>0</td>\n",
       "      <td>0</td>\n",
       "      <td>0</td>\n",
       "      <td>0</td>\n",
       "      <td>0</td>\n",
       "      <td>0</td>\n",
       "    </tr>\n",
       "    <tr>\n",
       "      <th>4</th>\n",
       "      <td>153</td>\n",
       "      <td>Earth Liberation Front (ELF)</td>\n",
       "      <td>0</td>\n",
       "      <td>US</td>\n",
       "      <td>2</td>\n",
       "      <td>0</td>\n",
       "      <td>14</td>\n",
       "      <td>0</td>\n",
       "      <td>-77.0</td>\n",
       "      <td>1</td>\n",
       "      <td>0</td>\n",
       "      <td>0</td>\n",
       "      <td>0</td>\n",
       "      <td>0</td>\n",
       "      <td>0</td>\n",
       "      <td>0</td>\n",
       "      <td>0</td>\n",
       "      <td>0</td>\n",
       "      <td>0</td>\n",
       "      <td>1</td>\n",
       "    </tr>\n",
       "  </tbody>\n",
       "</table>\n",
       "</div>"
      ],
      "text/plain": [
       "   group_code                                  group  statespond country  \\\n",
       "0          50          Animal Liberation Front (ALF)           0      US   \n",
       "1          89                            Army of God           0      US   \n",
       "2         113       Cambodian Freedom Fighters (CFF)           0      US   \n",
       "3         126  Coalition to Save the Preserves (CSP)           0      US   \n",
       "4         153           Earth Liberation Front (ELF)           0      US   \n",
       "\n",
       "   ccode  fatalities  OrgAge  ordsize  terrStrong  degree  ContainRelig  \\\n",
       "0      2           0      30        0       -77.0       1             0   \n",
       "1      2           1      24        0         0.0       0             1   \n",
       "2      2           0       8        0         0.0       0             0   \n",
       "3      2           0       6        0         0.0       0             0   \n",
       "4      2           0      14        0       -77.0       1             0   \n",
       "\n",
       "   ContainEthno  LeftNoReligEthno  PureRelig  PureEthno  ReligEthno  \\\n",
       "0             0                 0          0          0           0   \n",
       "1             0                 0          1          0           0   \n",
       "2             1                 0          0          0           0   \n",
       "3             0                 0          0          0           0   \n",
       "4             0                 0          0          0           0   \n",
       "\n",
       "   ContainRelig2  ContainEthno2  Islam  big  \n",
       "0              0              0      0    1  \n",
       "1              1              0      0    0  \n",
       "2              0              1      0    0  \n",
       "3              0              0      0    0  \n",
       "4              0              0      0    1  "
      ]
     },
     "execution_count": 63,
     "metadata": {},
     "output_type": "execute_result"
    }
   ],
   "source": [
    "baad_covars.reset_index(inplace=True,\n",
    "                       drop = False)\n",
    "baad_covars.head()"
   ]
  },
  {
   "cell_type": "markdown",
   "metadata": {
    "slideshow": {
     "slide_type": "slide"
    }
   },
   "source": [
    "# Set a multi-index\n",
    "* Order Matters. What happens when you reverse group and country?"
   ]
  },
  {
   "cell_type": "code",
   "execution_count": 64,
   "metadata": {
    "slideshow": {
     "slide_type": "fragment"
    }
   },
   "outputs": [
    {
     "data": {
      "text/html": [
       "<div>\n",
       "<style scoped>\n",
       "    .dataframe tbody tr th:only-of-type {\n",
       "        vertical-align: middle;\n",
       "    }\n",
       "\n",
       "    .dataframe tbody tr th {\n",
       "        vertical-align: top;\n",
       "    }\n",
       "\n",
       "    .dataframe thead th {\n",
       "        text-align: right;\n",
       "    }\n",
       "</style>\n",
       "<table border=\"1\" class=\"dataframe\">\n",
       "  <thead>\n",
       "    <tr style=\"text-align: right;\">\n",
       "      <th></th>\n",
       "      <th></th>\n",
       "      <th>group_code</th>\n",
       "      <th>statespond</th>\n",
       "      <th>ccode</th>\n",
       "      <th>fatalities</th>\n",
       "      <th>OrgAge</th>\n",
       "      <th>ordsize</th>\n",
       "      <th>terrStrong</th>\n",
       "      <th>degree</th>\n",
       "      <th>ContainRelig</th>\n",
       "      <th>ContainEthno</th>\n",
       "      <th>LeftNoReligEthno</th>\n",
       "      <th>PureRelig</th>\n",
       "      <th>PureEthno</th>\n",
       "      <th>ReligEthno</th>\n",
       "      <th>ContainRelig2</th>\n",
       "      <th>ContainEthno2</th>\n",
       "      <th>Islam</th>\n",
       "      <th>big</th>\n",
       "    </tr>\n",
       "    <tr>\n",
       "      <th>group</th>\n",
       "      <th>country</th>\n",
       "      <th></th>\n",
       "      <th></th>\n",
       "      <th></th>\n",
       "      <th></th>\n",
       "      <th></th>\n",
       "      <th></th>\n",
       "      <th></th>\n",
       "      <th></th>\n",
       "      <th></th>\n",
       "      <th></th>\n",
       "      <th></th>\n",
       "      <th></th>\n",
       "      <th></th>\n",
       "      <th></th>\n",
       "      <th></th>\n",
       "      <th></th>\n",
       "      <th></th>\n",
       "      <th></th>\n",
       "    </tr>\n",
       "  </thead>\n",
       "  <tbody>\n",
       "    <tr>\n",
       "      <th>Animal Liberation Front (ALF)</th>\n",
       "      <th>US</th>\n",
       "      <td>50</td>\n",
       "      <td>0</td>\n",
       "      <td>2</td>\n",
       "      <td>0</td>\n",
       "      <td>30</td>\n",
       "      <td>0</td>\n",
       "      <td>-77.0</td>\n",
       "      <td>1</td>\n",
       "      <td>0</td>\n",
       "      <td>0</td>\n",
       "      <td>0</td>\n",
       "      <td>0</td>\n",
       "      <td>0</td>\n",
       "      <td>0</td>\n",
       "      <td>0</td>\n",
       "      <td>0</td>\n",
       "      <td>0</td>\n",
       "      <td>1</td>\n",
       "    </tr>\n",
       "    <tr>\n",
       "      <th>Army of God</th>\n",
       "      <th>US</th>\n",
       "      <td>89</td>\n",
       "      <td>0</td>\n",
       "      <td>2</td>\n",
       "      <td>1</td>\n",
       "      <td>24</td>\n",
       "      <td>0</td>\n",
       "      <td>0.0</td>\n",
       "      <td>0</td>\n",
       "      <td>1</td>\n",
       "      <td>0</td>\n",
       "      <td>0</td>\n",
       "      <td>1</td>\n",
       "      <td>0</td>\n",
       "      <td>0</td>\n",
       "      <td>1</td>\n",
       "      <td>0</td>\n",
       "      <td>0</td>\n",
       "      <td>0</td>\n",
       "    </tr>\n",
       "    <tr>\n",
       "      <th>Cambodian Freedom Fighters (CFF)</th>\n",
       "      <th>US</th>\n",
       "      <td>113</td>\n",
       "      <td>0</td>\n",
       "      <td>2</td>\n",
       "      <td>0</td>\n",
       "      <td>8</td>\n",
       "      <td>0</td>\n",
       "      <td>0.0</td>\n",
       "      <td>0</td>\n",
       "      <td>0</td>\n",
       "      <td>1</td>\n",
       "      <td>0</td>\n",
       "      <td>0</td>\n",
       "      <td>0</td>\n",
       "      <td>0</td>\n",
       "      <td>0</td>\n",
       "      <td>1</td>\n",
       "      <td>0</td>\n",
       "      <td>0</td>\n",
       "    </tr>\n",
       "    <tr>\n",
       "      <th>Coalition to Save the Preserves (CSP)</th>\n",
       "      <th>US</th>\n",
       "      <td>126</td>\n",
       "      <td>0</td>\n",
       "      <td>2</td>\n",
       "      <td>0</td>\n",
       "      <td>6</td>\n",
       "      <td>0</td>\n",
       "      <td>0.0</td>\n",
       "      <td>0</td>\n",
       "      <td>0</td>\n",
       "      <td>0</td>\n",
       "      <td>0</td>\n",
       "      <td>0</td>\n",
       "      <td>0</td>\n",
       "      <td>0</td>\n",
       "      <td>0</td>\n",
       "      <td>0</td>\n",
       "      <td>0</td>\n",
       "      <td>0</td>\n",
       "    </tr>\n",
       "    <tr>\n",
       "      <th>Earth Liberation Front (ELF)</th>\n",
       "      <th>US</th>\n",
       "      <td>153</td>\n",
       "      <td>0</td>\n",
       "      <td>2</td>\n",
       "      <td>0</td>\n",
       "      <td>14</td>\n",
       "      <td>0</td>\n",
       "      <td>-77.0</td>\n",
       "      <td>1</td>\n",
       "      <td>0</td>\n",
       "      <td>0</td>\n",
       "      <td>0</td>\n",
       "      <td>0</td>\n",
       "      <td>0</td>\n",
       "      <td>0</td>\n",
       "      <td>0</td>\n",
       "      <td>0</td>\n",
       "      <td>0</td>\n",
       "      <td>1</td>\n",
       "    </tr>\n",
       "  </tbody>\n",
       "</table>\n",
       "</div>"
      ],
      "text/plain": [
       "                                               group_code  statespond  ccode  \\\n",
       "group                                 country                                  \n",
       "Animal Liberation Front (ALF)         US               50           0      2   \n",
       "Army of God                           US               89           0      2   \n",
       "Cambodian Freedom Fighters (CFF)      US              113           0      2   \n",
       "Coalition to Save the Preserves (CSP) US              126           0      2   \n",
       "Earth Liberation Front (ELF)          US              153           0      2   \n",
       "\n",
       "                                               fatalities  OrgAge  ordsize  \\\n",
       "group                                 country                                \n",
       "Animal Liberation Front (ALF)         US                0      30        0   \n",
       "Army of God                           US                1      24        0   \n",
       "Cambodian Freedom Fighters (CFF)      US                0       8        0   \n",
       "Coalition to Save the Preserves (CSP) US                0       6        0   \n",
       "Earth Liberation Front (ELF)          US                0      14        0   \n",
       "\n",
       "                                               terrStrong  degree  \\\n",
       "group                                 country                       \n",
       "Animal Liberation Front (ALF)         US            -77.0       1   \n",
       "Army of God                           US              0.0       0   \n",
       "Cambodian Freedom Fighters (CFF)      US              0.0       0   \n",
       "Coalition to Save the Preserves (CSP) US              0.0       0   \n",
       "Earth Liberation Front (ELF)          US            -77.0       1   \n",
       "\n",
       "                                               ContainRelig  ContainEthno  \\\n",
       "group                                 country                               \n",
       "Animal Liberation Front (ALF)         US                  0             0   \n",
       "Army of God                           US                  1             0   \n",
       "Cambodian Freedom Fighters (CFF)      US                  0             1   \n",
       "Coalition to Save the Preserves (CSP) US                  0             0   \n",
       "Earth Liberation Front (ELF)          US                  0             0   \n",
       "\n",
       "                                               LeftNoReligEthno  PureRelig  \\\n",
       "group                                 country                                \n",
       "Animal Liberation Front (ALF)         US                      0          0   \n",
       "Army of God                           US                      0          1   \n",
       "Cambodian Freedom Fighters (CFF)      US                      0          0   \n",
       "Coalition to Save the Preserves (CSP) US                      0          0   \n",
       "Earth Liberation Front (ELF)          US                      0          0   \n",
       "\n",
       "                                               PureEthno  ReligEthno  \\\n",
       "group                                 country                          \n",
       "Animal Liberation Front (ALF)         US               0           0   \n",
       "Army of God                           US               0           0   \n",
       "Cambodian Freedom Fighters (CFF)      US               0           0   \n",
       "Coalition to Save the Preserves (CSP) US               0           0   \n",
       "Earth Liberation Front (ELF)          US               0           0   \n",
       "\n",
       "                                               ContainRelig2  ContainEthno2  \\\n",
       "group                                 country                                 \n",
       "Animal Liberation Front (ALF)         US                   0              0   \n",
       "Army of God                           US                   1              0   \n",
       "Cambodian Freedom Fighters (CFF)      US                   0              1   \n",
       "Coalition to Save the Preserves (CSP) US                   0              0   \n",
       "Earth Liberation Front (ELF)          US                   0              0   \n",
       "\n",
       "                                               Islam  big  \n",
       "group                                 country              \n",
       "Animal Liberation Front (ALF)         US           0    1  \n",
       "Army of God                           US           0    0  \n",
       "Cambodian Freedom Fighters (CFF)      US           0    0  \n",
       "Coalition to Save the Preserves (CSP) US           0    0  \n",
       "Earth Liberation Front (ELF)          US           0    1  "
      ]
     },
     "execution_count": 64,
     "metadata": {},
     "output_type": "execute_result"
    }
   ],
   "source": [
    "baad_covars.set_index(['group','country'],inplace = True)\n",
    "baad_covars.head()"
   ]
  },
  {
   "cell_type": "markdown",
   "metadata": {
    "slideshow": {
     "slide_type": "slide"
    }
   },
   "source": [
    "# Did you get an error? \n",
    "* Don't forget to reset the index first! \n",
    "* Go ahead and change it back for the next step."
   ]
  },
  {
   "cell_type": "markdown",
   "metadata": {
    "slideshow": {
     "slide_type": "slide"
    }
   },
   "source": [
    "# Using the new index, make a new dataframe\n",
    "* Note the new slicing operator for multi-index"
   ]
  },
  {
   "cell_type": "code",
   "execution_count": 65,
   "metadata": {
    "slideshow": {
     "slide_type": "fragment"
    }
   },
   "outputs": [
    {
     "data": {
      "text/html": [
       "<div>\n",
       "<style scoped>\n",
       "    .dataframe tbody tr th:only-of-type {\n",
       "        vertical-align: middle;\n",
       "    }\n",
       "\n",
       "    .dataframe tbody tr th {\n",
       "        vertical-align: top;\n",
       "    }\n",
       "\n",
       "    .dataframe thead th {\n",
       "        text-align: right;\n",
       "    }\n",
       "</style>\n",
       "<table border=\"1\" class=\"dataframe\">\n",
       "  <thead>\n",
       "    <tr style=\"text-align: right;\">\n",
       "      <th></th>\n",
       "      <th></th>\n",
       "      <th>degree</th>\n",
       "      <th>ContainRelig</th>\n",
       "      <th>ContainEthno</th>\n",
       "      <th>terrStrong</th>\n",
       "      <th>ordsize</th>\n",
       "      <th>OrgAge</th>\n",
       "    </tr>\n",
       "    <tr>\n",
       "      <th>group</th>\n",
       "      <th>country</th>\n",
       "      <th></th>\n",
       "      <th></th>\n",
       "      <th></th>\n",
       "      <th></th>\n",
       "      <th></th>\n",
       "      <th></th>\n",
       "    </tr>\n",
       "  </thead>\n",
       "  <tbody>\n",
       "    <tr>\n",
       "      <th>Free Aceh Movement (GAM)</th>\n",
       "      <th>Indonesia</th>\n",
       "      <td>1</td>\n",
       "      <td>1</td>\n",
       "      <td>1</td>\n",
       "      <td>-77.0</td>\n",
       "      <td>2</td>\n",
       "      <td>31</td>\n",
       "    </tr>\n",
       "    <tr>\n",
       "      <th>Jemaah Islamiya (JI)</th>\n",
       "      <th>Indonesia</th>\n",
       "      <td>2</td>\n",
       "      <td>1</td>\n",
       "      <td>0</td>\n",
       "      <td>-77.0</td>\n",
       "      <td>1</td>\n",
       "      <td>13</td>\n",
       "    </tr>\n",
       "    <tr>\n",
       "      <th>Laskar Jihad</th>\n",
       "      <th>Indonesia</th>\n",
       "      <td>3</td>\n",
       "      <td>1</td>\n",
       "      <td>1</td>\n",
       "      <td>-77.0</td>\n",
       "      <td>0</td>\n",
       "      <td>6</td>\n",
       "    </tr>\n",
       "    <tr>\n",
       "      <th>South Maluku Republic (RMS)</th>\n",
       "      <th>Indonesia</th>\n",
       "      <td>0</td>\n",
       "      <td>0</td>\n",
       "      <td>1</td>\n",
       "      <td>-77.0</td>\n",
       "      <td>2</td>\n",
       "      <td>8</td>\n",
       "    </tr>\n",
       "  </tbody>\n",
       "</table>\n",
       "</div>"
      ],
      "text/plain": [
       "                                       degree  ContainRelig  ContainEthno  \\\n",
       "group                       country                                         \n",
       "Free Aceh Movement (GAM)    Indonesia       1             1             1   \n",
       "Jemaah Islamiya (JI)        Indonesia       2             1             0   \n",
       "Laskar Jihad                Indonesia       3             1             1   \n",
       "South Maluku Republic (RMS) Indonesia       0             0             1   \n",
       "\n",
       "                                       terrStrong  ordsize  OrgAge  \n",
       "group                       country                                 \n",
       "Free Aceh Movement (GAM)    Indonesia       -77.0        2      31  \n",
       "Jemaah Islamiya (JI)        Indonesia       -77.0        1      13  \n",
       "Laskar Jihad                Indonesia       -77.0        0       6  \n",
       "South Maluku Republic (RMS) Indonesia       -77.0        2       8  "
      ]
     },
     "execution_count": 65,
     "metadata": {},
     "output_type": "execute_result"
    }
   ],
   "source": [
    "indonesia_grps = baad_covars.xs('Indonesia',level = 'country',drop_level=False)\n",
    "indonesia_grps = indonesia_grps.loc[indonesia_grps.fatalities>=1,['degree','ContainRelig',\n",
    "                                            'ContainEthno','terrStrong',\n",
    "                                            'ordsize','OrgAge']]\n",
    "indonesia_grps.head()"
   ]
  },
  {
   "cell_type": "markdown",
   "metadata": {
    "slideshow": {
     "slide_type": "slide"
    }
   },
   "source": [
    "# Warning: Making copies\n",
    "* If you set a variable as equal to an object, Python creates a reference rather than copying the whole object. More efficient, unless you really want to make a copy"
   ]
  },
  {
   "cell_type": "code",
   "execution_count": 137,
   "metadata": {
    "slideshow": {
     "slide_type": "fragment"
    }
   },
   "outputs": [
    {
     "name": "stdout",
     "output_type": "stream",
     "text": [
      "before:\n",
      "   A  B\n",
      "0  1  0\n",
      "1  2  1\n",
      "2  3  0\n",
      "3  4  1\n",
      "4  5  1\n",
      "after\n",
      "   A         B\n",
      "0  1         0\n",
      "1  2         1\n",
      "2  3  Sandwich\n",
      "3  4         1\n",
      "4  5         1\n"
     ]
    }
   ],
   "source": [
    "little_df = pd.DataFrame([1,2,3,4,5],columns = ['A'])\n",
    "little_df['B']=[0,1,0,1,1]\n",
    "copied_df = little_df\n",
    "print('before:')\n",
    "print(copied_df)\n",
    "little_df.loc[little_df.A == 3,'B'] = 'Sandwich'\n",
    "print('after')\n",
    "print(copied_df)"
   ]
  },
  {
   "cell_type": "markdown",
   "metadata": {
    "slideshow": {
     "slide_type": "slide"
    }
   },
   "source": [
    "# What happened?\n",
    "* copied_df changed when little_df changed. \n",
    "* Let's fix that: import \"copy\""
   ]
  },
  {
   "cell_type": "code",
   "execution_count": 139,
   "metadata": {
    "slideshow": {
     "slide_type": "fragment"
    }
   },
   "outputs": [
    {
     "name": "stdout",
     "output_type": "stream",
     "text": [
      "before:\n",
      "   A  B\n",
      "0  1  0\n",
      "1  2  1\n",
      "2  3  0\n",
      "3  4  1\n",
      "4  5  1\n",
      "after\n",
      "   A  B\n",
      "0  1  0\n",
      "1  2  1\n",
      "2  3  0\n",
      "3  4  1\n",
      "4  5  1\n"
     ]
    }
   ],
   "source": [
    "import copy\n",
    "little_df = pd.DataFrame([1,2,3,4,5],columns = ['A'])\n",
    "little_df['B']=[0,1,0,1,1]\n",
    "copied_df = little_df.copy()\n",
    "print('before:')\n",
    "print(copied_df)\n",
    "little_df.loc[little_df.A == 3,'B'] = 'Sandwich'\n",
    "print('after')\n",
    "print(copied_df)"
   ]
  },
  {
   "cell_type": "markdown",
   "metadata": {
    "slideshow": {
     "slide_type": "slide"
    }
   },
   "source": [
    "# Merging and Concatenating\n",
    "\n",
    "* Merges automatically if shared index"
   ]
  },
  {
   "cell_type": "code",
   "execution_count": 140,
   "metadata": {
    "slideshow": {
     "slide_type": "fragment"
    }
   },
   "outputs": [
    {
     "data": {
      "text/html": [
       "<div>\n",
       "<style scoped>\n",
       "    .dataframe tbody tr th:only-of-type {\n",
       "        vertical-align: middle;\n",
       "    }\n",
       "\n",
       "    .dataframe tbody tr th {\n",
       "        vertical-align: top;\n",
       "    }\n",
       "\n",
       "    .dataframe thead th {\n",
       "        text-align: right;\n",
       "    }\n",
       "</style>\n",
       "<table border=\"1\" class=\"dataframe\">\n",
       "  <thead>\n",
       "    <tr style=\"text-align: right;\">\n",
       "      <th></th>\n",
       "      <th>A</th>\n",
       "      <th>B</th>\n",
       "      <th>C</th>\n",
       "    </tr>\n",
       "  </thead>\n",
       "  <tbody>\n",
       "    <tr>\n",
       "      <th>0</th>\n",
       "      <td>1</td>\n",
       "      <td>0</td>\n",
       "      <td>pear</td>\n",
       "    </tr>\n",
       "    <tr>\n",
       "      <th>1</th>\n",
       "      <td>2</td>\n",
       "      <td>1</td>\n",
       "      <td>banana</td>\n",
       "    </tr>\n",
       "    <tr>\n",
       "      <th>2</th>\n",
       "      <td>3</td>\n",
       "      <td>Sandwich</td>\n",
       "      <td>apple</td>\n",
       "    </tr>\n",
       "    <tr>\n",
       "      <th>3</th>\n",
       "      <td>4</td>\n",
       "      <td>1</td>\n",
       "      <td>grape</td>\n",
       "    </tr>\n",
       "    <tr>\n",
       "      <th>4</th>\n",
       "      <td>5</td>\n",
       "      <td>1</td>\n",
       "      <td>orange</td>\n",
       "    </tr>\n",
       "  </tbody>\n",
       "</table>\n",
       "</div>"
      ],
      "text/plain": [
       "   A         B       C\n",
       "0  1         0    pear\n",
       "1  2         1  banana\n",
       "2  3  Sandwich   apple\n",
       "3  4         1   grape\n",
       "4  5         1  orange"
      ]
     },
     "execution_count": 140,
     "metadata": {},
     "output_type": "execute_result"
    }
   ],
   "source": [
    "C = pd.DataFrame(['apple','orange','grape','pear','banana'],\n",
    "                 columns = ['C'],\n",
    "                 index = [2,4,3,0,1])\n",
    "little_df['C'] = C\n",
    "little_df"
   ]
  },
  {
   "cell_type": "markdown",
   "metadata": {
    "slideshow": {
     "slide_type": "slide"
    }
   },
   "source": [
    "### Joins\n",
    "* Same as SQL, inner and outer"
   ]
  },
  {
   "cell_type": "code",
   "execution_count": 141,
   "metadata": {
    "slideshow": {
     "slide_type": "fragment"
    }
   },
   "outputs": [
    {
     "name": "stdout",
     "output_type": "stream",
     "text": [
      "C:\n",
      "        C     cuts\n",
      "2   apple   slices\n",
      "4  orange   wedges\n",
      "3   grape    whole\n",
      "a   apple  spirals\n",
      "Inner: Intersection\n",
      "   A         B     C_x     C_y    cuts\n",
      "2  3  Sandwich   apple   apple  slices\n",
      "3  4         1   grape   grape   whole\n",
      "4  5         1  orange  orange  wedges\n",
      "Outer: Keep all rows\n",
      "     A         B     C_x     C_y     cuts\n",
      "0  1.0         0    pear     NaN      NaN\n",
      "1  2.0         1  banana     NaN      NaN\n",
      "2  3.0  Sandwich   apple   apple   slices\n",
      "3  4.0         1   grape   grape    whole\n",
      "4  5.0         1  orange  orange   wedges\n",
      "a  NaN       NaN     NaN   apple  spirals\n",
      "Left: Keep little_df\n",
      "   A         B     C_x     C_y    cuts\n",
      "0  1         0    pear     NaN     NaN\n",
      "1  2         1  banana     NaN     NaN\n",
      "2  3  Sandwich   apple   apple  slices\n",
      "3  4         1   grape   grape   whole\n",
      "4  5         1  orange  orange  wedges\n",
      "Right: Keep C\n",
      "     A         B     C_x     C_y     cuts\n",
      "2  3.0  Sandwich   apple   apple   slices\n",
      "4  5.0         1  orange  orange   wedges\n",
      "3  4.0         1   grape   grape    whole\n",
      "a  NaN       NaN     NaN   apple  spirals\n",
      "Outer, merging on column instead of index\n",
      "   A         B       C     cuts\n",
      "0  1         0    pear      NaN\n",
      "1  2         1  banana      NaN\n",
      "2  3  Sandwich   apple   slices\n",
      "3  3  Sandwich   apple  spirals\n",
      "4  4         1   grape    whole\n",
      "5  5         1  orange   wedges\n"
     ]
    },
    {
     "name": "stderr",
     "output_type": "stream",
     "text": [
      "/opt/conda/lib/python3.6/site-packages/pandas/core/indexes/base.py:3772: RuntimeWarning: '<' not supported between instances of 'int' and 'str', sort order is undefined for incomparable objects\n",
      "  return this.join(other, how=how, return_indexers=return_indexers)\n"
     ]
    }
   ],
   "source": [
    "C = pd.DataFrame(['apple','orange','grape','apple'],\n",
    "                 columns = ['C'],\n",
    "                 index = [2,4,3,'a'])\n",
    "C['cuts']=['slices','wedges','whole','spirals']\n",
    "print('C:')\n",
    "print(C)\n",
    "print('Inner: Intersection')\n",
    "print(little_df.merge(right=C,\n",
    "                how='inner',\n",
    "                on=None,\n",
    "                left_index = True,\n",
    "                right_index =True))\n",
    "print('Outer: Keep all rows')\n",
    "print(little_df.merge(right=C,\n",
    "                how='outer',\n",
    "                on=None,\n",
    "                left_index = True,\n",
    "                right_index =True))\n",
    "\n",
    "print('Left: Keep little_df')\n",
    "print(little_df.merge(right=C,\n",
    "                how='left',\n",
    "                on=None,\n",
    "                left_index = True,\n",
    "                right_index =True))\n",
    "print('Right: Keep C')\n",
    "print(little_df.merge(right=C,\n",
    "                how='right',\n",
    "                on=None,\n",
    "                left_index = True,\n",
    "                right_index =True))\n",
    "\n",
    "print('Outer, merging on column instead of index')\n",
    "print(little_df.merge(right=C,\n",
    "                how='outer',\n",
    "                on='C',\n",
    "                left_index = False,\n",
    "                right_index =False))"
   ]
  },
  {
   "cell_type": "markdown",
   "metadata": {
    "slideshow": {
     "slide_type": "slide"
    }
   },
   "source": [
    "### Concatenate\n",
    "* Stack dataframes on top of one another\n",
    "* Stack dataframes beside one another"
   ]
  },
  {
   "cell_type": "code",
   "execution_count": 142,
   "metadata": {
    "slideshow": {
     "slide_type": "fragment"
    }
   },
   "outputs": [
    {
     "data": {
      "text/html": [
       "<div>\n",
       "<style scoped>\n",
       "    .dataframe tbody tr th:only-of-type {\n",
       "        vertical-align: middle;\n",
       "    }\n",
       "\n",
       "    .dataframe tbody tr th {\n",
       "        vertical-align: top;\n",
       "    }\n",
       "\n",
       "    .dataframe thead th {\n",
       "        text-align: right;\n",
       "    }\n",
       "</style>\n",
       "<table border=\"1\" class=\"dataframe\">\n",
       "  <thead>\n",
       "    <tr style=\"text-align: right;\">\n",
       "      <th></th>\n",
       "      <th>A</th>\n",
       "      <th>B</th>\n",
       "      <th>C</th>\n",
       "    </tr>\n",
       "  </thead>\n",
       "  <tbody>\n",
       "    <tr>\n",
       "      <th>0</th>\n",
       "      <td>1</td>\n",
       "      <td>0</td>\n",
       "      <td>pear</td>\n",
       "    </tr>\n",
       "    <tr>\n",
       "      <th>1</th>\n",
       "      <td>2</td>\n",
       "      <td>1</td>\n",
       "      <td>banana</td>\n",
       "    </tr>\n",
       "    <tr>\n",
       "      <th>2</th>\n",
       "      <td>3</td>\n",
       "      <td>Sandwich</td>\n",
       "      <td>apple</td>\n",
       "    </tr>\n",
       "    <tr>\n",
       "      <th>3</th>\n",
       "      <td>4</td>\n",
       "      <td>1</td>\n",
       "      <td>grape</td>\n",
       "    </tr>\n",
       "    <tr>\n",
       "      <th>4</th>\n",
       "      <td>5</td>\n",
       "      <td>1</td>\n",
       "      <td>orange</td>\n",
       "    </tr>\n",
       "    <tr>\n",
       "      <th>p</th>\n",
       "      <td>6</td>\n",
       "      <td>7</td>\n",
       "      <td>peach</td>\n",
       "    </tr>\n",
       "  </tbody>\n",
       "</table>\n",
       "</div>"
      ],
      "text/plain": [
       "   A         B       C\n",
       "0  1         0    pear\n",
       "1  2         1  banana\n",
       "2  3  Sandwich   apple\n",
       "3  4         1   grape\n",
       "4  5         1  orange\n",
       "p  6         7   peach"
      ]
     },
     "execution_count": 142,
     "metadata": {},
     "output_type": "execute_result"
    }
   ],
   "source": [
    "add_df = pd.DataFrame({'A':[6],'B':[7],'C':'peach'},index= ['p'])\n",
    "little_df = pd.concat([little_df,add_df])\n",
    "little_df"
   ]
  },
  {
   "cell_type": "markdown",
   "metadata": {
    "slideshow": {
     "slide_type": "slide"
    }
   },
   "source": [
    "# Some New Messy Data: Asthma by Zip Code\n",
    "* From California Health and Human Services <br>\n",
    "https://data.chhs.ca.gov/dataset/asthma-emergency-department-visit-rates-by-zip-code\n",
    "* Note: old version of data"
   ]
  },
  {
   "cell_type": "code",
   "execution_count": 107,
   "metadata": {
    "slideshow": {
     "slide_type": "fragment"
    }
   },
   "outputs": [
    {
     "data": {
      "text/html": [
       "<div>\n",
       "<style scoped>\n",
       "    .dataframe tbody tr th:only-of-type {\n",
       "        vertical-align: middle;\n",
       "    }\n",
       "\n",
       "    .dataframe tbody tr th {\n",
       "        vertical-align: top;\n",
       "    }\n",
       "\n",
       "    .dataframe thead th {\n",
       "        text-align: right;\n",
       "    }\n",
       "</style>\n",
       "<table border=\"1\" class=\"dataframe\">\n",
       "  <thead>\n",
       "    <tr style=\"text-align: right;\">\n",
       "      <th></th>\n",
       "      <th>Year</th>\n",
       "      <th>ZIP code</th>\n",
       "      <th>Age Group</th>\n",
       "      <th>Number of Visits</th>\n",
       "      <th>Age-adjusted rate</th>\n",
       "      <th>County Fips code</th>\n",
       "      <th>County</th>\n",
       "    </tr>\n",
       "  </thead>\n",
       "  <tbody>\n",
       "    <tr>\n",
       "      <th>0</th>\n",
       "      <td>2015</td>\n",
       "      <td>90004\\n(34.07646, -118.309453)</td>\n",
       "      <td>Children (0-17)</td>\n",
       "      <td>117.0</td>\n",
       "      <td>91.7</td>\n",
       "      <td>6037</td>\n",
       "      <td>LOS ANGELES</td>\n",
       "    </tr>\n",
       "    <tr>\n",
       "      <th>1</th>\n",
       "      <td>2015</td>\n",
       "      <td>90011\\n(34.007055, -118.258872)</td>\n",
       "      <td>Children (0-17)</td>\n",
       "      <td>381.0</td>\n",
       "      <td>102.8</td>\n",
       "      <td>6037</td>\n",
       "      <td>LOS ANGELES</td>\n",
       "    </tr>\n",
       "  </tbody>\n",
       "</table>\n",
       "</div>"
      ],
      "text/plain": [
       "   Year                         ZIP code        Age Group  Number of Visits  \\\n",
       "0  2015   90004\\n(34.07646, -118.309453)  Children (0-17)             117.0   \n",
       "1  2015  90011\\n(34.007055, -118.258872)  Children (0-17)             381.0   \n",
       "\n",
       "   Age-adjusted rate  County Fips code       County  \n",
       "0               91.7              6037  LOS ANGELES  \n",
       "1              102.8              6037  LOS ANGELES  "
      ]
     },
     "execution_count": 107,
     "metadata": {},
     "output_type": "execute_result"
    }
   ],
   "source": [
    "asthma_data = pd.read_csv('asthma-emergency-department-visit-rates-by-zip-code.csv')\n",
    "asthma_data.head(2)"
   ]
  },
  {
   "cell_type": "markdown",
   "metadata": {
    "slideshow": {
     "slide_type": "subslide"
    }
   },
   "source": [
    "### Look at those zip codes!"
   ]
  },
  {
   "cell_type": "markdown",
   "metadata": {
    "slideshow": {
     "slide_type": "slide"
    }
   },
   "source": [
    "# Clean Zip Code\n",
    "* We don't need the latitude and longitude\n",
    "* Create two variables by splitting the zip code variable: \n",
    "    * index the data frame to the zip code variable\n",
    "    * split it in two: https://pandas.pydata.org/pandas-docs/stable/generated/pandas.Series.str.split.html\n",
    "    * assign it to another two variables\n",
    "* Remember: can't run this cell twice without starting over"
   ]
  },
  {
   "cell_type": "code",
   "execution_count": 108,
   "metadata": {
    "slideshow": {
     "slide_type": "fragment"
    }
   },
   "outputs": [
    {
     "data": {
      "text/html": [
       "<div>\n",
       "<style scoped>\n",
       "    .dataframe tbody tr th:only-of-type {\n",
       "        vertical-align: middle;\n",
       "    }\n",
       "\n",
       "    .dataframe tbody tr th {\n",
       "        vertical-align: top;\n",
       "    }\n",
       "\n",
       "    .dataframe thead th {\n",
       "        text-align: right;\n",
       "    }\n",
       "</style>\n",
       "<table border=\"1\" class=\"dataframe\">\n",
       "  <thead>\n",
       "    <tr style=\"text-align: right;\">\n",
       "      <th></th>\n",
       "      <th>Year</th>\n",
       "      <th>Age Group</th>\n",
       "      <th>Number of Visits</th>\n",
       "      <th>Age-adjusted rate</th>\n",
       "      <th>County Fips code</th>\n",
       "      <th>County</th>\n",
       "      <th>zip</th>\n",
       "      <th>coordinates</th>\n",
       "    </tr>\n",
       "  </thead>\n",
       "  <tbody>\n",
       "    <tr>\n",
       "      <th>0</th>\n",
       "      <td>2015</td>\n",
       "      <td>Children (0-17)</td>\n",
       "      <td>117.0</td>\n",
       "      <td>91.7</td>\n",
       "      <td>6037</td>\n",
       "      <td>LOS ANGELES</td>\n",
       "      <td>90004</td>\n",
       "      <td>(34.07646, -118.309453)</td>\n",
       "    </tr>\n",
       "    <tr>\n",
       "      <th>1</th>\n",
       "      <td>2015</td>\n",
       "      <td>Children (0-17)</td>\n",
       "      <td>381.0</td>\n",
       "      <td>102.8</td>\n",
       "      <td>6037</td>\n",
       "      <td>LOS ANGELES</td>\n",
       "      <td>90011</td>\n",
       "      <td>(34.007055, -118.258872)</td>\n",
       "    </tr>\n",
       "  </tbody>\n",
       "</table>\n",
       "</div>"
      ],
      "text/plain": [
       "   Year        Age Group  Number of Visits  Age-adjusted rate  \\\n",
       "0  2015  Children (0-17)             117.0               91.7   \n",
       "1  2015  Children (0-17)             381.0              102.8   \n",
       "\n",
       "   County Fips code       County    zip               coordinates  \n",
       "0              6037  LOS ANGELES  90004   (34.07646, -118.309453)  \n",
       "1              6037  LOS ANGELES  90011  (34.007055, -118.258872)  "
      ]
     },
     "execution_count": 108,
     "metadata": {},
     "output_type": "execute_result"
    }
   ],
   "source": [
    "asthma_data[['zip','coordinates']] = asthma_data.loc[:,'ZIP code'].str.split(\n",
    "                                                        pat='\\n',expand=True)\n",
    "asthma_data.drop('ZIP code', axis=1,inplace=True)\n",
    "asthma_data.head(2)"
   ]
  },
  {
   "cell_type": "markdown",
   "metadata": {
    "slideshow": {
     "slide_type": "slide"
    }
   },
   "source": [
    "# Rearrange The Data: Group By\n",
    "* Make child and adult separate columns rather than rows. \n",
    "* Must specify how to aggregate the columns <br>\n",
    "https://pandas.pydata.org/pandas-docs/stable/generated/pandas.DataFrame.groupby.html"
   ]
  },
  {
   "cell_type": "code",
   "execution_count": 109,
   "metadata": {
    "slideshow": {
     "slide_type": "fragment"
    }
   },
   "outputs": [
    {
     "data": {
      "text/html": [
       "<div>\n",
       "<style scoped>\n",
       "    .dataframe tbody tr th:only-of-type {\n",
       "        vertical-align: middle;\n",
       "    }\n",
       "\n",
       "    .dataframe tbody tr th {\n",
       "        vertical-align: top;\n",
       "    }\n",
       "\n",
       "    .dataframe thead th {\n",
       "        text-align: right;\n",
       "    }\n",
       "</style>\n",
       "<table border=\"1\" class=\"dataframe\">\n",
       "  <thead>\n",
       "    <tr style=\"text-align: right;\">\n",
       "      <th></th>\n",
       "      <th></th>\n",
       "      <th>Number of Visits</th>\n",
       "      <th>Age-adjusted rate</th>\n",
       "      <th>County Fips code</th>\n",
       "    </tr>\n",
       "    <tr>\n",
       "      <th>Year</th>\n",
       "      <th>zip</th>\n",
       "      <th></th>\n",
       "      <th></th>\n",
       "      <th></th>\n",
       "    </tr>\n",
       "  </thead>\n",
       "  <tbody>\n",
       "    <tr>\n",
       "      <th rowspan=\"4\" valign=\"top\">2009</th>\n",
       "      <th>90001</th>\n",
       "      <td>818.0</td>\n",
       "      <td>226.074245</td>\n",
       "      <td>18111</td>\n",
       "    </tr>\n",
       "    <tr>\n",
       "      <th>90002</th>\n",
       "      <td>836.0</td>\n",
       "      <td>265.349315</td>\n",
       "      <td>18111</td>\n",
       "    </tr>\n",
       "    <tr>\n",
       "      <th>90003</th>\n",
       "      <td>1542.0</td>\n",
       "      <td>369.202131</td>\n",
       "      <td>18111</td>\n",
       "    </tr>\n",
       "    <tr>\n",
       "      <th>90004</th>\n",
       "      <td>580.0</td>\n",
       "      <td>145.538276</td>\n",
       "      <td>18111</td>\n",
       "    </tr>\n",
       "  </tbody>\n",
       "</table>\n",
       "</div>"
      ],
      "text/plain": [
       "            Number of Visits  Age-adjusted rate  County Fips code\n",
       "Year zip                                                         \n",
       "2009 90001             818.0         226.074245             18111\n",
       "     90002             836.0         265.349315             18111\n",
       "     90003            1542.0         369.202131             18111\n",
       "     90004             580.0         145.538276             18111"
      ]
     },
     "execution_count": 109,
     "metadata": {},
     "output_type": "execute_result"
    }
   ],
   "source": [
    "asthma_grouped = asthma_data.groupby(by=['Year','zip']).sum()\n",
    "asthma_grouped.head(4)"
   ]
  },
  {
   "cell_type": "markdown",
   "metadata": {
    "slideshow": {
     "slide_type": "subslide"
    }
   },
   "source": [
    "### Lost Columns!  Fips summed!"
   ]
  },
  {
   "cell_type": "markdown",
   "metadata": {
    "slideshow": {
     "slide_type": "slide"
    }
   },
   "source": [
    "# Group by: Cleaning Up\n",
    " * Lost columns you can't sum\n",
    " * took sum of fips\n",
    " * Must add these back in\n",
    " * Works because temp table has same index"
   ]
  },
  {
   "cell_type": "code",
   "execution_count": 110,
   "metadata": {
    "slideshow": {
     "slide_type": "fragment"
    }
   },
   "outputs": [
    {
     "data": {
      "text/html": [
       "<div>\n",
       "<style scoped>\n",
       "    .dataframe tbody tr th:only-of-type {\n",
       "        vertical-align: middle;\n",
       "    }\n",
       "\n",
       "    .dataframe tbody tr th {\n",
       "        vertical-align: top;\n",
       "    }\n",
       "\n",
       "    .dataframe thead th {\n",
       "        text-align: right;\n",
       "    }\n",
       "</style>\n",
       "<table border=\"1\" class=\"dataframe\">\n",
       "  <thead>\n",
       "    <tr style=\"text-align: right;\">\n",
       "      <th></th>\n",
       "      <th></th>\n",
       "      <th>Number of Visits</th>\n",
       "      <th>Age-adjusted rate</th>\n",
       "      <th>fips</th>\n",
       "      <th>county</th>\n",
       "      <th>coordinates</th>\n",
       "    </tr>\n",
       "    <tr>\n",
       "      <th>Year</th>\n",
       "      <th>zip</th>\n",
       "      <th></th>\n",
       "      <th></th>\n",
       "      <th></th>\n",
       "      <th></th>\n",
       "      <th></th>\n",
       "    </tr>\n",
       "  </thead>\n",
       "  <tbody>\n",
       "    <tr>\n",
       "      <th rowspan=\"2\" valign=\"top\">2009</th>\n",
       "      <th>90001</th>\n",
       "      <td>409.0</td>\n",
       "      <td>226.074245</td>\n",
       "      <td>6037</td>\n",
       "      <td>LOS ANGELES</td>\n",
       "      <td>(33.973252, -118.249154)</td>\n",
       "    </tr>\n",
       "    <tr>\n",
       "      <th>90002</th>\n",
       "      <td>418.0</td>\n",
       "      <td>265.349315</td>\n",
       "      <td>6037</td>\n",
       "      <td>LOS ANGELES</td>\n",
       "      <td>(33.949079, -118.247877)</td>\n",
       "    </tr>\n",
       "  </tbody>\n",
       "</table>\n",
       "</div>"
      ],
      "text/plain": [
       "            Number of Visits  Age-adjusted rate  fips       county  \\\n",
       "Year zip                                                             \n",
       "2009 90001             409.0         226.074245  6037  LOS ANGELES   \n",
       "     90002             418.0         265.349315  6037  LOS ANGELES   \n",
       "\n",
       "                         coordinates  \n",
       "Year zip                              \n",
       "2009 90001  (33.973252, -118.249154)  \n",
       "     90002  (33.949079, -118.247877)  "
      ]
     },
     "execution_count": 110,
     "metadata": {},
     "output_type": "execute_result"
    }
   ],
   "source": [
    "asthma_grouped.drop('County Fips code',axis=1,inplace=True)\n",
    "temp_grp = asthma_data.groupby(by=['Year','zip']).first()\n",
    "asthma_grouped[['fips',\n",
    "                'county',\n",
    "                'coordinates']]=temp_grp.loc[:,['County Fips code',\n",
    "                                                'County',\n",
    "                                                'coordinates']].copy()\n",
    "asthma_grouped.loc[:,'Number of Visits']=\\\n",
    "        asthma_grouped.loc[:,'Number of Visits']/2\n",
    "asthma_grouped.head(2)"
   ]
  },
  {
   "cell_type": "markdown",
   "metadata": {
    "slideshow": {
     "slide_type": "slide"
    }
   },
   "source": [
    "# Rearrange The Data: Pivot\n",
    "* Use pivot and melt to to move from row identifiers to column identifiers and back <br>\n",
    "https://pandas.pydata.org/pandas-docs/stable/reshaping.html#reshaping-by-melt\n",
    "* Tell computer what to do with every cell:\n",
    " * Index: Stays the same\n",
    " * Columns: The column containing the new column labels\n",
    " * Values: The column containing values to insert\n",
    "<img src='pivot.png'>"
   ]
  },
  {
   "cell_type": "markdown",
   "metadata": {
    "slideshow": {
     "slide_type": "slide"
    }
   },
   "source": [
    "# Rearrange The Data: Pivot\n",
    "* Tell computer what to do with every cell:\n",
    " * Index: Stays the same\n",
    " * Columns: The column containing the new column labels\n",
    " * Values: The column containing values to insert\n"
   ]
  },
  {
   "cell_type": "code",
   "execution_count": 111,
   "metadata": {
    "slideshow": {
     "slide_type": "fragment"
    }
   },
   "outputs": [
    {
     "data": {
      "text/html": [
       "<div>\n",
       "<style scoped>\n",
       "    .dataframe tbody tr th:only-of-type {\n",
       "        vertical-align: middle;\n",
       "    }\n",
       "\n",
       "    .dataframe tbody tr th {\n",
       "        vertical-align: top;\n",
       "    }\n",
       "\n",
       "    .dataframe thead th {\n",
       "        text-align: right;\n",
       "    }\n",
       "</style>\n",
       "<table border=\"1\" class=\"dataframe\">\n",
       "  <thead>\n",
       "    <tr style=\"text-align: right;\">\n",
       "      <th>Age Group</th>\n",
       "      <th>Year</th>\n",
       "      <th>zip</th>\n",
       "      <th>County</th>\n",
       "      <th>coordinates</th>\n",
       "      <th>County Fips code</th>\n",
       "      <th>Adults (18+)</th>\n",
       "      <th>All Ages</th>\n",
       "      <th>Children (0-17)</th>\n",
       "    </tr>\n",
       "  </thead>\n",
       "  <tbody>\n",
       "    <tr>\n",
       "      <th>0</th>\n",
       "      <td>2009</td>\n",
       "      <td>90001</td>\n",
       "      <td>LOS ANGELES</td>\n",
       "      <td>(33.973252, -118.249154)</td>\n",
       "      <td>6037</td>\n",
       "      <td>206.0</td>\n",
       "      <td>409.0</td>\n",
       "      <td>203.0</td>\n",
       "    </tr>\n",
       "    <tr>\n",
       "      <th>1</th>\n",
       "      <td>2009</td>\n",
       "      <td>90002</td>\n",
       "      <td>LOS ANGELES</td>\n",
       "      <td>(33.949079, -118.247877)</td>\n",
       "      <td>6037</td>\n",
       "      <td>204.0</td>\n",
       "      <td>418.0</td>\n",
       "      <td>214.0</td>\n",
       "    </tr>\n",
       "  </tbody>\n",
       "</table>\n",
       "</div>"
      ],
      "text/plain": [
       "Age Group  Year    zip       County               coordinates  \\\n",
       "0          2009  90001  LOS ANGELES  (33.973252, -118.249154)   \n",
       "1          2009  90002  LOS ANGELES  (33.949079, -118.247877)   \n",
       "\n",
       "Age Group  County Fips code  Adults (18+)  All Ages  Children (0-17)  \n",
       "0                      6037         206.0     409.0            203.0  \n",
       "1                      6037         204.0     418.0            214.0  "
      ]
     },
     "execution_count": 111,
     "metadata": {},
     "output_type": "execute_result"
    }
   ],
   "source": [
    "asthma_unstacked = asthma_data.pivot_table(index = ['Year',\n",
    "                                                    'zip',\n",
    "                                                    'County',\n",
    "                                                    'coordinates',\n",
    "                                                    'County Fips code'], \n",
    "                                           columns = 'Age Group', \n",
    "                                           values = 'Number of Visits')\n",
    "asthma_unstacked.reset_index(drop=False,inplace=True)\n",
    "asthma_unstacked.head(2)"
   ]
  },
  {
   "cell_type": "markdown",
   "metadata": {
    "slideshow": {
     "slide_type": "slide"
    }
   },
   "source": [
    "# Rename Columns, Subset Data"
   ]
  },
  {
   "cell_type": "code",
   "execution_count": 113,
   "metadata": {
    "slideshow": {
     "slide_type": "fragment"
    }
   },
   "outputs": [
    {
     "data": {
      "text/html": [
       "<div>\n",
       "<style scoped>\n",
       "    .dataframe tbody tr th:only-of-type {\n",
       "        vertical-align: middle;\n",
       "    }\n",
       "\n",
       "    .dataframe tbody tr th {\n",
       "        vertical-align: top;\n",
       "    }\n",
       "\n",
       "    .dataframe thead th {\n",
       "        text-align: right;\n",
       "    }\n",
       "</style>\n",
       "<table border=\"1\" class=\"dataframe\">\n",
       "  <thead>\n",
       "    <tr style=\"text-align: right;\">\n",
       "      <th>Age Group</th>\n",
       "      <th>Year</th>\n",
       "      <th>Zip</th>\n",
       "      <th>County</th>\n",
       "      <th>Coordinates</th>\n",
       "      <th>Fips</th>\n",
       "      <th>Adults</th>\n",
       "      <th>Incidents</th>\n",
       "      <th>Children</th>\n",
       "    </tr>\n",
       "  </thead>\n",
       "  <tbody>\n",
       "    <tr>\n",
       "      <th>4693</th>\n",
       "      <td>2015</td>\n",
       "      <td>90001</td>\n",
       "      <td>LOS ANGELES</td>\n",
       "      <td>(33.973252, -118.249154)</td>\n",
       "      <td>6037</td>\n",
       "      <td>229.0</td>\n",
       "      <td>441.0</td>\n",
       "      <td>212.0</td>\n",
       "    </tr>\n",
       "    <tr>\n",
       "      <th>4694</th>\n",
       "      <td>2015</td>\n",
       "      <td>90002</td>\n",
       "      <td>LOS ANGELES</td>\n",
       "      <td>(33.949079, -118.247877)</td>\n",
       "      <td>6037</td>\n",
       "      <td>249.0</td>\n",
       "      <td>476.0</td>\n",
       "      <td>227.0</td>\n",
       "    </tr>\n",
       "  </tbody>\n",
       "</table>\n",
       "</div>"
      ],
      "text/plain": [
       "Age Group  Year    Zip       County               Coordinates  Fips  Adults  \\\n",
       "4693       2015  90001  LOS ANGELES  (33.973252, -118.249154)  6037   229.0   \n",
       "4694       2015  90002  LOS ANGELES  (33.949079, -118.247877)  6037   249.0   \n",
       "\n",
       "Age Group  Incidents  Children  \n",
       "4693           441.0     212.0  \n",
       "4694           476.0     227.0  "
      ]
     },
     "execution_count": 113,
     "metadata": {},
     "output_type": "execute_result"
    }
   ],
   "source": [
    "asthma_unstacked.rename(columns={\n",
    "    'zip':'Zip',\n",
    "    'coordinates':'Coordinates',\n",
    "    'County Fips code':'Fips',\n",
    "    'Adults (18+)':'Adults',\n",
    "    'All Ages':'Incidents',\n",
    "    'Children (0-17)': 'Children'\n",
    "    },\n",
    "    inplace=True)\n",
    "asthma_2015 = asthma_unstacked.loc[asthma_unstacked.Year==2015,:]\n",
    "asthma_2015.head(2)"
   ]
  },
  {
   "cell_type": "markdown",
   "metadata": {
    "slideshow": {
     "slide_type": "slide"
    }
   },
   "source": [
    "# Save Your Data"
   ]
  },
  {
   "cell_type": "markdown",
   "metadata": {
    "slideshow": {
     "slide_type": "slide"
    }
   },
   "source": [
    "# Save Your Data"
   ]
  },
  {
   "cell_type": "code",
   "execution_count": 114,
   "metadata": {
    "slideshow": {
     "slide_type": "fragment"
    }
   },
   "outputs": [],
   "source": [
    "asthma_2015.to_csv('asthma_2015.csv')"
   ]
  },
  {
   "cell_type": "markdown",
   "metadata": {
    "slideshow": {
     "slide_type": "slide"
    }
   },
   "source": [
    "# See You Next Week!\n",
    "\n",
    "<img src = \"https://media.giphy.com/media/6VWz7mToYWdDNYglYr/giphy.gif\">"
   ]
  },
  {
   "cell_type": "code",
   "execution_count": null,
   "metadata": {},
   "outputs": [],
   "source": []
  }
 ],
 "metadata": {
  "celltoolbar": "Slideshow",
  "kernelspec": {
   "display_name": "Python 3",
   "language": "python",
   "name": "python3"
  },
  "language_info": {
   "codemirror_mode": {
    "name": "ipython",
    "version": 3
   },
   "file_extension": ".py",
   "mimetype": "text/x-python",
   "name": "python",
   "nbconvert_exporter": "python",
   "pygments_lexer": "ipython3",
   "version": "3.6.3"
  }
 },
 "nbformat": 4,
 "nbformat_minor": 2
}
